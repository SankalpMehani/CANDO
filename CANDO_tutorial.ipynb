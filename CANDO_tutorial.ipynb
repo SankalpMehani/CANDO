{
  "cells": [
    {
      "cell_type": "markdown",
      "metadata": {
        "id": "view-in-github",
        "colab_type": "text"
      },
      "source": [
        "<a href=\"https://colab.research.google.com/github/SankalpMehani/CANDO/blob/master/CANDO_tutorial.ipynb\" target=\"_parent\"><img src=\"https://colab.research.google.com/assets/colab-badge.svg\" alt=\"Open In Colab\"/></a>"
      ]
    },
    {
      "cell_type": "markdown",
      "metadata": {
        "id": "eQEwKPLpIOFJ"
      },
      "source": [
        "# CANDO Tutorial\n",
        "\n",
        "This notebook will walk you through how to generate a CANDO matrix, set up a CANDO object, probe the data, benchmark the platform, and make therapeutic predictions.\n",
        "\n",
        "## ToC\n",
        "* [Introduction](#intro)\n",
        "* [Get Started](#get-started)\n",
        "* [Generate interaction matrix](#interaction-matrix)\n",
        "* [Setting up CANDO objects](#cando-object)\n",
        "* [Check data](#check-data)\n",
        "* [CANBENCHMARK](#canbenchmark)\n",
        "* [CANPREDICT](#canpredict)\n",
        "* [Machine Learning with CANDO](#ml)\n",
        "* [Custom protein subsets and signatures](#custom)\n",
        "* [Generate signatures for novel compounds](#novel)\n",
        "* [Generate a new compound library](#new-cmpd-lib)\n",
        "* [Virtual screening in CANDO](#virtual-screen)\n",
        "\n"
      ]
    },
    {
      "cell_type": "markdown",
      "metadata": {
        "id": "A_Bwp86QIOFK"
      },
      "source": [
        "<a class=\"anchor\" id=\"intro\"></a>\n",
        "## Introduction"
      ]
    },
    {
      "cell_type": "markdown",
      "metadata": {
        "id": "sM20fuR7IOFL"
      },
      "source": [
        "<a class=\"anchor\" id=\"get-started\"></a>\n",
        "## Get Started\n",
        "\n",
        "We begin by importing the cando package. Once cando has been imported we can pull the example mappings and matrix data for this tutorial, `cnd.get_tutorial()`. Lastly, for our set up, we define important variables that will be used throughout this tutorial. These variables will be explained as each becomes important for different functions."
      ]
    },
    {
      "cell_type": "code",
      "source": [
        "!pip install cando-py"
      ],
      "metadata": {
        "colab": {
          "base_uri": "https://localhost:8080/"
        },
        "id": "u7MQDKKXIbl0",
        "outputId": "9471c4fe-8c56-4a7c-979a-8af0418e3fdc"
      },
      "execution_count": 2,
      "outputs": [
        {
          "output_type": "stream",
          "name": "stdout",
          "text": [
            "Requirement already satisfied: cando-py in /usr/local/lib/python3.10/dist-packages (2.3.2)\n",
            "Requirement already satisfied: certifi==2022.6.15 in /usr/local/lib/python3.10/dist-packages (from cando-py) (2022.6.15)\n",
            "Requirement already satisfied: charset-normalizer==2.1.0 in /usr/local/lib/python3.10/dist-packages (from cando-py) (2.1.0)\n",
            "Requirement already satisfied: coverage==6.4.2 in /usr/local/lib/python3.10/dist-packages (from cando-py) (6.4.2)\n",
            "Requirement already satisfied: cycler==0.11.0 in /usr/local/lib/python3.10/dist-packages (from cando-py) (0.11.0)\n",
            "Requirement already satisfied: fonttools==4.34.4 in /usr/local/lib/python3.10/dist-packages (from cando-py) (4.34.4)\n",
            "Requirement already satisfied: idna==3.3 in /usr/local/lib/python3.10/dist-packages (from cando-py) (3.3)\n",
            "Requirement already satisfied: joblib==1.1.0 in /usr/local/lib/python3.10/dist-packages (from cando-py) (1.1.0)\n",
            "Requirement already satisfied: kiwisolver==1.4.4 in /usr/local/lib/python3.10/dist-packages (from cando-py) (1.4.4)\n",
            "Requirement already satisfied: matplotlib==3.5.2 in /usr/local/lib/python3.10/dist-packages (from cando-py) (3.5.2)\n",
            "Requirement already satisfied: numpy==1.21.6 in /usr/local/lib/python3.10/dist-packages (from cando-py) (1.21.6)\n",
            "Requirement already satisfied: packaging==21.3 in /usr/local/lib/python3.10/dist-packages (from cando-py) (21.3)\n",
            "Requirement already satisfied: pandas==1.3.5 in /usr/local/lib/python3.10/dist-packages (from cando-py) (1.3.5)\n",
            "Requirement already satisfied: Pillow==9.2.0 in /usr/local/lib/python3.10/dist-packages (from cando-py) (9.2.0)\n",
            "Requirement already satisfied: progressbar2==4.0.0 in /usr/local/lib/python3.10/dist-packages (from cando-py) (4.0.0)\n",
            "Requirement already satisfied: pyparsing==3.0.9 in /usr/local/lib/python3.10/dist-packages (from cando-py) (3.0.9)\n",
            "Requirement already satisfied: python-dateutil==2.8.2 in /usr/local/lib/python3.10/dist-packages (from cando-py) (2.8.2)\n",
            "Requirement already satisfied: python-utils==3.3.3 in /usr/local/lib/python3.10/dist-packages (from cando-py) (3.3.3)\n",
            "Requirement already satisfied: pytz==2022.1 in /usr/local/lib/python3.10/dist-packages (from cando-py) (2022.1)\n",
            "Requirement already satisfied: rdkit==2022.3.4 in /usr/local/lib/python3.10/dist-packages (from cando-py) (2022.3.4)\n",
            "Requirement already satisfied: requests==2.28.1 in /usr/local/lib/python3.10/dist-packages (from cando-py) (2.28.1)\n",
            "Requirement already satisfied: scikit-learn==1.0.2 in /usr/local/lib/python3.10/dist-packages (from cando-py) (1.0.2)\n",
            "Requirement already satisfied: scipy==1.7.3 in /usr/local/lib/python3.10/dist-packages (from cando-py) (1.7.3)\n",
            "Requirement already satisfied: six==1.16.0 in /usr/local/lib/python3.10/dist-packages (from cando-py) (1.16.0)\n",
            "Requirement already satisfied: threadpoolctl==3.1.0 in /usr/local/lib/python3.10/dist-packages (from cando-py) (3.1.0)\n",
            "Requirement already satisfied: typing-extensions==4.3.0 in /usr/local/lib/python3.10/dist-packages (from cando-py) (4.3.0)\n",
            "Requirement already satisfied: urllib3==1.26.11 in /usr/local/lib/python3.10/dist-packages (from cando-py) (1.26.11)\n"
          ]
        }
      ]
    },
    {
      "cell_type": "code",
      "execution_count": null,
      "metadata": {
        "scrolled": true,
        "colab": {
          "base_uri": "https://localhost:8080/"
        },
        "id": "TR-OW8raIOFL",
        "outputId": "cc2fd9e6-efdf-4795-d49f-a8aa2476f3f5"
      },
      "outputs": [
        {
          "output_type": "stream",
          "name": "stdout",
          "text": [
            "Downloading data for tutorial...\n"
          ]
        },
        {
          "output_type": "stream",
          "name": "stderr",
          "text": [
            "./tutorial/tutorial_matrix-all.tsv [  4.8 MB] [#############] [Time:  0:00:20] \n",
            "./tutorial/tutorial_matrix-approved.tsv [918.8 KB] [########] [Time:  0:00:03] \n",
            "./tutorial/cmpds-v2.2.tsv [739.6 KB] [######################] [Time:  0:00:03] \n",
            "./tutorial/cmpds2inds-v2.2.tsv [902.5 KB] [#################] [Time:  0:00:03] \n",
            "/usr/local/lib/python3.10/dist-packages/cando/data/v2.2+/prots/tutorial-coach.tsv [213.9 KB] [] [Time:  0:00:00] \n",
            "./tutorial/tki_set-test.smi [565.0 KB] [####################] [Time:  0:00:02] \n",
            "./tutorial/lmk235.mol [  3.9 KB] [##########################] [Time:  0:00:00] \n",
            "./tutorial/tutorial-bac-prots.txt [104.0 KB] [##############] [Time:  0:00:00] \n"
          ]
        },
        {
          "output_type": "stream",
          "name": "stdout",
          "text": [
            "All data for tutorial downloaded.\n",
            "\n",
            "Downloading data for test.0...\n"
          ]
        },
        {
          "output_type": "stream",
          "name": "stderr",
          "text": [
            "/usr/local/lib/python3.10/dist-packages/cando/data/v2.2+/mappings/drugbank-test.0.tsv [  3.3 KB] [] [Time:  0:00:00] \n",
            "/usr/local/lib/python3.10/dist-packages/cando/data/v2.2+/mappings/drugbank-test.0-approved.tsv [  2.8 KB] [] [Time:  0:00:00] \n",
            "/usr/local/lib/python3.10/dist-packages/cando/data/v2.2+/mappings/drugbank2ctd-test.0.tsv [ 22.7 KB] [] [Time:  0:00:00] \n",
            "/usr/local/lib/python3.10/dist-packages/cando/data/v2.2+/cmpds/fps-test.0/rd_ecfp4-int_vect.pickle [ 24.1 KB] [] [Time:  0:00:00] \n",
            "/usr/local/lib/python3.10/dist-packages/cando/data/v2.2+/ligs/fps/rd_ecfp4-int_vect.pickle [  9.8 MB] [] [ETA:   0:03:11] "
          ]
        }
      ],
      "source": [
        "import sys, os\n",
        "# import the cando package\n",
        "import cando as cnd\n",
        "\n",
        "# Clear previously downladed data\n",
        "# Do this if a new version of CANDO\n",
        "# has been pulled from GitHub\n",
        "# cnd.clear_cache()\n",
        "\n",
        "# Pull data for this tutorial\n",
        "cnd.get_tutorial()\n",
        "cnd.get_data(v='test.0',org='tutorial')\n",
        "\n",
        "# Define variables for matrix generation and CANDO object creation\n",
        "matrix_file='tutorial_matrix-approved.tsv'\n",
        "cmpd_map='cmpds-v2.2.tsv'\n",
        "ind_map='cmpds2inds-v2.2.tsv'\n",
        "protein_set=\"tutorial-bac-prots.txt\"\n",
        "dist_metric='cosine'\n",
        "ncpus=3\n",
        "\n",
        "os.chdir(\"tutorial\")"
      ]
    },
    {
      "cell_type": "markdown",
      "metadata": {
        "id": "C5yvkLwNIOFM"
      },
      "source": [
        "<a class=\"anchor\" id=\"interaction-matrix\"></a>\n",
        "## Generate interaction matrix\n",
        "\n",
        "The example interaction matrix, `matrix_file`, has already been downloaded via `get_tutorial()`. This function may take anywhere from ~1-10 mins on 3 cores, depending on your computer's processor.\n",
        "\n",
        "In this step we will generate a matrix of 2,449 approved compounds by 64 proteins, populated with the corresponding interaction score betwen each drug and protein. The final matrix will have drugs as the columns (indexed according to the compound mapping file), and proteins as the indices (indexed by PDB and chain ID).\n",
        "\n",
        "The function `generate_matrix()` first creates a dataframe for all chemical fingerprint similarity scores comparing each compound in the specified version library `v` (or only approved drugs with `approved_only=True`) to every potential binding site ligand from the PDB using RDKit to compute the chemical fingerprints in which `fp` denotes the type/radius of fingerprint (rd_ecfp4, rd_ecfp8, etc). The vector type, `vect`, can be binary (\"1024_bit\" or \"2048_bit\") or integer (\"int\") and denote the presence or absence or count of molecular substructures in the molecule, respectively. If using integer vectors, `dist` should be set to \"dice\", but binary vectors can be set to Tanimoto (\"tani\"). Next, it creates a dataframe of all potential binding sites for each protein in the specified protein library, `protlib`, with their corresponding binding site scores from the specified binding site prediction method, `bs` (\"coach\", \"cof\", \"ssite\", \"tms\"). The function then iterates over all drugs and protein binding sites to populate the matrix with the best score based on the following input parameters: 1) `i_score` - the scoring protocol of choice, which can be 'C', 'dC', 'P', 'CxP', 'dCxP', where C is the fingerprint similarity score (either Tanimoto or Sorenson-Dice coefficient), dC is the percentile of the C score for the compound compared to all ligands in the library, and P is binding site score associated with the ligand predicted by the [COACH algorithm](https://zhanglab.ccmb.med.umich.edu/COACH/), 2) `c_cutoff` and `p_cutoff` - set cutoffs which ignore any C or P scores below each threshold, respectively, and 3) `percentile_cutoff` - similar to `c_cutoff` but with the dC score (overrides `c_cutoff` if not `None`). These scores serve as a proxy for binding strength/probability of the drug and protein target. We then output the matrix to a tsv file, `out_file`, which in this case is \"tutorial_matrix-all.tsv\" (`out_path` can be set to write the file to a specific directory).\n",
        "\n",
        "We will create a matrix using the 'CxP' protocol, which just chooses the top Dice score to any ligand predicted to bind to a given protein, without any cutoffs. This function is parallelized, so setting the variable `ncpus` will change the number of processors that are used for this function. NOTE: percentile cutoff protocols ('dC', 'dCxP') take much longer to compute than 'C' and 'P' protocols."
      ]
    },
    {
      "cell_type": "code",
      "execution_count": null,
      "metadata": {
        "colab": {
          "base_uri": "https://localhost:8080/"
        },
        "id": "wbvecufpIOFM",
        "outputId": "a625c662-11bb-4124-8b2a-d44dbaf7d928"
      },
      "outputs": [
        {
          "output_type": "stream",
          "name": "stdout",
          "text": [
            "Generating CANDO matrix...\n"
          ]
        },
        {
          "output_type": "stream",
          "name": "stderr",
          "text": [
            "/usr/local/lib/python3.10/dist-packages/cando/data/v2.2+//mappings/nr_ligs.csv [331.1 KB] [] [Time:  0:00:01] \n"
          ]
        },
        {
          "output_type": "stream",
          "name": "stdout",
          "text": [
            "Matrix written to ./rd_ecfp4-int-dice-tutorial-coach-c0.0-p0.0-dCxP-approved.tsv.\n",
            "Matrix generation took 1 min 0 s to finish.\n"
          ]
        }
      ],
      "source": [
        "# generate example cando interaction matrix (2,449 compounds x 64 proteins)\n",
        "cnd.generate_matrix(v=\"test.0\", fp=\"rd_ecfp4\", vect=\"int\",\n",
        "                    dist=\"dice\", org=\"tutorial\", bs=\"coach\",\n",
        "                    c_cutoff=0.0, p_cutoff=0.0, percentile_cutoff=0.0,\n",
        "                    i_score=\"dCxP\", out_file='', out_path=\".\",\n",
        "                    nr_ligs=True, approved_only=True,\n",
        "                    lib_path='', prot_path='', lig_name=False, ncpus=ncpus)"
      ]
    },
    {
      "cell_type": "markdown",
      "metadata": {
        "id": "BdNanekVIOFM"
      },
      "source": [
        "<a class=\"anchor\" id=\"cando-object\"></a>\n",
        "## Setting up CANDO object\n",
        "\n",
        "1. First argument, `cmpd_map`, is the compound mapping which specifies all of the compounds in the matrix by name and ID.\n",
        "\n",
        "2. Second argument, `ind_map`, is the indication mapping which specifies which diseases the drugs/compounds are approved to treat.\n",
        "\n",
        "3. `matrix` is the cando interaction matrix file which contains the names of the proteins and the scores to all compounds in the proper order/indices as the compound mapping file indicates. **This file must be in tsv format.**\n",
        "\n",
        "4. `compute_distance` tells the object to compute the distances between the compounds in the platform based on the similarity of their interactions with all of the proteins. The distance metric used, `dist_metric`, can be cosine, RMSD, or many other common distance metrics (default is RMSD). This can be relatively time consuming depending on the amount of proteins, but with proteins on the order of hundreds it shouldn't take longer than a minute or two. If the computation does take a while (let's say >100,000 proteins), you can add a `save_dists='name_of_dist_file.tsv'` flag to save the computation. Then, simply use the `read_dists='name_of_dist_file.tsv'` to read in the already computed distances to save time.\n",
        "\n",
        "5. `compound_set` indicates which compounds to include in the CANDO object. The default option is 'all', but in this case we will use the 'approved' set to match the matrix we computed earlier.\n",
        "\n",
        "There are many other options available for the CANDO object instantiation, please consult the README for all of them (some more will be covered in this tutorial)."
      ]
    },
    {
      "cell_type": "code",
      "execution_count": null,
      "metadata": {
        "colab": {
          "base_uri": "https://localhost:8080/"
        },
        "id": "BuffoBWtIOFM",
        "outputId": "8eb2b163-4a37-4cef-9583-eb48dcaa1a54"
      },
      "outputs": [
        {
          "output_type": "stream",
          "name": "stdout",
          "text": [
            "Reading signatures from matrix...\n",
            "Done reading signatures.\n",
            "\n",
            "Computing cosine distances...\n",
            "Done computing cosine distances.\n",
            "\n"
          ]
        }
      ],
      "source": [
        "# create object using example cando interaction matrix\n",
        "# compute distances using rmsd distance metric\n",
        "cando = cnd.CANDO(cmpd_map, ind_map, matrix=matrix_file, compound_set='approved', compute_distance=True,\n",
        "                  dist_metric=dist_metric, ncpus=ncpus)"
      ]
    },
    {
      "cell_type": "markdown",
      "metadata": {
        "id": "R_j-2itgIOFN"
      },
      "source": [
        "<a class=\"anchor\" id=\"check-data\"></a>\n",
        "## Check data\n",
        "The imported data from `get_tutorial()` contains the CANDO v2.2 mappings with a sample of 64 proteins (for simplicity sake). It should contain the v2.2 set of 2,449 approved drugs and 2,214 indications. Let's check to make sure this is the case. The `CANDO` object should automagically assign each compound its signature of 64 proteins.\n",
        "\n",
        "We can also search for compounds using a string input with `search_compound()`, in case you are unaware if the mapping file contains a compound of interest. Don't worry about exact spelling, it will output the top 5 (default) closest matches to your query."
      ]
    },
    {
      "cell_type": "code",
      "execution_count": null,
      "metadata": {
        "colab": {
          "base_uri": "https://localhost:8080/"
        },
        "id": "LTYtKxFuIOFN",
        "outputId": "4b87ebd7-f284-43c6-87ce-4feea3fb1963"
      },
      "outputs": [
        {
          "output_type": "stream",
          "name": "stdout",
          "text": [
            "compounds 2449\n",
            "indications 2214\n",
            "proteins 64\n",
            "\n",
            "id\tname\n",
            "0\tbivalirudin\n",
            "590\tlamivudine\n",
            "7272\tivabradine\n",
            "1129\ttelbivudine\n",
            "5056\tnilvadipine\n"
          ]
        }
      ],
      "source": [
        "# print cando object stats\n",
        "print('compounds', len(cando.compounds))\n",
        "print('indications', len(cando.indications))\n",
        "print('proteins', len(cando.proteins))\n",
        "print('')\n",
        "\n",
        "cando.search_compound('bilavarudin')"
      ]
    },
    {
      "cell_type": "code",
      "source": [
        "for cmpd in cando.compounds:\n",
        "  print(cmpd.id_)\n",
        "\n"
      ],
      "metadata": {
        "id": "rE90Wmo81q-U"
      },
      "execution_count": null,
      "outputs": []
    },
    {
      "cell_type": "code",
      "source": [
        "print(cando.proteins)"
      ],
      "metadata": {
        "colab": {
          "base_uri": "https://localhost:8080/"
        },
        "id": "BcwFjLB34YyY",
        "outputId": "fc3bfd7b-42ac-430f-fe07-1d52bfa24e0a"
      },
      "execution_count": null,
      "outputs": [
        {
          "output_type": "stream",
          "name": "stdout",
          "text": [
            "[<cando.cando.Protein object at 0x7f0435bf2ad0>, <cando.cando.Protein object at 0x7f0435bf2980>, <cando.cando.Protein object at 0x7f0435bf2b00>, <cando.cando.Protein object at 0x7f0435bf2b30>, <cando.cando.Protein object at 0x7f0435bf2b60>, <cando.cando.Protein object at 0x7f0435bf2b90>, <cando.cando.Protein object at 0x7f0435bf2bc0>, <cando.cando.Protein object at 0x7f0435bf2bf0>, <cando.cando.Protein object at 0x7f0435bf2c20>, <cando.cando.Protein object at 0x7f0435bf2c50>, <cando.cando.Protein object at 0x7f0435bf2c80>, <cando.cando.Protein object at 0x7f0435bf2ce0>, <cando.cando.Protein object at 0x7f0435bf2d10>, <cando.cando.Protein object at 0x7f0435bf2d40>, <cando.cando.Protein object at 0x7f0435bf2da0>, <cando.cando.Protein object at 0x7f0435bf2dd0>, <cando.cando.Protein object at 0x7f0435bf2e00>, <cando.cando.Protein object at 0x7f0435bf2e60>, <cando.cando.Protein object at 0x7f0435bf2ec0>, <cando.cando.Protein object at 0x7f0435bf2f20>, <cando.cando.Protein object at 0x7f0435bf2f50>, <cando.cando.Protein object at 0x7f0435bf2f80>, <cando.cando.Protein object at 0x7f0435bf2fe0>, <cando.cando.Protein object at 0x7f0435bf3010>, <cando.cando.Protein object at 0x7f0435bf3040>, <cando.cando.Protein object at 0x7f0435bf30a0>, <cando.cando.Protein object at 0x7f0435bf3100>, <cando.cando.Protein object at 0x7f0435bf3130>, <cando.cando.Protein object at 0x7f0435bf3160>, <cando.cando.Protein object at 0x7f0435bf3190>, <cando.cando.Protein object at 0x7f0435bf31c0>, <cando.cando.Protein object at 0x7f0435bf31f0>, <cando.cando.Protein object at 0x7f0435bf3220>, <cando.cando.Protein object at 0x7f0435bf3250>, <cando.cando.Protein object at 0x7f0435bf3280>, <cando.cando.Protein object at 0x7f0435bf32e0>, <cando.cando.Protein object at 0x7f0435bf3310>, <cando.cando.Protein object at 0x7f0435bf3340>, <cando.cando.Protein object at 0x7f0435bf33a0>, <cando.cando.Protein object at 0x7f0435bf33d0>, <cando.cando.Protein object at 0x7f0435bf3400>, <cando.cando.Protein object at 0x7f0435bf3460>, <cando.cando.Protein object at 0x7f0435bf3490>, <cando.cando.Protein object at 0x7f0435bf34c0>, <cando.cando.Protein object at 0x7f0435bf34f0>, <cando.cando.Protein object at 0x7f0435bf3520>, <cando.cando.Protein object at 0x7f0435bf3550>, <cando.cando.Protein object at 0x7f0435bf3580>, <cando.cando.Protein object at 0x7f0435bf35e0>, <cando.cando.Protein object at 0x7f0435bf3610>, <cando.cando.Protein object at 0x7f0435bf3640>, <cando.cando.Protein object at 0x7f0435bf3670>, <cando.cando.Protein object at 0x7f0435bf36a0>, <cando.cando.Protein object at 0x7f0435bf36d0>, <cando.cando.Protein object at 0x7f0435bf3700>, <cando.cando.Protein object at 0x7f0435bf3760>, <cando.cando.Protein object at 0x7f0435bf3790>, <cando.cando.Protein object at 0x7f0435bf37c0>, <cando.cando.Protein object at 0x7f0435bf37f0>, <cando.cando.Protein object at 0x7f0435bf3820>, <cando.cando.Protein object at 0x7f0435bf3850>, <cando.cando.Protein object at 0x7f0435bf3880>, <cando.cando.Protein object at 0x7f0435bf38e0>, <cando.cando.Protein object at 0x7f0435bf3910>]\n"
          ]
        }
      ]
    },
    {
      "cell_type": "code",
      "source": [
        "for x in cando.proteins:\n",
        "  print(x.id_)\n"
      ],
      "metadata": {
        "colab": {
          "base_uri": "https://localhost:8080/"
        },
        "id": "Z55h7x9f1hOA",
        "outputId": "763c624d-3951-4160-ff5d-8eea03b1f429"
      },
      "execution_count": null,
      "outputs": [
        {
          "output_type": "stream",
          "name": "stdout",
          "text": [
            "3szgD\n"
          ]
        }
      ]
    },
    {
      "cell_type": "code",
      "source": [
        "from cnd import single_interaction\n",
        "\n",
        "result = cnd.single_interaction(c_id=10673, p_id=\"3szgD\")\n",
        "print(result)"
      ],
      "metadata": {
        "colab": {
          "base_uri": "https://localhost:8080/",
          "height": 367
        },
        "id": "_xSb_bYI5ssz",
        "outputId": "1dd8ddb7-8ab1-4ffb-a327-d5d7e13f8141"
      },
      "execution_count": 1,
      "outputs": [
        {
          "output_type": "error",
          "ename": "ModuleNotFoundError",
          "evalue": "No module named 'cnd'",
          "traceback": [
            "\u001b[0;31m---------------------------------------------------------------------------\u001b[0m",
            "\u001b[0;31mModuleNotFoundError\u001b[0m                       Traceback (most recent call last)",
            "\u001b[0;32m<ipython-input-1-30792441bc76>\u001b[0m in \u001b[0;36m<cell line: 1>\u001b[0;34m()\u001b[0m\n\u001b[0;32m----> 1\u001b[0;31m \u001b[0;32mfrom\u001b[0m \u001b[0mcnd\u001b[0m \u001b[0;32mimport\u001b[0m \u001b[0msingle_interaction\u001b[0m\u001b[0;34m\u001b[0m\u001b[0;34m\u001b[0m\u001b[0m\n\u001b[0m\u001b[1;32m      2\u001b[0m \u001b[0;34m\u001b[0m\u001b[0m\n\u001b[1;32m      3\u001b[0m \u001b[0mresult\u001b[0m \u001b[0;34m=\u001b[0m \u001b[0mcnd\u001b[0m\u001b[0;34m.\u001b[0m\u001b[0msingle_interaction\u001b[0m\u001b[0;34m(\u001b[0m\u001b[0mc_id\u001b[0m\u001b[0;34m=\u001b[0m\u001b[0;36m10673\u001b[0m\u001b[0;34m,\u001b[0m \u001b[0mp_id\u001b[0m\u001b[0;34m=\u001b[0m\u001b[0;34m\"3szgD\"\u001b[0m\u001b[0;34m)\u001b[0m\u001b[0;34m\u001b[0m\u001b[0;34m\u001b[0m\u001b[0m\n\u001b[1;32m      4\u001b[0m \u001b[0mprint\u001b[0m\u001b[0;34m(\u001b[0m\u001b[0mresult\u001b[0m\u001b[0;34m)\u001b[0m\u001b[0;34m\u001b[0m\u001b[0;34m\u001b[0m\u001b[0m\n",
            "\u001b[0;31mModuleNotFoundError\u001b[0m: No module named 'cnd'",
            "",
            "\u001b[0;31m---------------------------------------------------------------------------\u001b[0;32m\nNOTE: If your import is failing due to a missing package, you can\nmanually install dependencies using either !pip or !apt.\n\nTo view examples of installing some common dependencies, click the\n\"Open Examples\" button below.\n\u001b[0;31m---------------------------------------------------------------------------\u001b[0m\n"
          ],
          "errorDetails": {
            "actions": [
              {
                "action": "open_url",
                "actionText": "Open Examples",
                "url": "/notebooks/snippets/importing_libraries.ipynb"
              }
            ]
          }
        }
      ]
    },
    {
      "source": [
        "print(result)"
      ],
      "cell_type": "code",
      "metadata": {
        "colab": {
          "base_uri": "https://localhost:8080/"
        },
        "id": "ntFVESNl6AbZ",
        "outputId": "c0f88f12-87a2-4f55-d8be-5428010d646e"
      },
      "execution_count": null,
      "outputs": [
        {
          "output_type": "stream",
          "name": "stdout",
          "text": [
            "0.83\n"
          ]
        }
      ]
    },
    {
      "cell_type": "markdown",
      "metadata": {
        "id": "otjiB1FZIOFN"
      },
      "source": [
        "Spelling was a bit off, but we found bivalirudin!\n",
        "\n",
        "Let's make sure bivalirudin has 64 values in its signature and take a look at the values themselves. We know its `id_` is 0 from searching. Depending on the scoring protocol used, the range/distribution of these values will vary.\n",
        "\n",
        "The `compute_distance` flag above tells the CANDO object to compute the RMSD between each compound on an all-vs-all basis. Let's check out the top5 most similar compounds to bivalirudin. The `Compound.similar` lists are part of the `Compound` objects and contain a tuple of every other compound object and its computed distance."
      ]
    },
    {
      "cell_type": "code",
      "execution_count": null,
      "metadata": {
        "colab": {
          "base_uri": "https://localhost:8080/"
        },
        "id": "XWshiq5cIOFN",
        "outputId": "6382aa28-0208-4274-d913-18297e92f08b"
      },
      "outputs": [
        {
          "output_type": "stream",
          "name": "stdout",
          "text": [
            "bivalirudin 64\n",
            "[0.437, 0.087, 0.079, 0.077, 0.341, 0.062, 0.037, 0.061, 0.053, 0.054, 0.141, 0.094, 0.077, 0.328, 0.0, 0.071, 0.591, 0.411, 0.511, 0.488, 0.121, 0.023, 0.052, 0.375, 0.526, 0.088, 0.087, 0.038, 0.273, 0.344, 0.389, 0.574, 0.109, 0.254, 0.228, 0.094, 0.487, 0.0, 0.119, 0.06, 0.146, 0.071, 0.032, 0.228, 0.33, 0.063, 0.113, 0.396, 0.05, 0.046, 0.0, 0.064, 0.389, 0.068, 0.086, 0.433, 0.238, 0.404, 0.102, 0.175, 0.178, 0.355, 0.255, 0.084]\n",
            "\n",
            "leuprolide 0.024\n",
            "goserelin 0.026\n",
            "gramicidin_d 0.024\n",
            "desmopressin 0.059\n",
            "cetrorelix 0.022\n"
          ]
        }
      ],
      "source": [
        "# print bivalirudin signature\n",
        "c = cando.compounds[0]\n",
        "print(c.name, len(c.sig))\n",
        "print(c.sig)\n",
        "print('')\n",
        "\n",
        "# top5 most similar compounds to bivalirudin\n",
        "for s in c.similar[0:5]:\n",
        "    print(s[0].name, round(s[1], 3))"
      ]
    },
    {
      "cell_type": "markdown",
      "metadata": {
        "id": "wcOyAlgQIOFO"
      },
      "source": [
        "<a class=\"anchor\" id=\"canbenchmark\"></a>\n",
        "## Canbenchmark - benchmarking module\n",
        "An important part of CANDO is benchmarking how well we can recapture drugs known to treat the same diseases within their respective `Compound.similar` lists. Currently, our benchmarking code calculates three metrics:\n",
        "1. Average indication accuracy (aia) - this value is the average of every individual indication accuracy\n",
        "2. Average pairwise accuracy (apa) - this value is the weighted average of each individual indication accuracy based on the number of drugs approved to treat it\n",
        "3. Indication coverage (ic) - this is the count of the number of non-zero indication accuracies\n",
        "\n",
        "The higher the metric scores for a given matrix/compound-protein scoring protocol, the more confidence we have in making predictions.\n",
        "\n",
        "An accuracy is calculated for each indication that has at least 2 compounds associated. To do this, we hold out each compound and look for any of the other approved compounds within a certain cutoff of the `Compound.similar` list for the held-out compound. The cutoffs are predetermined to be top10, top25, top50, and top100. There are also percent cutoffs that vary based on the number of compounds in the platform. So, for Indication-A with three drugs approved (D1, D2, and D3), we would hold out D1 and look for *either* D2 or D3 in the top10, top25, top50, and top100 compounds to D1. This would be repeated for D2 and D3. So let's say D3 was recaptured at rank 5 for D1, D1 was recaptured at rank 12 for D2, and D1 was recaptured at rank 27 for D3. The top10 average indication accuracy would be (1+0+0) / 3 == 33%, whereas the top25 would be (1+1+0) / 3 == 66%, and the top50 would be 100%.\n",
        "\n",
        "### Canbenchmark - classic\n",
        "Below is how to run the benchmarking code. The first argument of `canbenchmark()` is the extension to put on the output files, which are \"results_analysed_named\", \"raw_results\", and \"summary\"."
      ]
    },
    {
      "cell_type": "code",
      "execution_count": null,
      "metadata": {
        "scrolled": true,
        "colab": {
          "base_uri": "https://localhost:8080/"
        },
        "id": "DvLoCZkPIOFO",
        "outputId": "41c3adeb-7358-4da9-f44e-f0ed974e3e7c"
      },
      "outputs": [
        {
          "output_type": "stream",
          "name": "stdout",
          "text": [
            "Directory 'results_analysed_named' does not exist, creating directory\n",
            "Directory 'raw_results' does not exist, creating directory\n",
            "\taia\n",
            "top10\t20.316\n",
            "top25\t26.808\n",
            "top50\t32.635\n",
            "top100\t41.836\n",
            "top2449\t100.000\n",
            "top1%\t26.186\n",
            "top5%\t44.843\n",
            "top10%\t57.426\n",
            "top50%\t89.378\n",
            "top100%\t100.000\n",
            "\n",
            "\n"
          ]
        }
      ],
      "source": [
        "cando.canbenchmark('tutorial')"
      ]
    },
    {
      "cell_type": "markdown",
      "metadata": {
        "id": "COcsrSOGIOFO"
      },
      "source": [
        "Below is the printed summary file for the classic canbenchmark."
      ]
    },
    {
      "cell_type": "code",
      "execution_count": null,
      "metadata": {
        "colab": {
          "base_uri": "https://localhost:8080/"
        },
        "id": "Fsh4TljFIOFO",
        "outputId": "b0d036a6-61eb-43b7-dd84-0f61d441fc50"
      },
      "outputs": [
        {
          "output_type": "stream",
          "name": "stdout",
          "text": [
            "\ttop10\ttop25\ttop50\ttop100\ttop2449\ttop1%\ttop5%\ttop10%\ttop50%\ttop100%\n",
            "aia\t20.316\t26.808\t32.635\t41.836\t100.000\t26.186\t44.843\t57.426\t89.378\t100.000\n",
            "apa\t35.180\t47.112\t57.909\t70.206\t100.000\t46.230\t73.574\t83.817\t97.693\t100.000\n",
            "ic\t819\t907\t969\t1078\t1595\t904\t1112\t1254\t1532\t1595\n",
            "\n"
          ]
        }
      ],
      "source": [
        "with open(\"summary-tutorial.tsv\", 'r') as f:\n",
        "    for line in f:\n",
        "        print(line.strip('\\n'))"
      ]
    },
    {
      "cell_type": "markdown",
      "metadata": {
        "id": "Yp13Vsb7IOFO"
      },
      "source": [
        "### Canbenchmark - associated\n",
        "There are variations of the benchmarking code which may be of interest to some users. For example, not every compound in the mapping files are associated with a disease. This can add significant noise and decrease performance if the compound library is very large. We can have these compounds removed by running another benchmarking method called `canbenchmark_associated()`, which will automatically filter out these non-associated compounds."
      ]
    },
    {
      "cell_type": "code",
      "execution_count": null,
      "metadata": {
        "colab": {
          "base_uri": "https://localhost:8080/"
        },
        "id": "budlje1FIOFO",
        "outputId": "94c593d8-6805-4269-a12a-2a5124946f23"
      },
      "outputs": [
        {
          "output_type": "stream",
          "name": "stdout",
          "text": [
            "Making CANDO copy with only benchmarking-associated compounds\n",
            "Reading signatures from matrix...\n",
            "Done reading signatures.\n",
            "\n",
            "Computing cosine distances...\n",
            "Done computing cosine distances.\n",
            "\n",
            "\taia\n",
            "top10\t22.247\n",
            "top25\t30.538\n",
            "top50\t38.878\n",
            "top100\t49.696\n",
            "top1464\t100.000\n",
            "top1%\t24.593\n",
            "top5%\t44.549\n",
            "top10%\t56.129\n",
            "top50%\t87.369\n",
            "top100%\t100.000\n",
            "\n",
            "\n"
          ]
        }
      ],
      "source": [
        "cando.canbenchmark_associated('tutorial_associated')"
      ]
    },
    {
      "cell_type": "markdown",
      "metadata": {
        "id": "tM6_9hihIOFO"
      },
      "source": [
        "Below is the printed summary file for the associated canbenchmark."
      ]
    },
    {
      "cell_type": "code",
      "execution_count": null,
      "metadata": {
        "colab": {
          "base_uri": "https://localhost:8080/"
        },
        "id": "jBniM4taIOFP",
        "outputId": "8fcd8be5-a7b6-4070-b1cd-81544608ec7c"
      },
      "outputs": [
        {
          "output_type": "stream",
          "name": "stdout",
          "text": [
            "\ttop10\ttop25\ttop50\ttop100\ttop1464\ttop1%\ttop5%\ttop10%\ttop50%\ttop100%\n",
            "aia\t22.247\t30.538\t38.878\t49.696\t100.000\t24.593\t44.549\t56.129\t87.369\t100.000\n",
            "apa\t40.433\t54.741\t66.853\t78.057\t100.000\t45.016\t73.141\t82.941\t97.165\t100.000\n",
            "ic\t827\t946\t1058\t1176\t1595\t862\t1123\t1249\t1526\t1595\n",
            "\n"
          ]
        }
      ],
      "source": [
        "with open(\"summary-tutorial_associated.tsv\", 'r') as f:\n",
        "    for line in f:\n",
        "        print(line.strip('\\n'))"
      ]
    },
    {
      "cell_type": "markdown",
      "metadata": {
        "id": "lxPG00-JIOFP"
      },
      "source": [
        "### Canbenchmark - continuous\n",
        "Yet another variation of our benchmarking is `continuous=True`. This method identifies percentiles for the compound distances which define our cutoffs. Rather than the top10 compounds, we can define a distance cutoff that will not punish a compound that may fall at rank 11, but is still very similar to the hold-out compound (think of large \"me-too\" families of compounds). These distance cutoffs are determined empirically after the distances are calculated/read."
      ]
    },
    {
      "cell_type": "code",
      "execution_count": null,
      "metadata": {
        "scrolled": true,
        "colab": {
          "base_uri": "https://localhost:8080/"
        },
        "id": "sMZFugOXIOFP",
        "outputId": "ff55e629-0cea-47c6-cfed-733ffa15947e"
      },
      "outputs": [
        {
          "output_type": "stream",
          "name": "stdout",
          "text": [
            "\taia\n",
            "0.1%ile\t9.690\n",
            ".25%ile\t12.531\n",
            "0.5%ile\t16.499\n",
            "1%ile\t21.797\n",
            "5%ile\t36.013\n",
            "10%ile\t46.204\n",
            "20%ile\t59.283\n",
            "33%ile\t72.732\n",
            "50%ile\t83.878\n",
            "100%ile\t100.000\n",
            "\n",
            "\n"
          ]
        }
      ],
      "source": [
        "cando.canbenchmark('tutorial_continuous', continuous=True)"
      ]
    },
    {
      "cell_type": "markdown",
      "metadata": {
        "id": "jYrk3TH2IOFP"
      },
      "source": [
        "Below is the printed summary file for the continuous canbenchmark."
      ]
    },
    {
      "cell_type": "code",
      "execution_count": null,
      "metadata": {
        "colab": {
          "base_uri": "https://localhost:8080/"
        },
        "id": "jJTUricBIOFP",
        "outputId": "53009970-bf33-4aec-a7eb-0b942f7f385e"
      },
      "outputs": [
        {
          "output_type": "stream",
          "name": "stdout",
          "text": [
            "\t0.1%ile\t.25%ile\t0.5%ile\t1%ile\t5%ile\t10%ile\t20%ile\t33%ile\t50%ile\t100%ile\n",
            "aia\t9.690\t12.531\t16.499\t21.797\t36.013\t46.204\t59.283\t72.732\t83.878\t100.000\n",
            "apa\t15.803\t21.204\t28.437\t36.568\t56.932\t66.668\t77.154\t85.143\t91.447\t100.000\n",
            "ic\t546\t604\t681\t768\t949\t1074\t1226\t1363\t1460\t1595\n",
            "\n"
          ]
        }
      ],
      "source": [
        "with open('summary-tutorial_continuous.tsv', 'r') as f:\n",
        "    for line in f:\n",
        "        print(line.strip('\\n'))"
      ]
    },
    {
      "cell_type": "markdown",
      "metadata": {
        "id": "sfm5-PEfIOFP"
      },
      "source": [
        "<a class=\"anchor\" id=\"canpredict\"></a>\n",
        "## Canpredict - drug-disease association prediction module\n",
        "\n",
        "An important part of CANDO is generating putative drug candidates for a specific disease and predicting indications for which added or current drugs in our library can be therapetuic. We can do this with the canpredict functions.\n",
        "\n",
        "### Canpredict - compounds\n",
        "Generating putative drug candidates for a specific disease is one way we may want to use the predictive power of our platform. For this, we use the `canpredict_compounds()` function, which basically uses a consensus method to rank putative candidates based on how many times they show up as similar to drugs that are associated to the disease, within some defined cutoff. The default cutoff is 10 (the most stringent from benchmarking), but this can be varied. In its current implementation, `canpredict_compounds()` ranks compounds based on the consensus count and uses the average rank of those as the tie-breaker.\n",
        "\n",
        "Let's make predictions for human immunodeficiency virus (HIV). First, let's search our indication database for the appropriate MeSH ID."
      ]
    },
    {
      "cell_type": "code",
      "execution_count": null,
      "metadata": {
        "colab": {
          "base_uri": "https://localhost:8080/"
        },
        "id": "_4QsYcWpIOFP",
        "outputId": "f87bf084-3c20-49a8-89c8-0503c8d47820"
      },
      "outputs": [
        {
          "output_type": "stream",
          "name": "stdout",
          "text": [
            "Matches exactly containing HIV:\n",
            "id             \tname\n",
            "MESH:D015658\tHIV Infections\n",
            "MESH:D006679\tHIV Seropositivity\n",
            "MESH:D019247\tHIV Wasting Syndrome\n",
            "MESH:D039682\tHIV-Associated Lipodystrophy Syndrome\n",
            "\n",
            "Matches using string distance:\n",
            "id             \tname\n",
            "MESH:D015658\tHIV Infections\n"
          ]
        }
      ],
      "source": [
        "cando.search_indication('HIV')"
      ]
    },
    {
      "cell_type": "markdown",
      "metadata": {
        "id": "LA1UDp5pIOFP"
      },
      "source": [
        "The one we want is \"HIV Infections\" with an `id_` of \"MESH:D015658\". This is the input for `canpredict_compounds()`, but first let's see more about this indication."
      ]
    },
    {
      "cell_type": "code",
      "execution_count": null,
      "metadata": {
        "colab": {
          "base_uri": "https://localhost:8080/"
        },
        "id": "eA62wPcSIOFP",
        "outputId": "b8e28aa9-d540-4c3a-91d0-856a9306312a"
      },
      "outputs": [
        {
          "output_type": "stream",
          "name": "stdout",
          "text": [
            "Number of drugs associated with HIV Infections: 32\n",
            "509\tefavirenz\n",
            "1098\tsaquinavir\n",
            "5094\tbeta_carotene\n",
            "384\tzidovudine\n",
            "1151\tfosamprenavir\n",
            "918\tabacavir\n",
            "590\tlamivudine\n",
            "599\tadefovir_dipivoxil\n",
            "818\tzalcitabine\n",
            "587\tdelavirdine\n",
            "115\tnelfinavir\n",
            "826\tisoniazid\n",
            "1399\tdeferasirox\n",
            "225\tmethadone\n",
            "4402\tmaraviroc\n",
            "877\thydroxyurea\n",
            "584\tamprenavir\n",
            "940\tatazanavir\n",
            "776\tdidanosine\n",
            "392\tritonavir\n",
            "5142\traltegravir\n",
            "4903\tetravirine\n",
            "308\tmiglustat\n",
            "119\tindinavir\n",
            "132\tnevirapine\n",
            "58\tvitamin_a\n",
            "413\tfoscarnet\n",
            "689\tribavirin\n",
            "1391\tlopinavir\n",
            "911\tthalidomide\n",
            "533\tstavudine\n",
            "618\tpentamidine\n"
          ]
        }
      ],
      "source": [
        "hiv = cando.get_indication(\"MESH:D015658\")\n",
        "print('Number of drugs associated with {}: {}'.format(hiv.name, len(hiv.compounds)))\n",
        "for cmpd in hiv.compounds:\n",
        "    print('{}\\t{}'.format(cmpd.id_, cmpd.name))"
      ]
    },
    {
      "cell_type": "markdown",
      "metadata": {
        "id": "4lJx7UJkIOFP"
      },
      "source": [
        "There are 32 drugs associated with HIV Infections, which makes sense given it is well-studied. Most seem to be protease inhibitors (saquinavir, fosamprenavir) or nucleoside analogs (zalcitabine, didanosine).\n",
        "\n",
        "We can now make predictions for other drugs/compounds that may be useful against HIV. This list is very long due to the large amount of drugs approved to treat HIV, so we should look at only the top10 (default) by setting `n=10`. We will also only print the first 10 compounds (`topX=10`)."
      ]
    },
    {
      "cell_type": "code",
      "execution_count": null,
      "metadata": {
        "colab": {
          "base_uri": "https://localhost:8080/"
        },
        "id": "jIRTgT-PIOFQ",
        "outputId": "e95efa01-d8eb-40eb-a34a-830e42304bba"
      },
      "outputs": [
        {
          "output_type": "stream",
          "name": "stdout",
          "text": [
            "32 compounds found for MESH:D015658 --> HIV Infections\n",
            "Generating compound predictions using top10 most similar compounds...\n",
            "\n",
            "rank\tscore1\tscore2\tprobability\tid\tapproved\tname\n",
            "1\t7\t4.3\t7.47e-13   \t1128\ttrue    \tdarunavir\n",
            "2\t4\t3.0\t2.09e-07   \t756\ttrue    \temtricitabine\n",
            "3\t4\t5.0\t2.09e-07   \t331\ttrue    \tentecavir\n",
            "4\t4\t5.2\t2.09e-07   \t2982\ttrue    \tbrivudine\n",
            "5\t4\t5.8\t2.09e-07   \t7854\ttrue    \tlifitegrast\n",
            "6\t4\t5.8\t2.09e-07   \t321\ttrue    \ttrifluridine\n",
            "7\t4\t6.2\t2.09e-07   \t574\ttrue    \tmoexipril\n",
            "8\t4\t7.0\t2.09e-07   \t4817\ttrue    \tregadenoson\n",
            "9\t4\t7.0\t2.09e-07   \t143\ttrue    \tidoxuridine\n",
            "10\t3\t2.0\t9.14e-06   \t7256\ttrue    \tcobicistat\n",
            "\n",
            "\n"
          ]
        }
      ],
      "source": [
        "cando.canpredict_compounds(\"MESH:D015658\", n=10, topX=10)"
      ]
    },
    {
      "cell_type": "markdown",
      "metadata": {
        "id": "r6bLg3gqIOFQ"
      },
      "source": [
        "Perhaps using the top10 compounds is not encompassing enough. Let's change it to top25 (n=25) and see if the predictions change. We will still print the first 10 compounds."
      ]
    },
    {
      "cell_type": "code",
      "execution_count": null,
      "metadata": {
        "colab": {
          "base_uri": "https://localhost:8080/"
        },
        "id": "4LJHerTEIOFQ",
        "outputId": "f9c43c93-a638-4ba1-cb8f-55d9cc259140"
      },
      "outputs": [
        {
          "output_type": "stream",
          "name": "stdout",
          "text": [
            "32 compounds found for MESH:D015658 --> HIV Infections\n",
            "Generating compound predictions using top25 most similar compounds...\n",
            "\n",
            "rank\tscore1\tscore2\tprobability\tid\tapproved\tname\n",
            "1\t8\t5.0\t2.74e-11   \t1128\ttrue    \tdarunavir\n",
            "2\t7\t11.3\t1.00e-09   \t1095\ttrue    \tpaclitaxel\n",
            "3\t7\t12.7\t1.00e-09   \t1126\ttrue    \tdecitabine\n",
            "4\t6\t6.0\t3.12e-08   \t756\ttrue    \temtricitabine\n",
            "5\t6\t8.5\t3.12e-08   \t7854\ttrue    \tlifitegrast\n",
            "6\t6\t9.3\t3.12e-08   \t574\ttrue    \tmoexipril\n",
            "7\t6\t10.2\t3.12e-08   \t136\ttrue    \tcladribine\n",
            "8\t6\t11.0\t3.12e-08   \t9053\ttrue    \tmacimorelin\n",
            "9\t6\t12.3\t3.12e-08   \t515\ttrue    \tclofarabine\n",
            "10\t6\t13.2\t3.12e-08   \t5106\ttrue    \tcabazitaxel\n",
            "\n",
            "\n"
          ]
        }
      ],
      "source": [
        "cando.canpredict_compounds(\"MESH:D015658\", n=25, topX=10)"
      ]
    },
    {
      "cell_type": "markdown",
      "metadata": {
        "id": "aFNrAjtIIOFQ"
      },
      "source": [
        "We can show more results by changing the `topX` parameter. Let's print 25.\n",
        "\n",
        "We can also show the compounds that are already approved for 'HIV Infections' - indicated by an asterisk in the 'approved' column, by changing the `keep_associated` parameter to `True`.\n",
        "\n",
        "<span style=\"color:red\">(Note: this function is heavily reliant on the input indication mapping.)</span>"
      ]
    },
    {
      "cell_type": "code",
      "execution_count": null,
      "metadata": {
        "colab": {
          "base_uri": "https://localhost:8080/"
        },
        "id": "yZPG8v3YIOFQ",
        "outputId": "a7a04372-ce2d-46ea-d700-e1b0099c3bc1"
      },
      "outputs": [
        {
          "output_type": "stream",
          "name": "stdout",
          "text": [
            "32 compounds found for MESH:D015658 --> HIV Infections\n",
            "Generating compound predictions using top25 most similar compounds...\n",
            "\n",
            "rank\tscore1\tscore2\tprobability\tid\tapproved\tname\n",
            "1\t8\t5.0\t2.74e-11   \t1128\ttrue    \tdarunavir\n",
            "2\t7\t5.1\t1.00e-09   \t584\ttrue*   \tamprenavir\n",
            "3\t7\t10.0\t1.00e-09   \t1098\ttrue*   \tsaquinavir\n",
            "4\t7\t11.3\t1.00e-09   \t1095\ttrue    \tpaclitaxel\n",
            "5\t7\t12.7\t1.00e-09   \t1126\ttrue    \tdecitabine\n",
            "6\t6\t6.0\t3.12e-08   \t756\ttrue    \temtricitabine\n",
            "7\t6\t8.5\t3.12e-08   \t7854\ttrue    \tlifitegrast\n",
            "8\t6\t9.3\t3.12e-08   \t574\ttrue    \tmoexipril\n",
            "9\t6\t10.2\t3.12e-08   \t136\ttrue    \tcladribine\n",
            "10\t6\t11.0\t3.12e-08   \t9053\ttrue    \tmacimorelin\n",
            "11\t6\t12.3\t3.12e-08   \t515\ttrue    \tclofarabine\n",
            "12\t6\t13.2\t3.12e-08   \t5106\ttrue    \tcabazitaxel\n",
            "13\t6\t14.0\t3.12e-08   \t1151\ttrue*   \tfosamprenavir\n",
            "14\t6\t14.2\t3.12e-08   \t7855\ttrue    \tvelpatasvir\n",
            "15\t6\t17.7\t3.12e-08   \t776\ttrue*   \tdidanosine\n",
            "16\t5\t5.8\t8.18e-07   \t119\ttrue*   \tindinavir\n",
            "17\t5\t7.8\t8.18e-07   \t331\ttrue    \tentecavir\n",
            "18\t5\t12.4\t8.18e-07   \t7431\ttrue    \teluxadoline\n",
            "19\t5\t14.2\t8.18e-07   \t969\ttrue    \tcapecitabine\n",
            "20\t5\t14.2\t8.18e-07   \t918\ttrue*   \tabacavir\n",
            "21\t5\t17.0\t8.18e-07   \t10070\ttrue    \tivosidenib\n",
            "22\t5\t19.4\t8.18e-07   \t198\ttrue    \tmitomycin\n",
            "23\t4\t5.2\t1.78e-05   \t2982\ttrue    \tbrivudine\n",
            "24\t4\t5.8\t1.78e-05   \t321\ttrue    \ttrifluridine\n",
            "25\t4\t5.8\t1.78e-05   \t115\ttrue*   \tnelfinavir\n",
            "\n",
            "\n"
          ]
        }
      ],
      "source": [
        "cando.canpredict_compounds(\"MESH:D015658\", n=25, topX=25,\n",
        "                           keep_associated=True)"
      ]
    },
    {
      "cell_type": "markdown",
      "metadata": {
        "id": "bnYICOgpIOFQ"
      },
      "source": [
        "In this case, we recaptured 7 associated therapies for HIV, including amprenavir, saquinavir, fosamprenavir, didanosine, indinavir, abacavir, and nelfinavir."
      ]
    },
    {
      "cell_type": "markdown",
      "metadata": {
        "id": "EferSsa1IOFQ"
      },
      "source": [
        "### Canpredict - de novo\n",
        "\n",
        "Sometimes there are no drugs associated with an indication (whether it be in reality or in your input indication mapping); in those cases we can use the `canpredict_denovo()` function to suggest putative candidates. Basically, this function counts/sums the number of protein interaction scores above a set threshold for each compound and ranks them according to frequency and strength. This is particularly useful for pathogen proteomes (like SARS-CoV-2 or bacterial proteomes) or for finding which compounds target a subset of proteins of interest (e.g. kinases). In our case, we have a diverse set of proteins, which would render the results meaningless. Instead, we can input a list of protein IDs in which we are interested. We have precompiled a list of bacterial proteins already present in the sample matrix for convenience. Note: if we had read in an indication-genes mapping file, we could use the `ind_id=` parameter to automatically select all proteins associated with said indication."
      ]
    },
    {
      "cell_type": "code",
      "execution_count": null,
      "metadata": {
        "colab": {
          "base_uri": "https://localhost:8080/"
        },
        "id": "BG14lf60IOFQ",
        "outputId": "7f68c186-3b97-47be-ff16-d32a86ec8796"
      },
      "outputs": [
        {
          "output_type": "stream",
          "name": "stdout",
          "text": [
            "Printing the 30 highest predicted compounds...\n",
            "\n",
            "rank\tscore1\tscore2\toffhits\tdiff\tid\tapproved\tname\n",
            "1\t2\t1.5\t0.0    \t1.5    \t10026\ttrue    \tmagnesium\n",
            "2\t2\t1.38\t0.0    \t1.38   \t1384\ttrue    \tzinc\n"
          ]
        }
      ],
      "source": [
        "bacterial_proteins = [\"3mk7C\", \"3eziA\", \"1u2mC\", \"3atsA\", \"2x4mA\",\n",
        "                      \"4wliA\", \"1t4aA\", \"4zxkA\", \"1zhhA\", \"1eb0A\",\n",
        "                      \"4nqwB\", \"2gqrA\", \"2qlcA\", \"3rf1A\", \"2xpwA\"]\n",
        "\n",
        "cando.canpredict_denovo(method='count', threshold=0.6, topX=30, proteins=bacterial_proteins)"
      ]
    },
    {
      "cell_type": "markdown",
      "metadata": {
        "id": "QOUgERjTIOFQ"
      },
      "source": [
        "Interestingly, multiple antibiotics receive scores higher than the cutoff of 0.6, including **tetracycline, minocycline, oxytetracycline, sarecycline**, among others."
      ]
    },
    {
      "cell_type": "markdown",
      "metadata": {
        "id": "aYX-LcS-IOFR"
      },
      "source": [
        "### Canpredict - indications\n",
        "\n",
        "\n",
        "Below we print the first 10 indications predicted for Paromomycin (CANDO ID 1225) using the top10 most similar compounds. Again, this tallies how many times specific diseases show up as associated with the top10 most similar compounds to paromomycin."
      ]
    },
    {
      "cell_type": "code",
      "execution_count": null,
      "metadata": {
        "colab": {
          "base_uri": "https://localhost:8080/"
        },
        "id": "-7YdrbEiIOFW",
        "outputId": "93f4a646-0bc6-49d3-a675-41aadf1836e9"
      },
      "outputs": [
        {
          "output_type": "stream",
          "name": "stdout",
          "text": [
            "paromomycin\n",
            "Using CANDO compound paromomycin\n",
            "Compound has id 1225 and index 1225\n",
            "Comparing signature to all CANDO compound signatures...\n",
            "Generating indication predictions using top10 most similar compounds...\n",
            "Printing the 10 highest predicted indications...\n",
            "\n",
            "rank\tprobability\tscore\tind_id    \tindication\n",
            "1\t5.22e-09   \t4\tMESH:D008581\tMeningitis\n",
            "2\t4.72e-08   \t4\tMESH:D004927\tEscherichia coli Infections\n",
            "3\t1.38e-07   \t3\tMESH:D007710\tKlebsiella Infections\n",
            "4\t2.50e-07   \t3\tMESH:D011512\tProteus Infections\n",
            "5\t9.76e-07   \t2\tMESH:D000380\tAgranulocytosis\n",
            "6\t1.20e-06   \t3\tMESH:D014376\tTuberculosis\n",
            "7\t1.71e-06   \t2\tMESH:D016870\tNeisseriaceae Infections\n",
            "8\t2.72e-06   \t2\tMESH:D001996\tBronchopneumonia\n",
            "9\t2.72e-06   \t2\tMESH:D009877\tEndophthalmitis\n",
            "10\t1.32e-05   \t3\tMESH:D004697\tEndocarditis, Bacterial\n",
            "\n"
          ]
        }
      ],
      "source": [
        "paro = cando.get_compound(1225)\n",
        "print(paro.name)\n",
        "cando.canpredict_indications(paro,\n",
        "                             n=10, topX=10)"
      ]
    },
    {
      "cell_type": "markdown",
      "metadata": {
        "id": "sB-3D86bIOFX"
      },
      "source": [
        "Not surprisingly, all of the predictions are infections of some sort (aka: most antibiotics share a great deal of structural similarity with each other)."
      ]
    },
    {
      "cell_type": "markdown",
      "metadata": {
        "id": "V9Onwo7QIOFX"
      },
      "source": [
        "### Similar compounds\n",
        "`similar_compounds()` prints the first `n` most similar compounds for a given compound. This, like `canpredict_indications()` can be used with cando compounds, `cando_cmpd`, or novel compounds with a signature file (we will explore this later).\n",
        "\n",
        "Below we print the first 10 most similar compounds to Paromomycin."
      ]
    },
    {
      "cell_type": "code",
      "execution_count": null,
      "metadata": {
        "colab": {
          "base_uri": "https://localhost:8080/"
        },
        "id": "VveluDepIOFX",
        "outputId": "19c8b369-6eca-4756-8027-bf15314c036f"
      },
      "outputs": [
        {
          "output_type": "stream",
          "name": "stdout",
          "text": [
            "Using CANDO compound paromomycin\n",
            "Compound has id 1225 and index 1225\n",
            "Comparing signature to all CANDO compound signatures...\n",
            "Printing top10 most similar compounds...\n",
            "\n",
            "rank\tdist\tid\tname\n",
            "1\t0.001\t341\tframycetin\n",
            "2\t0.006\t368\tamikacin\n",
            "3\t0.008\t3258\tribostamycin\n",
            "4\t0.008\t1039\tkanamycin\n",
            "5\t0.010\t178\tacarbose\n",
            "6\t0.014\t950\tstreptomycin\n",
            "7\t0.016\t7063\thyaluronic_acid\n",
            "8\t0.018\t8533\tsteviolbioside\n",
            "9\t0.019\t567\ttobramycin\n",
            "10\t0.019\t9205\tdibekacin\n",
            "11\t0.023\t465\tlactulose\n",
            "\n",
            "\n"
          ]
        }
      ],
      "source": [
        "paro = cando.get_compound(1225)\n",
        "cando.similar_compounds(paro, n=10)"
      ]
    },
    {
      "cell_type": "markdown",
      "metadata": {
        "id": "vRyG4XkUIOFX"
      },
      "source": [
        "Unsurprisingly, the most similar compounds to paromomycin are known antibiotics.  "
      ]
    },
    {
      "cell_type": "markdown",
      "metadata": {
        "id": "MvxDYVrnIOFX"
      },
      "source": [
        "<a class=\"anchor\" id=\"ml\"></a>\n",
        "## Machine learning with CANDO\n",
        "The \"proteomic vectors\" within CANDO lend themselves well to machine learning to perhaps learn more complex relationships between the proteins within the vector and their impacts on the treatment of diseases. CANDO has built-in ML algorithms that allow for two main functionalities:\n",
        "1. Benchmark the platform using a hold-one-out protocol very similar to canbenchmark\n",
        "2. Make predictions for novel or non-associated compounds that may be therapeutic for a given disease\n",
        "\n",
        "The ML module currently supports 2 algorithms: random forests and logistic regression. The models are trained on drugs approved for the disease (positive classes) and an equal number of randomly selected \"neutral samples\", which are drugs/compounds not approved for the disease (negative samples). Random seeds may be set to ensure the same compounds are used in training.\n",
        "\n",
        "### ML - benchmark\n",
        "We have the option to benchmark the platform with an ML algorithm - this module outputs files very similar to canbenchmark. For this tutorial, we will skip this function as it requires a great deal of time to complete (training a separate model for EVERY drug-disease association, basically). The command to do so with a logistic regression classifier is below, feel free to run it! The `'out='` flag defines the name of the output files. Again, only diseases with 2+ compounds associated are benchmarked.\n",
        "\n",
        "`cnd.ml(method='rf', benchmark=True, seed=50, out='test_rf')`\n",
        "\n",
        "### ML - predict\n",
        "We can also use this module to predict if a certain compound may be therapeutic for a given disease. We can use the\n",
        "`'predict='` flag to specify a list of compounds that we wish to predict with the classifier. Let's use three drugs, imatinib, buprenorphine, and lisdexamfetamine, and see if they are predicted to have antibiotic activity using a random forest classifier."
      ]
    },
    {
      "cell_type": "code",
      "execution_count": null,
      "metadata": {
        "colab": {
          "base_uri": "https://localhost:8080/"
        },
        "id": "eThdTGnQIOFX",
        "outputId": "3584ed2f-9ddb-4de2-f829-78e66eb1e3ff"
      },
      "outputs": [
        {
          "output_type": "stream",
          "name": "stdout",
          "text": [
            "Indication: Bacterial Infections\n",
            "Leave-one-out cross validation: TP=31, FP=55, FN=24, TN=0, Acc=28.182\n",
            "\tCompound\tProb\n",
            "\timatinib\t0.440\n",
            "\tbuprenorphine\t0.370\n",
            "\tlisdexamfetamine\t0.340\n"
          ]
        }
      ],
      "source": [
        "baci = cando.get_indication('MESH:D001424')\n",
        "\n",
        "imat = cando.get_compound(503)\n",
        "bup = cando.get_compound(797)\n",
        "lamf = cando.get_compound(1121)\n",
        "\n",
        "cando.ml(method='rf', effect=baci, benchmark=False, seed=50, predict=[imat, bup, lamf])"
      ]
    },
    {
      "cell_type": "markdown",
      "metadata": {
        "id": "WNXIUCS_IOFX"
      },
      "source": [
        "The accuracy is quite poor, so fine-tuning and hyperparameter optimization is necessary to enhance performance."
      ]
    },
    {
      "cell_type": "markdown",
      "metadata": {
        "id": "IzzvdRgqIOFX"
      },
      "source": [
        "<a class=\"anchor\" id=\"custom\"></a>\n",
        "## Custom protein subsets and signatures\n",
        "It may be useful for some users to probe compound-protein interaction similarity, but only in the context of a few particular proteins (e.g. set of kinase inhibitors). Instead of generating a new matrix with all of these proteins and their corresponding interaction values, which can begin to take up a lot of storage if done multiple times, the `'protein_set='` flag can be specified during the instantiation of the CANDO object. This flag contains the path to the protein subset the user wishes to use, which is simply a list of UniProt protein IDs. The CANDO object will automatically check for each ID if it either simply matches any UniProt IDs within the matrix or if that UniProt ID is associated with any PDB chains within the matrix (based on a mapping from the SIFTs project). If there are matches, the CANDO object will now contain Compound objects with only those protein interaction values in their signatures. Below is how to use this functionality - this time we can search for the bacterial proteins from the previous `canpredict_denovo()` section, but filter the proteins from the start using a list of UniProt IDs."
      ]
    },
    {
      "cell_type": "code",
      "execution_count": null,
      "metadata": {
        "colab": {
          "base_uri": "https://localhost:8080/"
        },
        "id": "VBo7kMjFIOFX",
        "outputId": "a049ac86-32d7-4123-e0cd-3813b95b819c"
      },
      "outputs": [
        {
          "output_type": "stream",
          "name": "stdout",
          "text": [
            "Reading signatures from matrix...\n",
            "Editing signatures according to proteins in tutorial-bac-prots.txt...\n",
            "Downloading UniProt to PDB mapping file...\n"
          ]
        },
        {
          "output_type": "stream",
          "name": "stderr",
          "text": [
            "/usr/local/lib/python3.10/dist-packages/cando/data/v2.2+//mappings/pdb_2_uniprot.csv [ 29.3 MB] [] [Time:  0:01:31] \n"
          ]
        },
        {
          "output_type": "stream",
          "name": "stdout",
          "text": [
            "\tDirect UniProt matches:\t0\n",
            "\tDirect PDB matches:    \t15\n",
            "\tNew signature length:  \t15\n",
            "Done reading signatures.\n",
            "\n",
            "Computing cosine distances...\n",
            "Done computing cosine distances.\n",
            "\n",
            "Number of proteins in new signature = 15\n"
          ]
        }
      ],
      "source": [
        "cando_subset = cnd.CANDO(cmpd_map, ind_map, matrix=matrix_file, compound_set='approved',\n",
        "                         compute_distance=True, protein_set=protein_set,\n",
        "                         dist_metric=dist_metric, ncpus=ncpus)\n",
        "\n",
        "print(\"Number of proteins in new signature =\", len(cando_subset.proteins))"
      ]
    },
    {
      "cell_type": "markdown",
      "metadata": {
        "id": "4WW2EGpiIOFY"
      },
      "source": [
        "The signature was successfully edited to 15 proteins. Note: this does not nececessarily mean the each UniProt ID had a corresponding PDB match -- multiple PDB chains can be associated with a given UniProt ID. If the matrix contains UniProt IDs in the first column instead of PDB IDs, as in this case, the \"Direct UniProt matches\" value would be incremented if they match.\n",
        "\n",
        "We can also repeat all benchmarks and predictive algorithms with the new signatures. Below is the default benchmarking results with the new signatures."
      ]
    },
    {
      "cell_type": "code",
      "execution_count": null,
      "metadata": {
        "colab": {
          "base_uri": "https://localhost:8080/"
        },
        "id": "b3B0-23gIOFY",
        "outputId": "637282d9-a00b-4b1a-d9ef-5052612a0b58"
      },
      "outputs": [
        {
          "output_type": "stream",
          "name": "stdout",
          "text": [
            "\taia\n",
            "top10\t16.904\n",
            "top25\t24.029\n",
            "top50\t31.092\n",
            "top100\t40.775\n",
            "top2449\t100.000\n",
            "top1%\t23.625\n",
            "top5%\t43.785\n",
            "top10%\t56.529\n",
            "top50%\t90.123\n",
            "top100%\t100.000\n",
            "\n",
            "\n"
          ]
        }
      ],
      "source": [
        "cando_subset.canbenchmark('test_subset')"
      ]
    },
    {
      "cell_type": "markdown",
      "metadata": {
        "id": "x2bxRQ02IOFY"
      },
      "source": [
        "Let's repeat the ML code from above, but this time with the reduced protein subset."
      ]
    },
    {
      "cell_type": "code",
      "execution_count": null,
      "metadata": {
        "colab": {
          "base_uri": "https://localhost:8080/"
        },
        "id": "Nb2ObasgIOFY",
        "outputId": "96f5547b-fd08-4634-c153-90849e7d279f"
      },
      "outputs": [
        {
          "output_type": "stream",
          "name": "stdout",
          "text": [
            "Indication: Bacterial Infections\n",
            "Leave-one-out cross validation: TP=33, FP=55, FN=22, TN=0, Acc=30.000\n",
            "\tCompound\tProb\n",
            "\timatinib\t0.410\n",
            "\tbuprenorphine\t0.320\n",
            "\tlisdexamfetamine\t0.600\n"
          ]
        }
      ],
      "source": [
        "baci = cando_subset.get_indication('MESH:D001424')\n",
        "\n",
        "imat = cando_subset.get_compound(503)\n",
        "bup = cando_subset.get_compound(797)\n",
        "lamf = cando_subset.get_compound(1121)\n",
        "\n",
        "cando_subset.ml(method='rf', effect=baci, benchmark=False,\n",
        "                seed=50, predict=[imat, bup, lamf])"
      ]
    },
    {
      "cell_type": "markdown",
      "metadata": {
        "id": "wiyfkBthIOFY"
      },
      "source": [
        "As you can see, the output probability significantly change for one of the compounds, lisdexamfetamine, from 0.340 to 0.600, illustrating the impact of protein subset composition on model behavior."
      ]
    },
    {
      "cell_type": "markdown",
      "metadata": {
        "id": "VJNNOp4bIOFY"
      },
      "source": [
        "<a class=\"anchor\" id=\"novel-cmpd\"></a>\n",
        "## Generate proteomic signatures for new compounds\n",
        "\n",
        "The CANDO platform contains an extensive library of approved drugs and other compounds from DrugBank. However, if you wish to predict indications or similar drugs for a compound that is not present in our library, we make it possible with the `generate_signature()` function.\n",
        "\n",
        "First, you must have the compound properly formatted in mol file format. There are many programs that provide conversion between many chemical file formats, such as OpenBabel.\n",
        "\n",
        "Next, run `generate_signature()`. This will populate a tsv file with Tanimoto/Sorenson-Dice similarity scores of the provided compound to all binding site ligands in our database. These values will be used for the generation of the drug-proteome signature. The input parameters for this function are very similar to those for `generate_matrix()`, however the first argument is the path to the compound structure file in mol format. The output signature file will be saved in tsv format with the name you provide for \"out_file\" (with the appended path from \"out_path\").\n",
        "\n",
        "**NOTE: the interaction score protocol must match the input matrix protocol, which was 'CxP' as above. If we used a different protocol, these scores would not be directly comparable.**"
      ]
    },
    {
      "cell_type": "code",
      "execution_count": null,
      "metadata": {
        "colab": {
          "base_uri": "https://localhost:8080/"
        },
        "id": "-YL1SGIRIOFY",
        "outputId": "48238d3d-678c-4763-bb98-fe5f6f3a155a"
      },
      "outputs": [
        {
          "output_type": "stream",
          "name": "stdout",
          "text": [
            "Generating CANDO signature...\n",
            "Signature written to ./lmk235_signature.tsv.\n",
            "signature generation took 2 s to finish.\n"
          ]
        },
        {
          "output_type": "execute_result",
          "data": {
            "text/plain": [
              "array([0.1848    , 0.16993631, 0.13525424, 0.15766423, 0.10884956,\n",
              "       0.12212766, 0.09036145, 0.091     , 0.14578313, 0.09340659,\n",
              "       0.2705618 , 0.09791209, 0.05578947, 0.09369231, 0.        ,\n",
              "       0.1248227 , 0.18481283, 0.19      , 0.26209677, 0.23526627,\n",
              "       0.19830986, 0.08827586, 0.14720721, 0.15319149, 0.27016129,\n",
              "       0.20377358, 0.13428571, 0.15909091, 0.14285714, 0.18481928,\n",
              "       0.195     , 0.14853147, 0.15454545, 0.19417476, 0.14193548,\n",
              "       0.17648352, 0.15144385, 0.        , 0.11092437, 0.15469027,\n",
              "       0.12273292, 0.17103448, 0.0980198 , 0.14978102, 0.21375   ,\n",
              "       0.11052632, 0.02769231, 0.2381457 , 0.07590361, 0.09912088,\n",
              "       0.        , 0.144     , 0.110625  , 0.12048193, 0.15954545,\n",
              "       0.16819672, 0.12082645, 0.21666667, 0.13175182, 0.1890411 ,\n",
              "       0.17088608, 0.1275    , 0.15580645, 0.26373494])"
            ]
          },
          "metadata": {},
          "execution_count": 27
        }
      ],
      "source": [
        "cmpd_file = \"lmk235.mol\"\n",
        "signature_file = \"lmk235_signature.tsv\"\n",
        "\n",
        "cnd.generate_signature(cmpd_file, fp=\"rd_ecfp4\", vect=\"int\", dist=\"dice\",\n",
        "                      org=\"tutorial\", bs=\"coach\", c_cutoff=0.0, p_cutoff=0.0,\n",
        "                      percentile_cutoff=0.0, i_score=\"CxP\", out_file=signature_file,\n",
        "                      out_path=\".\", nr_ligs=True)"
      ]
    },
    {
      "cell_type": "markdown",
      "metadata": {
        "id": "9YTRc6C0IOFZ"
      },
      "source": [
        "We then must add the compound to the existing `CANDO` object with the `add_cmpd()` function. The inputs are the newly generated signature file and the desired name (which below is \"lmk-235\")."
      ]
    },
    {
      "cell_type": "code",
      "execution_count": null,
      "metadata": {
        "colab": {
          "base_uri": "https://localhost:8080/"
        },
        "id": "GBSNcJVpIOFZ",
        "outputId": "086c8e2d-50bf-4b9d-8e7d-6ad3c29eb9f9"
      },
      "outputs": [
        {
          "output_type": "stream",
          "name": "stdout",
          "text": [
            "New compound is lmk-235\n",
            "New compound has id 10674 and index 10674\n"
          ]
        }
      ],
      "source": [
        "cando.add_cmpd(signature_file, new_name='lmk-235')"
      ]
    },
    {
      "cell_type": "markdown",
      "metadata": {
        "id": "yxVL6LiHIOFZ"
      },
      "source": [
        "Now that our new compound is added to the platform, we can see what other compounds to which it is similar. We can use the `similar_compounds()` function from before to print those compounds."
      ]
    },
    {
      "cell_type": "code",
      "execution_count": null,
      "metadata": {
        "colab": {
          "base_uri": "https://localhost:8080/"
        },
        "id": "w6qT48xxIOFZ",
        "outputId": "4e260bfc-1305-4c7e-f08e-a1233733ffd7"
      },
      "outputs": [
        {
          "output_type": "stream",
          "name": "stdout",
          "text": [
            "Using CANDO compound lmk-235\n",
            "Compound has id 10674 and index 10674\n",
            "Comparing signature to all CANDO compound signatures...\n",
            "Printing top10 most similar compounds...\n",
            "\n",
            "rank\tdist\tid\tname\n",
            "1\t0.024\t9100\tlusutrombopag\n",
            "2\t0.025\t7830\tpadimate_o\n",
            "3\t0.025\t1060\tacebutolol\n",
            "4\t0.025\t7659\tdiethylamino_hydroxybenzoyl_hexyl_benzoate\n",
            "5\t0.026\t655\ttirofiban\n",
            "6\t0.026\t2268\tvorinostat\n",
            "7\t0.026\t813\tsalmeterol\n",
            "8\t0.026\t5103\tbendamustine\n",
            "9\t0.026\t4413\tceliprolol\n",
            "10\t0.027\t411\tcinchocaine\n",
            "11\t0.027\t985\tamiodarone\n",
            "\n",
            "\n"
          ]
        }
      ],
      "source": [
        "lmk235 = cando.get_compound(10674)\n",
        "cando.similar_compounds(lmk235, n=10)"
      ]
    },
    {
      "cell_type": "markdown",
      "metadata": {
        "id": "6LMiEV3UIOFZ"
      },
      "source": [
        "Finally, we can predict potential indications for which our new compound may be useful. We can use the `canpredict_indications()` as before to print those results."
      ]
    },
    {
      "cell_type": "code",
      "execution_count": null,
      "metadata": {
        "colab": {
          "base_uri": "https://localhost:8080/"
        },
        "id": "DGINMPLcIOFZ",
        "outputId": "b2115d13-dd6c-4199-dd73-91fee4210db1"
      },
      "outputs": [
        {
          "output_type": "stream",
          "name": "stdout",
          "text": [
            "Using CANDO compound lmk-235\n",
            "Compound has id 10674 and index 10674\n",
            "Comparing signature to all CANDO compound signatures...\n",
            "Generating indication predictions using top25 most similar compounds...\n",
            "Printing the 15 highest predicted indications...\n",
            "\n",
            "rank\tprobability\tscore\tind_id    \tindication\n",
            "1\t1.27e-03   \t2\tMESH:D018879\tVentricular Premature Complexes\n",
            "2\t1.31e-03   \t3\tMESH:D000787\tAngina Pectoris\n",
            "3\t5.81e-03   \t2\tMESH:D008113\tLiver Neoplasms\n",
            "4\t9.45e-03   \t2\tMESH:D014693\tVentricular Fibrillation\n",
            "5\t1.10e-02   \t3\tMESH:D001145\tArrhythmias, Cardiac\n",
            "6\t1.13e-02   \t2\tMESH:D013276\tStomach Ulcer\n",
            "7\t1.34e-02   \t2\tMESH:D010190\tPancreatic Neoplasms\n",
            "8\t1.49e-02   \t2\tMESH:D017180\tTachycardia, Ventricular\n",
            "9\t1.91e-02   \t2\tMESH:D017202\tMyocardial Ischemia\n",
            "10\t2.29e-02   \t2\tMESH:D008175\tLung Neoplasms\n",
            "11\t2.87e-02   \t3\tMESH:D001943\tBreast Neoplasms\n",
            "12\t3.16e-02   \t2\tMESH:D001008\tAnxiety Disorders\n",
            "13\t4.90e-02   \t2\tMESH:D009374\tNeoplasms, Experimental\n",
            "14\t5.20e-02   \t2\tMESH:D013610\tTachycardia\n",
            "15\t5.83e-02   \t2\tMESH:D011471\tProstatic Neoplasms\n",
            "\n"
          ]
        }
      ],
      "source": [
        "cando.canpredict_indications(lmk235, n=25, topX=15)"
      ]
    },
    {
      "cell_type": "markdown",
      "metadata": {
        "id": "Fn9gffZnIOFZ"
      },
      "source": [
        "Interestingly, both Hypertension (MESH:D006973) and Pain (MESH:D010146) are top predictions - the analgesic and hypotensive properties of lmk-235 are both supported by in vivo studies in the literature."
      ]
    },
    {
      "cell_type": "markdown",
      "metadata": {
        "id": "P9Eh1GgFIOFZ"
      },
      "source": [
        "<a class=\"anchor\" id=\"new-cmpd-lib\"></a>\n",
        "## Generate a new compound library\n",
        "\n",
        "In this part of the tutorial, we will walk you through how to create a new, unique compound library to use for matrix generation."
      ]
    },
    {
      "cell_type": "markdown",
      "metadata": {
        "id": "pZQBI_A1IOFa"
      },
      "source": [
        "### Create compound set\n",
        "\n",
        "In order to create a new compound set, you must first have a TSV (tab separated values) file that contains one of two chemical file types:\n",
        "\n",
        "1. SMILES - `file_type='smi'`. The file must have the SMILES string as the first column and the corresponding compound name in the second column, e.g.\n",
        "    `C1CNCCN(C1)S(=O)(=O)C2=CC=CC3=C2C=CN=C3 fasudil`\n",
        "    \n",
        "2. Mol - `file_type='mol'`. The file must have the name of the file, without the file extension. In addition, the path to the files must be given in the argument `cmpd_dir`.\n",
        "\n",
        "In our example, we will create a new compound library of select tyrosine kinase inhibitors (TKIs) that we will then use to create a new matrix with just these drugs. First, we generate the library."
      ]
    },
    {
      "cell_type": "code",
      "execution_count": null,
      "metadata": {
        "colab": {
          "base_uri": "https://localhost:8080/"
        },
        "id": "6hqVS0-EIOFa",
        "outputId": "0f523819-c21d-4a4e-8744-fd60320a6107"
      },
      "outputs": [
        {
          "output_type": "stream",
          "name": "stdout",
          "text": [
            "Creating new compound library tki...\n",
            "The library will be built at /content/tutorial/tki.\n"
          ]
        },
        {
          "output_type": "stream",
          "name": "stderr",
          "text": [
            "/usr/local/lib/python3.10/dist-packages/cando/data/v2.2+//mappings/drugbank-v2.3.tsv [739.8 KB] [] [Time:  0:00:02] \n",
            "/usr/local/lib/python3.10/dist-packages/cando/data/v2.2+//mappings/drugbank2ctd-v2.3.tsv [902.5 KB] [] [Time:  0:00:02] \n"
          ]
        },
        {
          "output_type": "stream",
          "name": "stdout",
          "text": [
            "    Adding compound 0 - fasudil\n",
            "    Adding compound 1 - rapamycin\n",
            "    Adding compound 2 - imatinib\n",
            "    Adding compound 3 - gefitinib\n",
            "    Adding compound 4 - erlotinib\n",
            "    Adding compound 5 - sorafenib\n",
            "    Adding compound 6 - sunitinib\n",
            "Added compounds to compound library tki.\n",
            "\n"
          ]
        }
      ],
      "source": [
        "cnd.add_cmpds(\"tki_set-test.smi\", file_type='smi', fp=\"rd_ecfp4\", vect=\"int\", cmpd_dir=\".\", v='tki')"
      ]
    },
    {
      "cell_type": "markdown",
      "metadata": {
        "id": "EgegCx4aIOFa"
      },
      "source": [
        "We have now generated a new compound library, located at `./tki/cmpds`. This location is partially hardcoded, so it will also create a directory in your current working directory, `./`, named after the `v` you choose, `./tki`. This makes it easier for the end-user.\n",
        "\n",
        "Notice we chose to use the rdkit fingerprint ecfp4, `fp=\"rd_ecfp4\"`, and the vector type int, `vect=\"int\"`. We need to keep track of this for our matrix generation."
      ]
    },
    {
      "cell_type": "markdown",
      "metadata": {
        "id": "WCBaVVYXIOFa"
      },
      "source": [
        "### Generate matrix from new compound library\n",
        "\n",
        "Next we will generate a matrix using this **tki** compound library. The generate matrix function can take in a customized matrix, as opposed to the pregenerated/downlaoded matrices based upon our predefined `v`, e.g. v2.2, v2.3, etc. By setting `v` to the same name you used in the previous `add_cmpds` function, you can load those cmpds to create a new matrix.\n",
        "\n",
        "We will set `v='tki'` and `lib_path='.'`. This means we will use the **tki** library, which is located in the current working dir. In addition, sicne we created our compound library using fingerprint type ecfp4, we need to make sure we use it here, as well. The remaining arguemnts has already been discussed in the previous <a class=\"anchor\" id=\"interaction-matrix\">generate matrix</a> section.\n"
      ]
    },
    {
      "cell_type": "code",
      "execution_count": null,
      "metadata": {
        "colab": {
          "base_uri": "https://localhost:8080/"
        },
        "id": "wSp3_BKhIOFa",
        "outputId": "68582796-3bd2-4f23-9087-e5562ad390f9"
      },
      "outputs": [
        {
          "output_type": "stream",
          "name": "stdout",
          "text": [
            "Generating CANDO matrix...\n",
            "Matrix written to ./tki/matrices/rd_ecfp4-int-dice-tutorial-coach-c0.0-p0.0-CxP.tsv.\n",
            "Matrix generation took 26 s to finish.\n"
          ]
        }
      ],
      "source": [
        "cnd.generate_matrix(v=\"tki\", lib_path='.',\n",
        "                    fp=\"rd_ecfp4\", vect=\"int\",\n",
        "                    dist=\"dice\", org=\"tutorial\", bs=\"coach\",\n",
        "                    c_cutoff=0.0, p_cutoff=0.0, percentile_cutoff=0.0,\n",
        "                    i_score=\"CxP\", out_file='', out_path=\"\",\n",
        "                    nr_ligs=True, approved_only=False,\n",
        "                    lig_name=False, ncpus=ncpus)"
      ]
    },
    {
      "cell_type": "markdown",
      "metadata": {
        "id": "c90kSKaAIOFa"
      },
      "source": [
        "We now have a brand new matrix with all of our new TKIs scored against our set of 64 test proteins. This file is located at `./tki/matrices/`. Again, these paths are mostly hardcoded. You can control where the matrix is written and what the name is using the `out_path` and `out_file` arguments. When these arugments are set to '' the hardcoded paths are used, as shown in this example.\n",
        "\n",
        "Now we will load the newly created matrix into a CANDO object."
      ]
    },
    {
      "cell_type": "code",
      "execution_count": null,
      "metadata": {
        "colab": {
          "base_uri": "https://localhost:8080/"
        },
        "id": "ek9b3Wr_IOFa",
        "outputId": "c66bb3d5-c6d7-4195-94aa-5ffbd58d2c73"
      },
      "outputs": [
        {
          "output_type": "stream",
          "name": "stdout",
          "text": [
            "Reading signatures from matrix...\n",
            "Done reading signatures.\n",
            "\n",
            "Computing cosine distances...\n",
            "Done computing cosine distances.\n",
            "\n"
          ]
        }
      ],
      "source": [
        "# Set compound mapping variable to the new TKI compound mapping file\n",
        "tki_map = 'tki/mappings/cmpds-tki.tsv'\n",
        "tki_matrix = 'tki/matrices/rd_ecfp4-int-dice-tutorial-coach-c0.0-p0.0-CxP.tsv'\n",
        "# Create CANDO object using the new compound mapping and TKI matrix\n",
        "tki_cando = cnd.CANDO(tki_map, ind_map, matrix=tki_matrix, compound_set='all', compute_distance=True,\n",
        "                  dist_metric=dist_metric, ncpus=ncpus)"
      ]
    },
    {
      "cell_type": "markdown",
      "metadata": {
        "id": "MFFZ2uetIOFa"
      },
      "source": [
        "Check the new CANDO object data and the most similar compounds to the first TKI."
      ]
    },
    {
      "cell_type": "code",
      "execution_count": null,
      "metadata": {
        "colab": {
          "base_uri": "https://localhost:8080/"
        },
        "id": "7oeXMWSvIOFb",
        "outputId": "5f3ee8ce-5c27-4a52-d959-cd53734c9682"
      },
      "outputs": [
        {
          "output_type": "stream",
          "name": "stdout",
          "text": [
            "compounds 7\n",
            "indications 48\n",
            "proteins 64\n",
            "\n",
            "fasudil 64\n",
            "[0.162, 0.111, 0.1, 0.13, 0.169, 0.087, 0.018, 0.066, 0.045, 0.086, 0.068, 0.184, 0.085, 0.087, 0.0, 0.088, 0.113, 0.198, 0.206, 0.238, 0.15, 0.066, 0.015, 0.207, 0.195, 0.158, 0.099, 0.043, 0.191, 0.121, 0.238, 0.105, 0.07, 0.099, 0.202, 0.117, 0.148, 0.0, 0.129, 0.062, 0.116, 0.128, 0.114, 0.093, 0.376, 0.111, 0.034, 0.214, 0.11, 0.067, 0.0, 0.108, 0.132, 0.196, 0.071, 0.156, 0.105, 0.16, 0.092, 0.103, 0.194, 0.058, 0.163, 0.118]\n",
            "\n",
            "rapamycin 0.081\n",
            "imatinib 0.044\n",
            "gefitinib 0.061\n",
            "erlotinib 0.073\n",
            "sorafenib 0.077\n"
          ]
        }
      ],
      "source": [
        "# print cando object stats\n",
        "print('compounds', len(tki_cando.compounds))\n",
        "print('indications', len(tki_cando.indications))\n",
        "print('proteins', len(tki_cando.proteins))\n",
        "print('')\n",
        "\n",
        "# print first TKI name and signature\n",
        "c = tki_cando.compounds[0]\n",
        "print(c.name, len(c.sig))\n",
        "print(c.sig)\n",
        "print('')\n",
        "\n",
        "# top5 most similar compounds to first TKI\n",
        "for s in c.similar[0:5]:\n",
        "    print(s[0].name, round(s[1], 3))"
      ]
    },
    {
      "cell_type": "markdown",
      "metadata": {
        "collapsed": true,
        "id": "kCgV0v7UIOFb"
      },
      "source": [
        "<a class=\"anchor\" id=\"virtual-screen\"></a>\n",
        "## Virtual screening in CANDO\n",
        "Though the CANDO platform is mainly intended for multitarget drug discovery and repurposing, there still exists the option to check the top compound hits for a given protein. This is accomplished via the `virtual_screen()` function. Let's test the top hits for two of the known bacterial proteins from above, namely \"1u2mC\", \"3atsA\"."
      ]
    },
    {
      "cell_type": "code",
      "execution_count": null,
      "metadata": {
        "colab": {
          "base_uri": "https://localhost:8080/"
        },
        "id": "TI6xhmz4IOFb",
        "outputId": "006c025b-1f0f-4996-f1ee-fba485364607"
      },
      "outputs": [
        {
          "output_type": "stream",
          "name": "stdout",
          "text": [
            "Protein is 1u2mC\n",
            "rank\tscore\tid\tapproved\tname\n",
            "1\t0.444\t317\ttrue    \tstreptozocin\n",
            "2\t0.406\t7539\ttrue    \tthiosulfuric_acid\n",
            "3\t0.389\t1145\ttrue    \tglucosamine\n",
            "4\t0.35\t10026\ttrue    \tmagnesium\n",
            "5\t0.343\t7300\ttrue    \taurothioglucose\n",
            "6\t0.33\t1191\ttrue    \tcalcium\n",
            "7\t0.327\t4140\ttrue    \tgluconolactone\n",
            "8\t0.306\t27\ttrue    \tadenosine_phosphate\n",
            "9\t0.301\t7291\ttrue    \tcoenzyme_m\n",
            "10\t0.301\t1715\ttrue    \ttaurine\n",
            "\n",
            "Protein is 3atsA\n",
            "rank\tscore\tid\tapproved\tname\n",
            "1\t0.8\t10026\ttrue    \tmagnesium\n",
            "2\t0.67\t1191\ttrue    \tcalcium\n",
            "3\t0.58\t53\ttrue    \tnadh\n",
            "4\t0.57\t27\ttrue    \tadenosine_phosphate\n",
            "5\t0.53\t1039\ttrue    \tkanamycin\n",
            "6\t0.52\t524\ttrue    \tadenosine\n",
            "7\t0.52\t89\ttrue    \tvidarabine\n",
            "8\t0.519\t2823\ttrue    \tflavin_adenine_dinucleotide\n",
            "9\t0.506\t1421\ttrue    \t5-o-phosphono-alpha-d-ribofuranosyl_diphosphate\n",
            "10\t0.473\t9117\ttrue    \tinosine_pranobex\n",
            "\n"
          ]
        }
      ],
      "source": [
        "cando.virtual_screen(\"1u2mC\")\n",
        "cando.virtual_screen(\"3atsA\")"
      ]
    },
    {
      "cell_type": "markdown",
      "metadata": {
        "id": "Y_YuUq1YIOFb"
      },
      "source": [
        "Streptozocin is the top hit for 1u2mC, which suggests it shares significant structural similarity to a ligand known/predicted to bind to this protein. Similarly, kanamycin is the 5th hit for 3atsA. These scores/ranks can change significantly based on scoring protocol used for the matrix - changing i_score in `generate_matrix()` to \"dC\", for example, would greatly affect the output."
      ]
    }
  ],
  "metadata": {
    "kernelspec": {
      "display_name": "Python 3",
      "language": "python",
      "name": "python3"
    },
    "language_info": {
      "codemirror_mode": {
        "name": "ipython",
        "version": 3
      },
      "file_extension": ".py",
      "mimetype": "text/x-python",
      "name": "python",
      "nbconvert_exporter": "python",
      "pygments_lexer": "ipython3",
      "version": "3.7.9"
    },
    "colab": {
      "provenance": [],
      "include_colab_link": true
    }
  },
  "nbformat": 4,
  "nbformat_minor": 0
}