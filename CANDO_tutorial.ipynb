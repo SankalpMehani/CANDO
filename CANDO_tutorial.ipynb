{
 "cells": [
  {
   "cell_type": "markdown",
   "metadata": {},
   "source": [
    "# CANDO Tutorial\n",
    "\n",
    "This notebook will walk you through how to generate a CANDO matrix, set up a CANDO object, probe the data, benchmark the platform, and make therapeutic predictions. \n",
    "\n",
    "## ToC\n",
    "* [Introduction](#intro)\n",
    "* [Get Started](#get-started)\n",
    "* [Generate interaction matrix](#interaction-matrix)\n",
    "* [Setting up CANDO objects](#cando-object)\n",
    "* [Check data](#check-data)\n",
    "* [CANBENCHMARK](#canbenchmark)\n",
    "* [CANPREDICT](#canpredict)\n",
    "* [Machine Learning with CANDO](#ml)\n",
    "* [Custom protein subsets and signatures](#custom)\n",
    "* [Generate signatures for novel compounds](#novel)\n",
    "* [Generate a new compound library](#new-cmpd-lib)\n",
    "* [Virtual screening in CANDO](#virtual-screen)\n",
    "\n"
   ]
  },
  {
   "cell_type": "markdown",
   "metadata": {},
   "source": [
    "<a class=\"anchor\" id=\"intro\"></a>\n",
    "## Introduction"
   ]
  },
  {
   "cell_type": "markdown",
   "metadata": {},
   "source": [
    "<a class=\"anchor\" id=\"get-started\"></a>\n",
    "## Get Started\n",
    "\n",
    "We begin by importing the cando package. Once cando has been imported we can pull the example mappings and matrix data for this tutorial, `cnd.get_tutorial()`. Lastly, for our set up, we define important variables that will be used throughout this tutorial. These variables will be explained as each becomes important for different functions."
   ]
  },
  {
   "cell_type": "code",
   "execution_count": 1,
   "metadata": {
    "scrolled": true
   },
   "outputs": [
    {
     "name": "stdout",
     "output_type": "stream",
     "text": [
      "Downloading data for tutorial...\n",
      "All data for tutorial downloaded.\n",
      "\n",
      "Downloading data for v2.2...\n",
      "/Users/williammangione/Documents/CANDO/cando/data/v2.2+/mappings/drugbank-v2.2.tsv exists.\n",
      "/Users/williammangione/Documents/CANDO/cando/data/v2.2+/mappings/drugbank2ctd-v2.2.tsv exists.\n",
      "/Users/williammangione/Documents/CANDO/cando/data/v2.2+/prots/nrpdb-coach.tsv exists.\n",
      "All data for v2.2 downloaded.\n"
     ]
    }
   ],
   "source": [
    "import sys, os\n",
    "# import the cando package\n",
    "import cando as cnd\n",
    "\n",
    "# Pull data for this entire tutorial\n",
    "cnd.get_tutorial()\n",
    "cnd.get_data()\n",
    "\n",
    "# Define variables for matrix generation and CANDO object creation\n",
    "matrix_file='tutorial_matrix-approved.tsv'\n",
    "cmpd_map='cmpds-v2.2.tsv'\n",
    "ind_map='cmpds2inds-v2.2.tsv'\n",
    "#prot_scores='{}/example-prots_scores.tsv'.format(root_path)\n",
    "protein_set=\"tutorial-bac-prots.txt\"\n",
    "dist_metric='cosine'\n",
    "ncpus=3\n",
    "\n",
    "os.chdir(\"tutorial\")"
   ]
  },
  {
   "cell_type": "markdown",
   "metadata": {},
   "source": [
    "<a class=\"anchor\" id=\"interaction-matrix\"></a>\n",
    "## Generate interaction matrix\n",
    "\n",
    "The example interaction matrix, `matrix_file`, has already been downloaded via `get_tutorial()`. This function may take anywhere from ~1-10 mins on 3 cores, depending on your computer's processor.\n",
    "\n",
    "In this step we will generate a matrix of 2,449 approved compounds by 64 proteins, populated with the corresponding interaction score betwen each drug and protein. The final matrix will have drugs as the columns (indexed according to the compound mapping file), and proteins as the indices (indexed by PDB and chain ID).\n",
    "\n",
    "The function `generate_matrix()` first creates a dataframe for all chemical fingerprint similarity scores comparing each compound in the specified version library `v` (or only approved drugs with `approved_only=True`) to every potential binding site ligand from the PDB using RDKit to compute the chemical fingerprints in which `fp` denotes the type/radius of fingerprint (rd_ecfp4, rd_ecfp8, etc). The vector type, `vect`, can be binary (\"1024_bit\" or \"2048_bit\") or integer (\"int\") and denote the presence or absence or count of molecular substructures in the molecule, respectively. If using integer vectors, `dist` should be set to \"dice\", but binary vectors can be set to Tanimoto (\"tani\"). Next, it creates a dataframe of all potential binding sites for each protein in the specified protein library, `protlib`, with their corresponding binding site scores from the specified binding site prediction method, `bs` (\"coach\", \"cof\", \"ssite\", \"tms\"). The function then iterates over all drugs and protein binding sites to populate the matrix with the best score based on the following input parameters: 1) `i_score` - the scoring protocol of choice, which can be 'C', 'dC', 'P', 'CxP', 'dCxP', where C is the fingerprint similarity score (either Tanimoto or Sorenson-Dice coefficient), dC is the percentile of the C score for the compound compared to all ligands in the library, and P is binding site score associated with the ligand predicted by the [COACH algorithm](https://zhanglab.ccmb.med.umich.edu/COACH/), 2) `c_cutoff` and `p_cutoff` - set cutoffs which ignore any C or P scores below each threshold, respectively, and 3) `percentile_cutoff` - similar to `c_cutoff` but with the dC score (overrides `c_cutoff` if not `None`). These scores serve as a proxy for binding strength/probability of the drug and protein target. We then output the matrix to a tsv file, `out_file`, which in this case is \"tutorial_matrix-all.tsv\" (`out_path` can be set to write the file to a specific directory).\n",
    "\n",
    "We will create a matrix using the 'CxP' protocol, which just chooses the top Dice score to any ligand predicted to bind to a given protein, without any cutoffs. This function is parallelized, so setting the variable `ncpus` will change the number of processors that are used for this function. NOTE: percentile cutoff protocols ('dC', 'dCxP') take much longer to compute than 'C' and 'P' protocols. "
   ]
  },
  {
   "cell_type": "code",
   "execution_count": 2,
   "metadata": {},
   "outputs": [
    {
     "name": "stdout",
     "output_type": "stream",
     "text": [
      "Generating CANDO matrix...\n",
      "Matrix written to ./tutorial_matrix-approved.tsv.\n",
      "Matrix generation took 4 min 0 s to finish.\n"
     ]
    }
   ],
   "source": [
    "# generate example cando interaction matrix (2,449 compounds x 64 proteins)\n",
    "cnd.generate_matrix(v=\"v2.2\", fp=\"rd_ecfp4\", vect=\"int\",\n",
    "                    dist=\"dice\", org=\"tutorial\", bs=\"coach\",\n",
    "                    c_cutoff=0.0, p_cutoff=0.0, percentile_cutoff=0.0,\n",
    "                    i_score=\"CxP\", out_file='tutorial_matrix-approved.tsv', out_path=\".\",\n",
    "                    nr_ligs=True, approved_only=True,\n",
    "                    lib_path='', lig_name=False, ncpus=ncpus)"
   ]
  },
  {
   "cell_type": "markdown",
   "metadata": {},
   "source": [
    "<a class=\"anchor\" id=\"cando-object\"></a>\n",
    "## Setting up CANDO object\n",
    "\n",
    "1. First argument, `cmpd_map`, is the compound mapping which specifies all of the compounds in the matrix by name and ID.\n",
    "\n",
    "2. Second argument, `ind_map`, is the indication mapping which specifies which diseases the drugs/compounds are approved to treat.\n",
    "\n",
    "3. `matrix` is the cando interaction matrix file which contains the names of the proteins and the scores to all compounds in the proper order/indices as the compound mapping file indicates. **This file must be in tsv format.**\n",
    "\n",
    "4. `compute_distance` tells the object to compute the distances between the compounds in the platform based on the similarity of their interactions with all of the proteins. The distance metric used, `dist_metric`, can be cosine, RMSD, or many other common distance metrics (default is RMSD). This can be relatively time consuming depending on the amount of proteins, but with proteins on the order of hundreds it shouldn't take longer than a minute or two. If the computation does take a while (let's say >100,000 proteins), you can add a `save_dists='name_of_dist_file.tsv'` flag to save the computation. Then, simply use the `read_dists='name_of_dist_file.tsv'` to read in the already computed distances to save time. \n",
    "\n",
    "5. `compound_set` indicates which compounds to include in the CANDO object. The default option is 'all', but in this case we will use the 'approved' set to match the matrix we computed earlier. \n",
    "\n",
    "There are many other options available for the CANDO object instantiation, please consult the README for all of them (some more will be covered in this tutorial)."
   ]
  },
  {
   "cell_type": "code",
   "execution_count": 3,
   "metadata": {},
   "outputs": [
    {
     "name": "stdout",
     "output_type": "stream",
     "text": [
      "Reading signatures from matrix...\n",
      "Done reading signatures.\n",
      "\n",
      "Computing cosine distances...\n",
      "Done computing cosine distances.\n",
      "\n"
     ]
    }
   ],
   "source": [
    "# create object using example cando interaction matrix\n",
    "# compute distances using rmsd distance metric\n",
    "cando = cnd.CANDO(cmpd_map, ind_map, matrix=matrix_file, compound_set='approved', compute_distance=True, \n",
    "                  dist_metric=dist_metric, ncpus=ncpus)"
   ]
  },
  {
   "cell_type": "markdown",
   "metadata": {},
   "source": [
    "<a class=\"anchor\" id=\"check-data\"></a>\n",
    "## Check data\n",
    "The imported data from `get_tutorial()` contains the CANDO v2.2 mappings with a sample of 64 proteins (for simplicity sake). It should contain the v2.2 set of 13,190 drugs/compounds and 2,178 indications. Let's check to make sure this is the case. The `CANDO` object should automagically assign each compound its signature of 64 proteins. \n",
    "\n",
    "We can also search for compounds using a string input with `search_compound()`, in case you are unaware if the mapping file contains a compound of interest. Don't worry about exact spelling, it will output the top 5 (default) closest matches to your query. "
   ]
  },
  {
   "cell_type": "code",
   "execution_count": 4,
   "metadata": {},
   "outputs": [
    {
     "name": "stdout",
     "output_type": "stream",
     "text": [
      "compounds 2449\n",
      "indications 2214\n",
      "proteins 64\n",
      "\n",
      "id\tname\n",
      "0\tbivalirudin\n",
      "590\tlamivudine\n",
      "7272\tivabradine\n",
      "1129\ttelbivudine\n",
      "5056\tnilvadipine\n"
     ]
    }
   ],
   "source": [
    "# print cando object stats\n",
    "print('compounds', len(cando.compounds))\n",
    "print('indications', len(cando.indications))\n",
    "print('proteins', len(cando.proteins))\n",
    "print('')\n",
    "\n",
    "cando.search_compound('bilavarudin')"
   ]
  },
  {
   "cell_type": "markdown",
   "metadata": {},
   "source": [
    "Spelling was a bit off, but we found bivalirudin!\n",
    "\n",
    "Let's make sure bivalirudin has 64 values in its signature and take a look at the values themselves. We know its `id_` is 0 from searching. Depending on the scoring protocol used, the range/distribution of these values will vary.\n",
    "\n",
    "The `compute_distance` flag above tells the CANDO object to compute the RMSD between each compound on an all-vs-all basis. Let's check out the top5 most similar compounds to bivalirudin. The `Compound.similar` lists are part of the `Compound` objects and contain a tuple of every other compound object and its computed distance."
   ]
  },
  {
   "cell_type": "code",
   "execution_count": 5,
   "metadata": {},
   "outputs": [
    {
     "name": "stdout",
     "output_type": "stream",
     "text": [
      "bivalirudin 64\n",
      "[0.437, 0.087, 0.079, 0.077, 0.341, 0.062, 0.037, 0.061, 0.053, 0.054, 0.141, 0.094, 0.077, 0.328, 0.0, 0.071, 0.591, 0.411, 0.511, 0.488, 0.121, 0.023, 0.052, 0.375, 0.526, 0.088, 0.087, 0.038, 0.273, 0.344, 0.389, 0.574, 0.109, 0.254, 0.228, 0.094, 0.487, 0.0, 0.119, 0.06, 0.146, 0.071, 0.032, 0.228, 0.33, 0.063, 0.113, 0.396, 0.05, 0.046, 0.0, 0.064, 0.389, 0.068, 0.086, 0.433, 0.238, 0.404, 0.102, 0.175, 0.178, 0.355, 0.255, 0.084]\n",
      "\n",
      "leuprolide 0.024\n",
      "goserelin 0.026\n",
      "gramicidin_d 0.024\n",
      "desmopressin 0.059\n",
      "cetrorelix 0.022\n"
     ]
    }
   ],
   "source": [
    "# print bivalirudin signature\n",
    "c = cando.compounds[0]\n",
    "print(c.name, len(c.sig))\n",
    "print(c.sig)\n",
    "print('')\n",
    "\n",
    "# top5 most similar compounds to bivalirudin\n",
    "for s in c.similar[0:5]:\n",
    "    print(s[0].name, round(s[1], 3))"
   ]
  },
  {
   "cell_type": "markdown",
   "metadata": {},
   "source": [
    "<a class=\"anchor\" id=\"canbenchmark\"></a>\n",
    "## Canbenchmark - benchmarking module\n",
    "An important part of CANDO is benchmarking how well we can recapture drugs known to treat the same diseases within their respective `Compound.similar` lists. Currently, our benchmarking code calculates three metrics:\n",
    "1. Average indication accuracy (aia) - this value is the average of every individual indication accuracy\n",
    "2. Average pairwise accuracy (apa) - this value is the weighted average of each individual indication accuracy based on the number of drugs approved to treat it\n",
    "3. Indication coverage (ic) - this is the count of the number of non-zero indication accuracies\n",
    "\n",
    "The higher the metric scores for a given matrix/compound-protein scoring protocol, the more confidence we have in making predictions. \n",
    "\n",
    "An accuracy is calculated for each indication that has at least 2 compounds associated. To do this, we hold out each compound and look for any of the other approved compounds within a certain cutoff of the `Compound.similar` list for the held-out compound. The cutoffs are predetermined to be top10, top25, top50, and top100. There are also percent cutoffs that vary based on the number of compounds in the platform. So, for Indication-A with three drugs approved (D1, D2, and D3), we would hold out D1 and look for *either* D2 or D3 in the top10, top25, top50, and top100 compounds to D1. This would be repeated for D2 and D3. So let's say D3 was recaptured at rank 5 for D1, D1 was recaptured at rank 12 for D2, and D1 was recaptured at rank 27 for D3. The top10 average indication accuracy would be (1+0+0) / 3 == 33%, whereas the top25 would be (1+1+0) / 3 == 66%, and the top50 would be 100%. \n",
    "\n",
    "### Canbenchmark - classic\n",
    "Below is how to run the benchmarking code. The first argument of `canbenchmark()` is the extension to put on the output files, which are \"results_analysed_named\", \"raw_results\", and \"summary\". "
   ]
  },
  {
   "cell_type": "code",
   "execution_count": 6,
   "metadata": {
    "scrolled": true
   },
   "outputs": [
    {
     "name": "stdout",
     "output_type": "stream",
     "text": [
      "\taia\n",
      "top10\t20.316\n",
      "top25\t26.808\n",
      "top50\t32.635\n",
      "top100\t41.836\n",
      "top2449\t100.000\n",
      "top1%\t26.186\n",
      "top5%\t44.843\n",
      "top10%\t57.426\n",
      "top50%\t89.378\n",
      "top100%\t100.000\n",
      "\n",
      "\n"
     ]
    }
   ],
   "source": [
    "cando.canbenchmark('tutorial')"
   ]
  },
  {
   "cell_type": "markdown",
   "metadata": {},
   "source": [
    "Below is the printed summary file for the classic canbenchmark."
   ]
  },
  {
   "cell_type": "code",
   "execution_count": 7,
   "metadata": {},
   "outputs": [
    {
     "name": "stdout",
     "output_type": "stream",
     "text": [
      "\ttop10\ttop25\ttop50\ttop100\ttop2449\ttop1%\ttop5%\ttop10%\ttop50%\ttop100%\n",
      "aia\t20.316\t26.808\t32.635\t41.836\t100.000\t26.186\t44.843\t57.426\t89.378\t100.000\n",
      "apa\t35.180\t47.112\t57.909\t70.206\t100.000\t46.230\t73.574\t83.817\t97.693\t100.000\n",
      "ic\t819\t907\t969\t1078\t1595\t904\t1112\t1254\t1532\t1595\n",
      "\n"
     ]
    }
   ],
   "source": [
    "with open(\"summary-tutorial.tsv\", 'r') as f:\n",
    "    for line in f:\n",
    "        print(line.strip('\\n'))"
   ]
  },
  {
   "cell_type": "markdown",
   "metadata": {},
   "source": [
    "### Canbenchmark - associated\n",
    "There are variations of the benchmarking code which may be of interest to some users. For example, not every compound in the mapping files are associated with a disease. This can add significant noise and decrease performance if the compound library is very large. We can have these compounds removed by running another benchmarking method called `canbenchmark_associated()`, which will automatically filter out these non-associated compounds. "
   ]
  },
  {
   "cell_type": "code",
   "execution_count": 8,
   "metadata": {},
   "outputs": [
    {
     "name": "stdout",
     "output_type": "stream",
     "text": [
      "Making CANDO copy with only benchmarking-associated compounds\n",
      "Reading signatures from matrix...\n",
      "Done reading signatures.\n",
      "\n",
      "Computing cosine distances...\n",
      "Done computing cosine distances.\n",
      "\n",
      "\taia\n",
      "top10\t22.247\n",
      "top25\t30.538\n",
      "top50\t38.878\n",
      "top100\t49.696\n",
      "top1464\t100.000\n",
      "top1%\t24.593\n",
      "top5%\t44.549\n",
      "top10%\t56.129\n",
      "top50%\t87.369\n",
      "top100%\t100.000\n",
      "\n",
      "\n"
     ]
    }
   ],
   "source": [
    "cando.canbenchmark_associated('tutorial_associated')"
   ]
  },
  {
   "cell_type": "markdown",
   "metadata": {},
   "source": [
    "Below is the printed summary file for the associated canbenchmark."
   ]
  },
  {
   "cell_type": "code",
   "execution_count": 9,
   "metadata": {},
   "outputs": [
    {
     "name": "stdout",
     "output_type": "stream",
     "text": [
      "\ttop10\ttop25\ttop50\ttop100\ttop1464\ttop1%\ttop5%\ttop10%\ttop50%\ttop100%\n",
      "aia\t22.247\t30.538\t38.878\t49.696\t100.000\t24.593\t44.549\t56.129\t87.369\t100.000\n",
      "apa\t40.433\t54.741\t66.853\t78.057\t100.000\t45.016\t73.141\t82.941\t97.165\t100.000\n",
      "ic\t827\t946\t1058\t1176\t1595\t862\t1123\t1249\t1526\t1595\n",
      "\n"
     ]
    }
   ],
   "source": [
    "with open(\"summary-tutorial_associated.tsv\", 'r') as f:\n",
    "    for line in f:\n",
    "        print(line.strip('\\n'))"
   ]
  },
  {
   "cell_type": "markdown",
   "metadata": {},
   "source": [
    "### Canbenchmark - continuous\n",
    "Yet another variation of our benchmarking is `continuous=True`. This method identifies percentiles for the compound distances which define our cutoffs. Rather than the top10 compounds, we can define a distance cutoff that will not punish a compound that may fall at rank 11, but is still very similar to the hold-out compound (think of large \"me-too\" families of compounds). These distance cutoffs are determined empirically after the distances are calculated/read. "
   ]
  },
  {
   "cell_type": "code",
   "execution_count": 10,
   "metadata": {
    "scrolled": true
   },
   "outputs": [
    {
     "name": "stdout",
     "output_type": "stream",
     "text": [
      "\taia\n",
      "0.1%ile\t9.679\n",
      ".25%ile\t12.527\n",
      "0.5%ile\t16.498\n",
      "1%ile\t21.796\n",
      "5%ile\t36.013\n",
      "10%ile\t46.204\n",
      "20%ile\t59.283\n",
      "33%ile\t72.732\n",
      "50%ile\t83.878\n",
      "100%ile\t100.000\n",
      "\n",
      "\n"
     ]
    }
   ],
   "source": [
    "cando.canbenchmark('tutorial_continuous', continuous=True)"
   ]
  },
  {
   "cell_type": "markdown",
   "metadata": {},
   "source": [
    "Below is the printed summary file for the continuous canbenchmark."
   ]
  },
  {
   "cell_type": "code",
   "execution_count": 11,
   "metadata": {},
   "outputs": [
    {
     "name": "stdout",
     "output_type": "stream",
     "text": [
      "\t0.1%ile\t.25%ile\t0.5%ile\t1%ile\t5%ile\t10%ile\t20%ile\t33%ile\t50%ile\t100%ile\n",
      "aia\t9.679\t12.527\t16.498\t21.796\t36.013\t46.204\t59.283\t72.732\t83.878\t100.000\n",
      "apa\t15.771\t21.199\t28.432\t36.552\t56.932\t66.668\t77.154\t85.143\t91.447\t100.000\n",
      "ic\t546\t604\t681\t768\t949\t1074\t1226\t1363\t1460\t1595\n",
      "\n"
     ]
    }
   ],
   "source": [
    "with open('summary-tutorial_continuous.tsv', 'r') as f:\n",
    "    for line in f:\n",
    "        print(line.strip('\\n'))"
   ]
  },
  {
   "cell_type": "markdown",
   "metadata": {},
   "source": [
    "<a class=\"anchor\" id=\"canpredict\"></a>\n",
    "## Canpredict - drug-disease association prediction module\n",
    "\n",
    "An important part of CANDO is generating putative drug candidates for a specific disease and predicting indications for which added or current drugs in our library can be therapetuic. We can do this with the canpredict functions.\n",
    "\n",
    "### Canpredict - compounds\n",
    "Generating putative drug candidates for a specific disease is one way we may want to use the predictive power of our platform. For this, we use the `canpredict_compounds()` function, which basically uses a consensus method to rank putative candidates based on how many times they show up as similar to drugs that are associated to the disease, within some defined cutoff. The default cutoff is 10 (the most stringent from benchmarking), but this can be varied. In its current implementation, `canpredict_compounds()` ranks compounds based on the consensus count and uses the average rank of those as the tie-breaker. \n",
    "\n",
    "Let's make predictions for human immunodeficiency virus (HIV). First, let's search our indication database for the appropriate MeSH ID. "
   ]
  },
  {
   "cell_type": "code",
   "execution_count": 12,
   "metadata": {},
   "outputs": [
    {
     "name": "stdout",
     "output_type": "stream",
     "text": [
      "Matches exactly containing HIV:\n",
      "id             \tname\n",
      "MESH:D015658\tHIV Infections\n",
      "MESH:D006679\tHIV Seropositivity\n",
      "MESH:D019247\tHIV Wasting Syndrome\n",
      "MESH:D039682\tHIV-Associated Lipodystrophy Syndrome\n",
      "\n",
      "Matches using string distance:\n",
      "id             \tname\n",
      "MESH:D015658\tHIV Infections\n"
     ]
    }
   ],
   "source": [
    "cando.search_indication('HIV')"
   ]
  },
  {
   "cell_type": "markdown",
   "metadata": {},
   "source": [
    "The one we want is \"HIV Infections\" with an `id_` of \"MESH:D015658\". This is the input for `canpredict_compounds()`, but first let's see more about this indication. "
   ]
  },
  {
   "cell_type": "code",
   "execution_count": 13,
   "metadata": {},
   "outputs": [
    {
     "name": "stdout",
     "output_type": "stream",
     "text": [
      "Number of drugs associated with HIV Infections: 32\n",
      "509\tefavirenz\n",
      "1098\tsaquinavir\n",
      "5094\tbeta_carotene\n",
      "384\tzidovudine\n",
      "1151\tfosamprenavir\n",
      "918\tabacavir\n",
      "590\tlamivudine\n",
      "599\tadefovir_dipivoxil\n",
      "818\tzalcitabine\n",
      "587\tdelavirdine\n",
      "115\tnelfinavir\n",
      "826\tisoniazid\n",
      "1399\tdeferasirox\n",
      "225\tmethadone\n",
      "4402\tmaraviroc\n",
      "877\thydroxyurea\n",
      "584\tamprenavir\n",
      "940\tatazanavir\n",
      "776\tdidanosine\n",
      "392\tritonavir\n",
      "5142\traltegravir\n",
      "4903\tetravirine\n",
      "308\tmiglustat\n",
      "119\tindinavir\n",
      "132\tnevirapine\n",
      "58\tvitamin_a\n",
      "413\tfoscarnet\n",
      "689\tribavirin\n",
      "1391\tlopinavir\n",
      "911\tthalidomide\n",
      "533\tstavudine\n",
      "618\tpentamidine\n"
     ]
    }
   ],
   "source": [
    "hiv = cando.get_indication(\"MESH:D015658\")\n",
    "print('Number of drugs associated with {}: {}'.format(hiv.name, len(hiv.compounds)))\n",
    "for cmpd in hiv.compounds:\n",
    "    print('{}\\t{}'.format(cmpd.id_, cmpd.name))"
   ]
  },
  {
   "cell_type": "markdown",
   "metadata": {},
   "source": [
    "There are 32 drugs associated with HIV Infections, which makes sense given it is well-studied. Most seem to be protease inhibitors (saquinavir, fosamprenavir) or nucleoside analogs (zalcitabine, didanosine). \n",
    "\n",
    "We can now make predictions for other drugs/compounds that may be useful against HIV. This list is very long due to the large amount of drugs approved to treat HIV, so we should look at only the top10 (default) by setting `n=10`. We will also only print the first 10 compounds (`topX=10`)."
   ]
  },
  {
   "cell_type": "code",
   "execution_count": 14,
   "metadata": {},
   "outputs": [
    {
     "name": "stdout",
     "output_type": "stream",
     "text": [
      "32 compounds found for MESH:D015658 --> HIV Infections\n",
      "Generating compound predictions using top10 most similar compounds...\n",
      "\n",
      "rank\tscore1\tscore2\tid\tapproved\tname\n",
      "1\t7\t4.3\t1128\ttrue    \tdarunavir\n",
      "2\t4\t3.0\t756\ttrue    \temtricitabine\n",
      "3\t4\t5.0\t331\ttrue    \tentecavir\n",
      "4\t4\t5.2\t2982\ttrue    \tbrivudine\n",
      "5\t4\t5.8\t7854\ttrue    \tlifitegrast\n",
      "6\t4\t5.8\t321\ttrue    \ttrifluridine\n",
      "7\t4\t6.2\t574\ttrue    \tmoexipril\n",
      "8\t4\t7.0\t4817\ttrue    \tregadenoson\n",
      "9\t4\t7.0\t143\ttrue    \tidoxuridine\n",
      "10\t3\t2.0\t7256\ttrue    \tcobicistat\n",
      "\n",
      "\n"
     ]
    }
   ],
   "source": [
    "cando.canpredict_compounds(\"MESH:D015658\", n=10, topX=10)"
   ]
  },
  {
   "cell_type": "markdown",
   "metadata": {},
   "source": [
    "Perhaps using the top10 compounds is not encompassing enough. Let's change it to top25 (n=25) and see if the predictions change. We will still print the first 10 compounds."
   ]
  },
  {
   "cell_type": "code",
   "execution_count": 15,
   "metadata": {},
   "outputs": [
    {
     "name": "stdout",
     "output_type": "stream",
     "text": [
      "32 compounds found for MESH:D015658 --> HIV Infections\n",
      "Generating compound predictions using top25 most similar compounds...\n",
      "\n",
      "rank\tscore1\tscore2\tid\tapproved\tname\n",
      "1\t8\t5.0\t1128\ttrue    \tdarunavir\n",
      "2\t7\t11.3\t1095\ttrue    \tpaclitaxel\n",
      "3\t7\t12.7\t1126\ttrue    \tdecitabine\n",
      "4\t6\t6.0\t756\ttrue    \temtricitabine\n",
      "5\t6\t8.5\t7854\ttrue    \tlifitegrast\n",
      "6\t6\t9.3\t574\ttrue    \tmoexipril\n",
      "7\t6\t10.2\t136\ttrue    \tcladribine\n",
      "8\t6\t11.0\t9053\ttrue    \tmacimorelin\n",
      "9\t6\t12.3\t515\ttrue    \tclofarabine\n",
      "10\t6\t13.2\t5106\ttrue    \tcabazitaxel\n",
      "\n",
      "\n"
     ]
    }
   ],
   "source": [
    "cando.canpredict_compounds(\"MESH:D015658\", n=25, topX=10)"
   ]
  },
  {
   "cell_type": "markdown",
   "metadata": {},
   "source": [
    "We can show more results by changing the `topX` parameter. Let's print 25. \n",
    "\n",
    "We can also show the compounds that are already approved for 'HIV Infections' - indicated by an asterisk in the 'approved' column, by changing the `keep_associated` parameter to `True`. \n",
    "\n",
    "<span style=\"color:red\">(Note: this function is heavily reliant on the input indication mapping.)</span>"
   ]
  },
  {
   "cell_type": "code",
   "execution_count": 16,
   "metadata": {},
   "outputs": [
    {
     "name": "stdout",
     "output_type": "stream",
     "text": [
      "32 compounds found for MESH:D015658 --> HIV Infections\n",
      "Generating compound predictions using top25 most similar compounds...\n",
      "\n",
      "rank\tscore1\tscore2\tid\tapproved\tname\n",
      "1\t8\t5.0\t1128\ttrue    \tdarunavir\n",
      "2\t7\t5.1\t584\ttrue*   \tamprenavir\n",
      "3\t7\t10.0\t1098\ttrue*   \tsaquinavir\n",
      "4\t7\t11.3\t1095\ttrue    \tpaclitaxel\n",
      "5\t7\t12.7\t1126\ttrue    \tdecitabine\n",
      "6\t6\t6.0\t756\ttrue    \temtricitabine\n",
      "7\t6\t8.5\t7854\ttrue    \tlifitegrast\n",
      "8\t6\t9.3\t574\ttrue    \tmoexipril\n",
      "9\t6\t10.2\t136\ttrue    \tcladribine\n",
      "10\t6\t11.0\t9053\ttrue    \tmacimorelin\n",
      "11\t6\t12.3\t515\ttrue    \tclofarabine\n",
      "12\t6\t13.2\t5106\ttrue    \tcabazitaxel\n",
      "13\t6\t14.0\t1151\ttrue*   \tfosamprenavir\n",
      "14\t6\t14.2\t7855\ttrue    \tvelpatasvir\n",
      "15\t6\t17.7\t776\ttrue*   \tdidanosine\n",
      "16\t5\t5.8\t119\ttrue*   \tindinavir\n",
      "17\t5\t7.8\t331\ttrue    \tentecavir\n",
      "18\t5\t12.4\t7431\ttrue    \teluxadoline\n",
      "19\t5\t14.2\t969\ttrue    \tcapecitabine\n",
      "20\t5\t14.2\t918\ttrue*   \tabacavir\n",
      "21\t5\t17.0\t10070\ttrue    \tivosidenib\n",
      "22\t5\t19.4\t198\ttrue    \tmitomycin\n",
      "23\t4\t5.2\t2982\ttrue    \tbrivudine\n",
      "24\t4\t5.8\t321\ttrue    \ttrifluridine\n",
      "25\t4\t5.8\t115\ttrue*   \tnelfinavir\n",
      "\n",
      "\n"
     ]
    }
   ],
   "source": [
    "cando.canpredict_compounds(\"MESH:D015658\", n=25, topX=25, \n",
    "                           keep_associated=True)"
   ]
  },
  {
   "cell_type": "markdown",
   "metadata": {},
   "source": [
    "In this case, we recaptured 7 associated therapies for HIV, including amprenavir, saquinavir, fosamprenavir, didanosine, indinavir, abacavir, and nelfinavir."
   ]
  },
  {
   "cell_type": "markdown",
   "metadata": {},
   "source": [
    "### Canpredict - de novo\n",
    "\n",
    "Sometimes there are no drugs associated with an indication (whether it be in reality or in your input indication mapping); in those cases we can use the `canpredict_denovo()` function to suggest putative candidates. Basically, this function counts/sums the number of protein interaction scores above a set threshold for each compound and ranks them according to frequency and strength. This is particularly useful for pathogen proteomes (like SARS-CoV-2 or bacterial proteomes) or for finding which compounds target a subset of proteins of interest (e.g. kinases). In our case, we have a diverse set of proteins, which would render the results meaningless. Instead, we can input a list of protein IDs in which we are interested. We have precompiled a list of bacterial proteins already present in the sample matrix for convenience. Note: if we had read in an indication-genes mapping file, we could use the `ind_id=` parameter to automatically select all proteins associated with said indication. "
   ]
  },
  {
   "cell_type": "code",
   "execution_count": 17,
   "metadata": {},
   "outputs": [
    {
     "name": "stdout",
     "output_type": "stream",
     "text": [
      "Printing the 30 highest predicted compounds...\n",
      "\n",
      "rank\tscore1\tscore2\tid\tapproved\tname\n",
      "1\t2\t1.5\t10026\ttrue    \tmagnesium\n",
      "2\t2\t1.38\t1384\ttrue    \tzinc\n",
      "3\t1\t0.9\t41\ttrue    \tglycine\n",
      "4\t1\t0.85\t24\ttrue    \taspartic_acid\n",
      "5\t1\t0.79\t27\ttrue    \tadenosine_phosphate\n",
      "6\t1\t0.77\t639\ttrue    \ttetracycline\n",
      "7\t1\t0.76\t7602\ttrue    \tpotassium_hydroxide\n",
      "8\t1\t0.76\t5059\ttrue    \tpotassium_iodide\n",
      "9\t1\t0.76\t1171\ttrue    \tpotassium_cation\n",
      "10\t1\t0.76\t641\ttrue    \tpotassium_chloride\n",
      "11\t1\t0.7\t889\ttrue    \tminocycline\n",
      "12\t1\t0.69\t7306\ttrue    \tcopper\n",
      "13\t1\t0.67\t1191\ttrue    \tcalcium\n",
      "14\t1\t0.667\t524\ttrue    \tadenosine\n",
      "15\t1\t0.667\t89\ttrue    \tvidarabine\n",
      "16\t1\t0.661\t479\ttrue    \toxytetracycline\n",
      "17\t1\t0.657\t69\ttrue    \tasparagine\n",
      "18\t1\t0.653\t53\ttrue    \tnadh\n",
      "19\t1\t0.651\t1149\ttrue    \trolitetracycline\n",
      "20\t1\t0.651\t38\ttrue    \tglutamic_acid\n",
      "21\t1\t0.63\t3781\ttrue    \tfructose\n",
      "22\t1\t0.622\t8204\ttrue    \tsarecycline\n",
      "23\t1\t0.619\t150\ttrue    \tlymecycline\n",
      "24\t1\t0.616\t7282\ttrue    \tchlortetracycline\n",
      "25\t1\t0.615\t57\ttrue    \tvaline\n",
      "26\t1\t0.612\t3936\ttrue    \tcarbocisteine\n",
      "27\t1\t0.605\t502\ttrue    \tdemeclocycline\n",
      "28\t1\t0.6\t1383\ttrue    \tiron\n",
      "29\t0\t0.0\t10673\ttrue    \tferric_maltol\n",
      "30\t0\t0.0\t10670\ttrue    \tbrilliant_blue_g\n"
     ]
    }
   ],
   "source": [
    "bacterial_proteins = [\"3mk7C\", \"3eziA\", \"1u2mC\", \"3atsA\", \"2x4mA\", \n",
    "                      \"4wliA\", \"1t4aA\", \"4zxkA\", \"1zhhA\", \"1eb0A\", \n",
    "                      \"4nqwB\", \"2gqrA\", \"2qlcA\", \"3rf1A\", \"2xpwA\"]\n",
    "\n",
    "cando.canpredict_denovo(method='count', threshold=0.6, topX=30, proteins=bacterial_proteins)"
   ]
  },
  {
   "cell_type": "markdown",
   "metadata": {},
   "source": [
    "Interestingly, multiple antibiotics receive scores higher than the cutoff of 0.6, including **tetracycline, minocycline, oxytetracycline, sarecycline**, among others. "
   ]
  },
  {
   "cell_type": "markdown",
   "metadata": {},
   "source": [
    "### Canpredict - indications\n",
    "\n",
    "\n",
    "Below we print the first 10 indications predicted for Paromomycin (CANDO ID 1225) using the top10 most similar compounds. Again, this tallies how many times specific diseases show up as associated with the top10 most similar compounds to paromomycin. "
   ]
  },
  {
   "cell_type": "code",
   "execution_count": 18,
   "metadata": {},
   "outputs": [
    {
     "name": "stdout",
     "output_type": "stream",
     "text": [
      "paromomycin\n",
      "Using CANDO compound paromomycin\n",
      "Compound has id 1225 and index 1225\n",
      "Comparing signature to all CANDO compound signatures...\n",
      "Generating indication predictions using top10 most similar compounds...\n",
      "Printing the 10 highest predicted indications...\n",
      "\n",
      "rank\tscore\tind_id    \tindication\n",
      "1\t4\tMESH:D004927\tEscherichia coli Infections\n",
      "2\t4\tMESH:D008581\tMeningitis\n",
      "3\t3\tMESH:D004697\tEndocarditis, Bacterial\n",
      "4\t3\tMESH:D007710\tKlebsiella Infections\n",
      "5\t3\tMESH:D011014\tPneumonia\n",
      "6\t3\tMESH:D014376\tTuberculosis\n",
      "7\t3\tMESH:D014552\tUrinary Tract Infections\n",
      "8\t3\tMESH:D011512\tProteus Infections\n",
      "9\t2\tMESH:D000380\tAgranulocytosis\n",
      "10\t2\tMESH:D016470\tBacteremia\n",
      "\n"
     ]
    }
   ],
   "source": [
    "paro = cando.get_compound(1225)\n",
    "print(paro.name)\n",
    "cando.canpredict_indications(paro, \n",
    "                             n=10, topX=10)"
   ]
  },
  {
   "cell_type": "markdown",
   "metadata": {},
   "source": [
    "Not surprisingly, all of the predictions are infections of some sort (aka: most antibiotics share a great deal of structural similarity with each other). "
   ]
  },
  {
   "cell_type": "markdown",
   "metadata": {},
   "source": [
    "### Similar compounds\n",
    "`similar_compounds()` prints the first `n` most similar compounds for a given compound. This, like `canpredict_indications()` can be used with cando compounds, `cando_cmpd`, or novel compounds with a signature file (we will explore this later).\n",
    "\n",
    "Below we print the first 10 most similar compounds to Paromomycin."
   ]
  },
  {
   "cell_type": "code",
   "execution_count": 19,
   "metadata": {},
   "outputs": [
    {
     "name": "stdout",
     "output_type": "stream",
     "text": [
      "Using CANDO compound paromomycin\n",
      "Compound has id 1225 and index 1225\n",
      "Comparing signature to all CANDO compound signatures...\n",
      "Printing top10 most similar compounds...\n",
      "\n",
      "rank\tdist\tid\tname\n",
      "1\t0.001\t341\tframycetin\n",
      "2\t0.006\t368\tamikacin\n",
      "3\t0.008\t3258\tribostamycin\n",
      "4\t0.008\t1039\tkanamycin\n",
      "5\t0.010\t178\tacarbose\n",
      "6\t0.014\t950\tstreptomycin\n",
      "7\t0.016\t7063\thyaluronic_acid\n",
      "8\t0.018\t8533\tsteviolbioside\n",
      "9\t0.019\t567\ttobramycin\n",
      "10\t0.019\t9205\tdibekacin\n",
      "11\t0.023\t465\tlactulose\n",
      "\n",
      "\n"
     ]
    }
   ],
   "source": [
    "paro = cando.get_compound(1225)\n",
    "cando.similar_compounds(paro, n=10)"
   ]
  },
  {
   "cell_type": "markdown",
   "metadata": {},
   "source": [
    "Unsurprisingly, the most similar compounds to paromomycin are known antibiotics.  "
   ]
  },
  {
   "cell_type": "markdown",
   "metadata": {},
   "source": [
    "<a class=\"anchor\" id=\"ml\"></a>\n",
    "## Machine learning with CANDO\n",
    "The \"proteomic vectors\" within CANDO lend themselves well to machine learning to perhaps learn more complex relationships between the proteins within the vector and their impacts on the treatment of diseases. CANDO has built-in ML algorithms that allow for two main functionalities:\n",
    "1. Benchmark the platform using a hold-one-out protocol very similar to canbenchmark\n",
    "2. Make predictions for novel or non-associated compounds that may be therapeutic for a given disease\n",
    "\n",
    "The ML module currently supports 2 algorithms: random forests and logistic regression. The models are trained on drugs approved for the disease (positive classes) and an equal number of randomly selected \"neutral samples\", which are drugs/compounds not approved for the disease (negative samples). Random seeds may be set to ensure the same compounds are used in training. \n",
    "\n",
    "### ML - benchmark\n",
    "We have the option to benchmark the platform with an ML algorithm - this module outputs files very similar to canbenchmark. For this tutorial, we will skip this function as it requires a great deal of time to complete (training a separate model for EVERY drug-disease association, basically). The command to do so with a logistic regression classifier is below, feel free to run it! The `'out='` flag defines the name of the output files. Again, only diseases with 2+ compounds associated are benchmarked. \n",
    "\n",
    "`cnd.ml(method='rf', benchmark=True, seed=50, out='test_rf')`\n",
    "\n",
    "### ML - predict\n",
    "We can also use this module to predict if a certain compound may be therapeutic for a given disease. We can use the \n",
    "`'predict='` flag to specify a list of compounds that we wish to predict with the classifier. Let's use three drugs, imatinib, buprenorphine, and lisdexamfetamine, and see if they are predicted to have antibiotic activity using a random forest classifier. "
   ]
  },
  {
   "cell_type": "code",
   "execution_count": 20,
   "metadata": {},
   "outputs": [
    {
     "name": "stdout",
     "output_type": "stream",
     "text": [
      "Indication: Bacterial Infections\n",
      "Leave-one-out cross validation: TP=31, FP=55, FN=24, TN=0, Acc=28.182\n",
      "\tCompound\tProb\n",
      "\timatinib\t0.440\n",
      "\tbuprenorphine\t0.370\n",
      "\tlisdexamfetamine\t0.340\n"
     ]
    }
   ],
   "source": [
    "baci = cando.get_indication('MESH:D001424')\n",
    "\n",
    "imat = cando.get_compound(503)\n",
    "bup = cando.get_compound(797)\n",
    "lamf = cando.get_compound(1121)\n",
    "\n",
    "cando.ml(method='rf', effect=baci, benchmark=False, seed=50, predict=[imat, bup, lamf])"
   ]
  },
  {
   "cell_type": "markdown",
   "metadata": {},
   "source": [
    "The accuracy is quite poor, so fine-tuning and hyperparameter optimization is necessary to enhance performance. "
   ]
  },
  {
   "cell_type": "markdown",
   "metadata": {},
   "source": [
    "<a class=\"anchor\" id=\"custom\"></a>\n",
    "## Custom protein subsets and signatures\n",
    "It may be useful for some users to probe compound-protein interaction similarity, but only in the context of a few particular proteins (e.g. set of kinase inhibitors). Instead of generating a new matrix with all of these proteins and their corresponding interaction values, which can begin to take up a lot of storage if done multiple times, the `'protein_set='` flag can be specified during the instantiation of the CANDO object. This flag contains the path to the protein subset the user wishes to use, which is simply a list of UniProt protein IDs. The CANDO object will automatically check for each ID if it either simply matches any UniProt IDs within the matrix or if that UniProt ID is associated with any PDB chains within the matrix (based on a mapping from the SIFTs project). If there are matches, the CANDO object will now contain Compound objects with only those protein interaction values in their signatures. Below is how to use this functionality - this time we can search for the bacterial proteins from the previous `canpredict_denovo()` section, but filter the proteins from the start using a list of UniProt IDs. "
   ]
  },
  {
   "cell_type": "code",
   "execution_count": 21,
   "metadata": {},
   "outputs": [
    {
     "name": "stdout",
     "output_type": "stream",
     "text": [
      "Reading signatures from matrix...\n",
      "Editing signatures according to proteins in tutorial-bac-prots.txt...\n",
      "15 proteins in tutorial-bac-prots.txt mapped to 15 proteins in tutorial_matrix-approved.tsv.\n",
      "Done reading signatures.\n",
      "\n",
      "Computing cosine distances...\n",
      "Done computing cosine distances.\n",
      "\n",
      "Number of proteins in new signature = 15\n"
     ]
    }
   ],
   "source": [
    "cando_subset = cnd.CANDO(cmpd_map, ind_map, matrix=matrix_file, compound_set='approved',\n",
    "                         compute_distance=True, protein_set=protein_set,\n",
    "                         dist_metric=dist_metric, ncpus=ncpus)\n",
    "\n",
    "print(\"Number of proteins in new signature =\", len(cando_subset.proteins))"
   ]
  },
  {
   "cell_type": "markdown",
   "metadata": {},
   "source": [
    "The signature was successfully edited to 15 proteins. Note: this does not nececessarily mean the each UniProt ID had a corresponding PDB match -- multiple PDB chains can be associated with a given UniProt ID. \n",
    "\n",
    "We can also repeat all benchmarks and predictive algorithms with the new signatures. Below is the default benchmarking results with the new signatures. "
   ]
  },
  {
   "cell_type": "code",
   "execution_count": 22,
   "metadata": {},
   "outputs": [
    {
     "name": "stdout",
     "output_type": "stream",
     "text": [
      "\taia\n",
      "top10\t16.904\n",
      "top25\t24.029\n",
      "top50\t31.092\n",
      "top100\t40.775\n",
      "top2449\t100.000\n",
      "top1%\t23.625\n",
      "top5%\t43.785\n",
      "top10%\t56.529\n",
      "top50%\t90.123\n",
      "top100%\t100.000\n",
      "\n",
      "\n"
     ]
    }
   ],
   "source": [
    "cando_subset.canbenchmark('test_subset')"
   ]
  },
  {
   "cell_type": "markdown",
   "metadata": {},
   "source": [
    "Let's repeat the ML code from above, but this time with the reduced protein subset. "
   ]
  },
  {
   "cell_type": "code",
   "execution_count": 23,
   "metadata": {},
   "outputs": [
    {
     "name": "stdout",
     "output_type": "stream",
     "text": [
      "Indication: Bacterial Infections\n",
      "Leave-one-out cross validation: TP=33, FP=55, FN=22, TN=0, Acc=30.000\n",
      "\tCompound\tProb\n",
      "\timatinib\t0.410\n",
      "\tbuprenorphine\t0.320\n",
      "\tlisdexamfetamine\t0.600\n"
     ]
    }
   ],
   "source": [
    "baci = cando_subset.get_indication('MESH:D001424')\n",
    "\n",
    "imat = cando_subset.get_compound(503)\n",
    "bup = cando_subset.get_compound(797)\n",
    "lamf = cando_subset.get_compound(1121)\n",
    "\n",
    "cando_subset.ml(method='rf', effect=baci, benchmark=False, \n",
    "                seed=50, predict=[imat, bup, lamf])"
   ]
  },
  {
   "cell_type": "markdown",
   "metadata": {},
   "source": [
    "As you can see, the output probability significantly change for one of the compounds, lisdexamfetamine, from 0.340 to 0.600, illustrating the impact of protein subset composition on model behavior. "
   ]
  },
  {
   "cell_type": "markdown",
   "metadata": {},
   "source": [
    "<a class=\"anchor\" id=\"novel-cmpd\"></a>\n",
    "## Generate proteomic signatures for new compounds \n",
    "\n",
    "The CANDO platform contains an extensive library of approved drugs and other compounds from DrugBank. However, if you wish to predict indications or similar drugs for a compound that is not present in our library, we make it possible with the `generate_signature()` function.\n",
    "\n",
    "First, you must have the compound properly formatted in mol file format. There are many programs that provide conversion between many chemical file formats, such as OpenBabel.\n",
    "\n",
    "Next, run `generate_signature()`. This will populate a tsv file with Tanimoto/Sorenson-Dice similarity scores of the provided compound to all binding site ligands in our database. These values will be used for the generation of the drug-proteome signature. The input parameters for this function are very similar to those for `generate_matrix()`, however the first argument is the path to the compound structure file in mol format. The output signature file will be saved in tsv format with the name you provide for \"out_file\" (with the appended path from \"out_path\").\n",
    "\n",
    "**NOTE: the interaction score protocol must match the input matrix protocol, which was 'CxP' as above. If we used a different protocol, these scores would not be directly comparable.**"
   ]
  },
  {
   "cell_type": "code",
   "execution_count": 24,
   "metadata": {},
   "outputs": [
    {
     "name": "stdout",
     "output_type": "stream",
     "text": [
      "Generating CANDO signature...\n",
      "Signature written to ./lmk235_signature.tsv.\n",
      "signature generation took 3 s to finish.\n"
     ]
    }
   ],
   "source": [
    "cmpd_file = \"lmk235.mol\"\n",
    "signature_file = \"lmk235_signature.tsv\"\n",
    "\n",
    "cnd.generate_signature(cmpd_file, fp=\"rd_ecfp4\", vect=\"int\", dist=\"dice\", \n",
    "                      org=\"tutorial\", bs=\"coach\", c_cutoff=0.0, p_cutoff=0.0, \n",
    "                      percentile_cutoff=0.0, i_score=\"CxP\", out_file=signature_file, \n",
    "                      out_path=\".\", nr_ligs=True)"
   ]
  },
  {
   "cell_type": "markdown",
   "metadata": {},
   "source": [
    "We then must add the compound to the existing `CANDO` object with the `add_cmpd()` function. The inputs are the newly generated signature file and the desired name (which below is \"lmk-235\"). "
   ]
  },
  {
   "cell_type": "code",
   "execution_count": 25,
   "metadata": {},
   "outputs": [
    {
     "name": "stdout",
     "output_type": "stream",
     "text": [
      "New compound is lmk-235\n",
      "New compound has id 10674 and index 10674\n"
     ]
    }
   ],
   "source": [
    "cando.add_cmpd(signature_file, new_name='lmk-235')"
   ]
  },
  {
   "cell_type": "markdown",
   "metadata": {},
   "source": [
    "Now that our new compound is added to the platform, we can see what other compounds to which it is similar. We can use the `similar_compounds()` function from before to print those compounds. "
   ]
  },
  {
   "cell_type": "code",
   "execution_count": 26,
   "metadata": {},
   "outputs": [
    {
     "name": "stdout",
     "output_type": "stream",
     "text": [
      "Using CANDO compound lmk-235\n",
      "Compound has id 10674 and index 10674\n",
      "Comparing signature to all CANDO compound signatures...\n",
      "Printing top10 most similar compounds...\n",
      "\n",
      "rank\tdist\tid\tname\n",
      "1\t0.024\t7830\tpadimate_o\n",
      "2\t0.025\t9100\tlusutrombopag\n",
      "3\t0.025\t7659\tdiethylamino_hydroxybenzoyl_hexyl_benzoate\n",
      "4\t0.025\t5103\tbendamustine\n",
      "5\t0.025\t1060\tacebutolol\n",
      "6\t0.025\t655\ttirofiban\n",
      "7\t0.026\t813\tsalmeterol\n",
      "8\t0.026\t5107\tcapsaicin\n",
      "9\t0.026\t7299\tzucapsaicin\n",
      "10\t0.026\t411\tcinchocaine\n",
      "11\t0.026\t7537\toctinoxate\n",
      "\n",
      "\n"
     ]
    }
   ],
   "source": [
    "lmk235 = cando.get_compound(10674)\n",
    "cando.similar_compounds(lmk235, n=10)"
   ]
  },
  {
   "cell_type": "markdown",
   "metadata": {},
   "source": [
    "Finally, we can predict potential indications for which our new compound may be useful. Since cyclosporine is a known immunosuppressant, we should expect to find autoimmune or inflammatory indications. We can use the `canpredict_indications()` as before to print those results. "
   ]
  },
  {
   "cell_type": "code",
   "execution_count": 44,
   "metadata": {},
   "outputs": [
    {
     "name": "stdout",
     "output_type": "stream",
     "text": [
      "Using CANDO compound lmk-235\n",
      "Compound has id 10674 and index 10674\n",
      "Comparing signature to all CANDO compound signatures...\n",
      "Generating indication predictions using top25 most similar compounds...\n",
      "Printing the 15 highest predicted indications...\n",
      "\n",
      "rank\tscore\tind_id    \tindication\n",
      "1\t3\tMESH:D001943\tBreast Neoplasms\n",
      "2\t3\tMESH:D000787\tAngina Pectoris\n",
      "3\t3\tMESH:D001145\tArrhythmias, Cardiac\n",
      "4\t3\tMESH:D006973\tHypertension\n",
      "5\t3\tMESH:D004487\tEdema\n",
      "6\t2\tMESH:D001008\tAnxiety Disorders\n",
      "7\t2\tMESH:D017202\tMyocardial Ischemia\n",
      "8\t2\tMESH:D013610\tTachycardia\n",
      "9\t2\tMESH:D014693\tVentricular Fibrillation\n",
      "10\t2\tMESH:D018879\tVentricular Premature Complexes\n",
      "11\t2\tMESH:D007249\tInflammation\n",
      "12\t2\tMESH:D008113\tLiver Neoplasms\n",
      "13\t2\tMESH:D008175\tLung Neoplasms\n",
      "14\t2\tMESH:D009374\tNeoplasms, Experimental\n",
      "15\t2\tMESH:D010146\tPain\n",
      "\n"
     ]
    }
   ],
   "source": [
    "cando.canpredict_indications(lmk235, n=25, topX=15)"
   ]
  },
  {
   "cell_type": "markdown",
   "metadata": {},
   "source": [
    "Interestingly, both Hypertension (MESH:D006973) and Pain (MESH:D010146) are top predictions - the analgesic and hypotensive properties of lmk-235 are both supported by in vivo studies in the literature. "
   ]
  },
  {
   "cell_type": "markdown",
   "metadata": {},
   "source": [
    "<a class=\"anchor\" id=\"new-cmpd-lib\"></a>\n",
    "## Generate a new compound library\n",
    "\n",
    "In this part of the tutorial, we will walk you through how to create a new, unique compound library to use for matrix generation."
   ]
  },
  {
   "cell_type": "markdown",
   "metadata": {},
   "source": [
    "### Create compound set\n",
    "\n",
    "In order to create a new compound set, you must first have a TSV (tab separated values) file that contains one of two chemical file types:\n",
    "\n",
    "1. SMILES - `file_type='smi'`. The file must have the SMILES string as the first column and the corresponding compound name in the second column, e.g.\n",
    "    `C1CNCCN(C1)S(=O)(=O)C2=CC=CC3=C2C=CN=C3 fasudil`\n",
    "    \n",
    "2. Mol - `file_type='mol'`. The file must have the name of the file, without the file extension. In addition, the path to the files must be given in the argument `cmpd_dir`.\n",
    "\n",
    "In our example, we will create a new compound library of select tyrosine kinase inhibitors (TKIs) that we will then use to create a new matrix with just these drugs. First, we generate the library."
   ]
  },
  {
   "cell_type": "code",
   "execution_count": null,
   "metadata": {},
   "outputs": [],
   "source": [
    "cnd.add_cmpds(\"tki_set-test.smi\", file_type='smi', fp=\"rd_ecfp4\", vect=\"int\", cmpd_dir=\".\", v='tki')"
   ]
  },
  {
   "cell_type": "markdown",
   "metadata": {},
   "source": [
    "We have now generated a new compound library, located at `./tki/cmpds`. This location is partially hardcoded, so it will also create a directory in your current working directory, `./`, named after the `v` you choose, `./tki`. This makes it easier for the end-user.\n",
    "\n",
    "Notice we chose to use the rdkit fingerprint ecfp4, `fp=\"rd_ecfp4\"`, and the vector type int, `vect=\"int\"`. We need to keep track of this for our matrix generation."
   ]
  },
  {
   "cell_type": "markdown",
   "metadata": {},
   "source": [
    "### Generate matrix from new compound library\n",
    "\n",
    "Next we will generate a matrix using this **tki** compound library. The generate matrix function can take in a customized matrix, as opposed to the pregenerated/downlaoded matrices based upon our predefined `v`, e.g. v2.2, v2.3, etc. By setting `v` to the same name you used in the previous `add_cmpds` function, you can load those cmpds to create a new matrix.\n",
    "\n",
    "We will set `v='tki'` and `lib_path='.'`. This means we will use the **tki** library, which is located in the current working dir. In addition, sicne we created our compound library using fingerprint type ecfp4, we need to make sure we use it here, as well. The remaining arguemnts has already been discussed in the previous <a class=\"anchor\" id=\"interaction-matrix\">generate matrix</a> section.\n"
   ]
  },
  {
   "cell_type": "code",
   "execution_count": null,
   "metadata": {},
   "outputs": [],
   "source": [
    "cnd.generate_matrix(v=\"tki\", lib_path='.',\n",
    "                    fp=\"rd_ecfp4\", vect=\"int\",\n",
    "                    dist=\"dice\", org=\"tutorial\", bs=\"coach\",\n",
    "                    c_cutoff=0.0, p_cutoff=0.0, percentile_cutoff=0.0,\n",
    "                    i_score=\"CxP\", out_file='', out_path=\"\",\n",
    "                    nr_ligs=True, approved_only=False,\n",
    "                    lig_name=False, ncpus=ncpus)"
   ]
  },
  {
   "cell_type": "markdown",
   "metadata": {},
   "source": [
    "We now have a brand new matrix with all of our new TKIs scored against our set of 64 test proteins. This file is located at `./tki/matrices/`. Again, these paths are mostly hardcoded. You can control where the matrix is written and what the name is using the `out_path` and `out_file` arguments. When these arugments are set to '' the hardcoded paths are used, as shown in this example."
   ]
  },
  {
   "cell_type": "markdown",
   "metadata": {
    "collapsed": true
   },
   "source": [
    "<a class=\"anchor\" id=\"virtual-screen\"></a>\n",
    "## Virtual screening in CANDO\n",
    "Though the CANDO platform is mainly intended for multitarget drug discovery and repurposing, there still exists the option to check the top compound hits for a given protein. This is accomplished via the `virtual_screen()` function. Let's test the top hits for two of the known bacterial proteins from above, namely \"1u2mC\", \"3atsA\". "
   ]
  },
  {
   "cell_type": "code",
   "execution_count": 45,
   "metadata": {},
   "outputs": [
    {
     "name": "stdout",
     "output_type": "stream",
     "text": [
      "Protein is 1u2mC\n",
      "rank\tscore\tid\tapproved\tname\n",
      "1\t0.444\t317\ttrue    \tstreptozocin\n",
      "2\t0.406\t7539\ttrue    \tthiosulfuric_acid\n",
      "3\t0.389\t1145\ttrue    \tglucosamine\n",
      "4\t0.35\t10026\ttrue    \tmagnesium\n",
      "5\t0.343\t7300\ttrue    \taurothioglucose\n",
      "6\t0.33\t1191\ttrue    \tcalcium\n",
      "7\t0.327\t4140\ttrue    \tgluconolactone\n",
      "8\t0.306\t27\ttrue    \tadenosine_phosphate\n",
      "9\t0.301\t7291\ttrue    \tcoenzyme_m\n",
      "10\t0.301\t1715\ttrue    \ttaurine\n",
      "\n",
      "Protein is 3atsA\n",
      "rank\tscore\tid\tapproved\tname\n",
      "1\t0.8\t10026\ttrue    \tmagnesium\n",
      "2\t0.67\t1191\ttrue    \tcalcium\n",
      "3\t0.58\t53\ttrue    \tnadh\n",
      "4\t0.57\t27\ttrue    \tadenosine_phosphate\n",
      "5\t0.53\t1039\ttrue    \tkanamycin\n",
      "6\t0.52\t524\ttrue    \tadenosine\n",
      "7\t0.52\t89\ttrue    \tvidarabine\n",
      "8\t0.519\t2823\ttrue    \tflavin_adenine_dinucleotide\n",
      "9\t0.506\t1421\ttrue    \t5-o-phosphono-alpha-d-ribofuranosyl_diphosphate\n",
      "10\t0.473\t9117\ttrue    \tinosine_pranobex\n",
      "\n"
     ]
    }
   ],
   "source": [
    "cando.virtual_screen(\"1u2mC\")\n",
    "cando.virtual_screen(\"3atsA\")"
   ]
  },
  {
   "cell_type": "markdown",
   "metadata": {},
   "source": [
    "Streptozocin is the top hit for 1u2mC, which suggests it shares significant structural similarity to a ligand known/predicted to bind to this protein. Similarly, kanamycin is the 5th hit for 3atsA. These scores/ranks can change significantly based on scoring protocol used for the matrix - changing i_score in `generate_matrix()` to \"dC\", for example, would greatly affect the output. "
   ]
  },
  {
   "cell_type": "code",
   "execution_count": null,
   "metadata": {},
   "outputs": [],
   "source": []
  }
 ],
 "metadata": {
  "kernelspec": {
   "display_name": "Python 3",
   "language": "python",
   "name": "python3"
  },
  "language_info": {
   "codemirror_mode": {
    "name": "ipython",
    "version": 3
   },
   "file_extension": ".py",
   "mimetype": "text/x-python",
   "name": "python",
   "nbconvert_exporter": "python",
   "pygments_lexer": "ipython3",
   "version": "3.7.9"
  }
 },
 "nbformat": 4,
 "nbformat_minor": 2
}
