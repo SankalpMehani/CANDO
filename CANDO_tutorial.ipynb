{
 "cells": [
  {
   "cell_type": "markdown",
   "metadata": {},
   "source": [
    "# CANDO Tutorial\n",
    "\n",
    "This notebook will walk you through how to generate a CANDO matrix, set up a CANDO object, probe the data, benchmark the platform, and make therapeutic predictions. \n",
    "\n",
    "## ToC\n",
    "* [Introduction](#intro)\n",
    "* [Get Started](#get-started)\n",
    "* [Generate interaction matrix](#interaction-matrix)\n",
    "* [Generate a new compound library](#new-cmpd-lib)\n",
    "\n"
   ]
  },
  {
   "cell_type": "markdown",
   "metadata": {},
   "source": [
    "<a class=\"anchor\" id=\"intro\"></a>\n",
    "## Introduction"
   ]
  },
  {
   "cell_type": "markdown",
   "metadata": {},
   "source": [
    "<a class=\"anchor\" id=\"get-started\"></a>\n",
    "## Get Started\n",
    "\n",
    "We begin by importing the cando package. Once cando has been imported we can pull the example mappings and matrix data for this tutorial, `cnd.get_tutorial()`. Lastly, for our set up, we define important variables that will be used throughout this tutorial. These variables will be explained as each becomes important for different functions."
   ]
  },
  {
   "cell_type": "code",
   "execution_count": 12,
   "metadata": {
    "scrolled": true
   },
   "outputs": [
    {
     "name": "stdout",
     "output_type": "stream",
     "text": [
      "Downloading data for tutorial...\n",
      "./tutorial/8100.pdb exists.\n"
     ]
    },
    {
     "name": "stderr",
     "output_type": "stream",
     "text": [
      "./tutorial/tutorial-bac-prots.txt [105.0 KB] [##############] [Time:  0:00:00] \n"
     ]
    },
    {
     "name": "stdout",
     "output_type": "stream",
     "text": [
      "All data for tutorial downloaded.\n",
      "\n",
      "Downloading data for v2.2...\n",
      "/Users/ludo/src/CANDO-master/cando/data/v2.2+/mappings/drugbank-v2.2.tsv exists.\n",
      "/Users/ludo/src/CANDO-master/cando/data/v2.2+/mappings/drugbank2ctd-v2.2.tsv exists.\n",
      "/Users/ludo/src/CANDO-master/cando/data/v2.2+/prots/nrpdb-coach.tsv exists.\n",
      "All data for v2.2 downloaded.\n"
     ]
    }
   ],
   "source": [
    "import sys, os\n",
    "# import the cando package\n",
    "import cando as cnd\n",
    "\n",
    "# Pull data for this entire tutorial\n",
    "cnd.get_tutorial()\n",
    "cnd.get_data()\n",
    "\n",
    "# Define variables for matrix generation and CANDO object creation\n",
    "matrix_file='tutorial_matrix-all.tsv'\n",
    "cmpd_map='cmpds-v2.2.tsv'\n",
    "ind_map='cmpds2inds-v2.2.tsv'\n",
    "#prot_scores='{}/example-prots_scores.tsv'.format(root_path)\n",
    "protein_set=\"tutorial-bac-prots.txt\"\n",
    "dist_metric='cosine'\n",
    "ncpus=3\n",
    "\n",
    "os.chdir(\"tutorial\")"
   ]
  },
  {
   "cell_type": "markdown",
   "metadata": {},
   "source": [
    "<a class=\"anchor\" id=\"interaction-matrix\"></a>\n",
    "## Generate interaction matrix\n",
    "\n",
    "***THIS NEEDS TO BE UPDATED***\n",
    "\n",
    "<span style=\"color:red\">**This step is optional**</span> - The example interaction matrix, `matrix_file`, has already been downloaded via `get_tutorial()`. This function may take a few minutes (~7 mins on 3 cores).\n",
    "\n",
    "In this step we will generate a matrix of 13,190 compounds by 64 proteins, populated with the corresponding interaction score betwen each drug and protein. The final matrix will have drugs as the columns (indexed according to the compound mapping file), and proteins as the indices (indexed by PDB and chain ID).\n",
    "\n",
    "The function `generate_matrix()` first creates a dataframe for all tanimoto scores comparing each drug in our dataset (2,162) to every potential binding site ligand from the PDB, `cmpd_scores`. Next, it creates a dataframe of all potential binding sites for each protein in our dataset (example set = 64 proteins) with the corresponding binding site score, `prot_scores`. The function then iterates over all drugs and protein binding sites to populate the matrix with the best score based on the following input parameters: 1) `interaction_score` - the scoring protocol of choice, which can be 'C', 'dC', 'P', 'CxP', 'dCxP', where C is the Tanimoto score, dC is the percentile of the Tanimoto score for the compound, and P is binding site score from the [COACH algorithm](https://zhanglab.ccmb.med.umich.edu/COACH/), 2) `c_cutoff` and `p_cutoff` - set cutoffs which ignore any Tanimoto or binding site score below each threshold, respectively, and 3) `percentile_cutoff` - similar to `c_cutoff` but with the percentile of the Tanimoto score (overrides `c_cutoff` if not `None`). These scores represent how strongly each drug may potentially bind to each protein target. We then output the matrix to a tsv file, `matrix_file`.\n",
    "\n",
    "We will create a matrix using the 'C' protocol, which just chooses the top Tanimoto score to any ligand predicted to bind to a given protein, without any cutoffs. This function is parallelized, so setting the vairable `ncpus` will change the number of processors that are used for this function. NOTE: percentile cutoff protocols ('dC', 'dCxP') take much longer to compute than 'C' and 'P' protocols. "
   ]
  },
  {
   "cell_type": "code",
   "execution_count": 2,
   "metadata": {},
   "outputs": [
    {
     "name": "stdout",
     "output_type": "stream",
     "text": [
      "Generating CANDO matrix...\n",
      "Matrix written to ./tutorial_matrix-all.tsv.\n",
      "Matrix generation took 6 min 0 s to finish.\n"
     ]
    },
    {
     "name": "stderr",
     "output_type": "stream",
     "text": [
      "Process ForkPoolWorker-2:\n",
      "Process ForkPoolWorker-1:\n",
      "Process ForkPoolWorker-3:\n",
      "Traceback (most recent call last):\n",
      "  File \"/Users/ludo/src/anaconda3/envs/cando-v2/lib/python3.7/multiprocessing/process.py\", line 297, in _bootstrap\n",
      "    self.run()\n",
      "Traceback (most recent call last):\n",
      "  File \"/Users/ludo/src/anaconda3/envs/cando-v2/lib/python3.7/multiprocessing/process.py\", line 99, in run\n",
      "    self._target(*self._args, **self._kwargs)\n",
      "Traceback (most recent call last):\n",
      "  File \"/Users/ludo/src/anaconda3/envs/cando-v2/lib/python3.7/multiprocessing/process.py\", line 297, in _bootstrap\n",
      "    self.run()\n",
      "  File \"/Users/ludo/src/anaconda3/envs/cando-v2/lib/python3.7/multiprocessing/pool.py\", line 110, in worker\n",
      "    task = get()\n",
      "  File \"/Users/ludo/src/anaconda3/envs/cando-v2/lib/python3.7/multiprocessing/queues.py\", line 351, in get\n",
      "    with self._rlock:\n",
      "  File \"/Users/ludo/src/anaconda3/envs/cando-v2/lib/python3.7/multiprocessing/process.py\", line 99, in run\n",
      "    self._target(*self._args, **self._kwargs)\n",
      "  File \"/Users/ludo/src/anaconda3/envs/cando-v2/lib/python3.7/multiprocessing/synchronize.py\", line 95, in __enter__\n",
      "    return self._semlock.__enter__()\n",
      "  File \"/Users/ludo/src/anaconda3/envs/cando-v2/lib/python3.7/multiprocessing/pool.py\", line 110, in worker\n",
      "    task = get()\n",
      "  File \"/Users/ludo/src/anaconda3/envs/cando-v2/lib/python3.7/multiprocessing/process.py\", line 297, in _bootstrap\n",
      "    self.run()\n",
      "KeyboardInterrupt\n",
      "  File \"/Users/ludo/src/anaconda3/envs/cando-v2/lib/python3.7/multiprocessing/queues.py\", line 351, in get\n",
      "    with self._rlock:\n",
      "  File \"/Users/ludo/src/anaconda3/envs/cando-v2/lib/python3.7/multiprocessing/process.py\", line 99, in run\n",
      "    self._target(*self._args, **self._kwargs)\n",
      "  File \"/Users/ludo/src/anaconda3/envs/cando-v2/lib/python3.7/multiprocessing/synchronize.py\", line 95, in __enter__\n",
      "    return self._semlock.__enter__()\n",
      "  File \"/Users/ludo/src/anaconda3/envs/cando-v2/lib/python3.7/multiprocessing/pool.py\", line 110, in worker\n",
      "    task = get()\n",
      "  File \"/Users/ludo/src/anaconda3/envs/cando-v2/lib/python3.7/multiprocessing/queues.py\", line 352, in get\n",
      "    res = self._reader.recv_bytes()\n",
      "KeyboardInterrupt\n",
      "  File \"/Users/ludo/src/anaconda3/envs/cando-v2/lib/python3.7/multiprocessing/connection.py\", line 216, in recv_bytes\n",
      "    buf = self._recv_bytes(maxlength)\n",
      "  File \"/Users/ludo/src/anaconda3/envs/cando-v2/lib/python3.7/multiprocessing/connection.py\", line 407, in _recv_bytes\n",
      "    buf = self._recv(4)\n",
      "  File \"/Users/ludo/src/anaconda3/envs/cando-v2/lib/python3.7/multiprocessing/connection.py\", line 379, in _recv\n",
      "    chunk = read(handle, remaining)\n",
      "KeyboardInterrupt\n"
     ]
    }
   ],
   "source": [
    "# generate example cando interaction matrix (13,190 compounds x 64 proteins)\n",
    "cnd.generate_matrix(v=\"v2.2\", fp=\"rd_ecfp4\", vect=\"int\",\n",
    "                    dist=\"dice\", org=\"tutorial\", bs=\"coach\",\n",
    "                    c_cutoff=0.0, p_cutoff=0.0, percentile_cutoff=0.0,\n",
    "                    i_score=\"CxP\", out_file='tutorial_matrix-all.tsv', out_path=\".\",\n",
    "                    nr_ligs=True, approved_only=False,\n",
    "                    lib_path='', lig_name=False, ncpus=ncpus)"
   ]
  },
  {
   "cell_type": "markdown",
   "metadata": {},
   "source": [
    "## Setting up CANDO object\n",
    "\n",
    "1. First argument, `cmpd_map`, is the compound mapping which specifies all of the compounds in the matrix by name and ID.\n",
    "\n",
    "2. Second argument, `ind_map`, is the indication mapping which specifies which diseases the drugs/compounds are approved to treat.\n",
    "\n",
    "3. `matrix` is the cando interaction matrix file which contains the names of the proteins and the scores to all compounds. **This file must be in tsv format.**\n",
    "\n",
    "4. `compute_distance` tells the object to compute the distances between the compounds in the platform based on the similarity of their interactions with all of the proteins. The distance metric used, `dist_metric`, can be cosine, rmsd, or many other common distance metrics (default is rmsd). This can be relatively time consuming depending on the amount of proteins, but with proteins on the order of hundreds it shouldn't take longer than a minute or two. If the computation does take a while (let's say >100,000 proteins), you can add a `save_dists='name_of_dist_file.tsv'` flag to save the computation. Then, simply use the `read_dists='name_of_dist_file.tsv'` to read in the already computed RMSDs to save time. "
   ]
  },
  {
   "cell_type": "code",
   "execution_count": 3,
   "metadata": {},
   "outputs": [
    {
     "name": "stdout",
     "output_type": "stream",
     "text": [
      "Reading signatures from matrix...\n",
      "Done reading signatures.\n",
      "\n",
      "Computing cosine distances...\n",
      "Done computing cosine distances.\n",
      "\n"
     ]
    }
   ],
   "source": [
    "# create object using example cando interaction matrix\n",
    "# compute distances using rmsd distance metric\n",
    "cando = cnd.CANDO(cmpd_map, ind_map, matrix=matrix_file, compute_distance=True, \n",
    "                  dist_metric=dist_metric, ncpus=ncpus)"
   ]
  },
  {
   "cell_type": "markdown",
   "metadata": {},
   "source": [
    "## Check data\n",
    "The imported data from `get_tutorial()` contains the CANDO v2.2 mappings with a sample of 64 proteins (for simplicity sake). It should contain the v2.0 set of 2,162 drugs/compounds and 2,178 indications. Let's check to make sure this is the case. The `CANDO` object should automagically assign each compound its signature of 64 proteins. \n",
    "\n",
    "We can also search for compounds using a string input with `search_compound()`, in case you are unaware if the mapping file contains a compound of interest. Don't worry about exact spelling, it will output the top 5 (default) closest matches to your query. "
   ]
  },
  {
   "cell_type": "code",
   "execution_count": null,
   "metadata": {},
   "outputs": [],
   "source": [
    "# print cando object stats\n",
    "print('compounds', len(cando.compounds))\n",
    "print('indications', len(cando.indications))\n",
    "print('proteins', len(cando.proteins))\n",
    "print('')\n",
    "\n",
    "cando.search_compound('bilavarudin')"
   ]
  },
  {
   "cell_type": "markdown",
   "metadata": {},
   "source": [
    "Spelling was a bit off, but we found bivalirudin!\n",
    "\n",
    "Let's make sure bivalirudin has 64 values in its signature and take a look at the values themselves. We know its `id_` is 0 from searching. Depending on the scoring protocol used, the range/distribution of these values will vary.\n",
    "\n",
    "The `compute_distance` flag above tells the CANDO object to compute the RMSD between each compound on an all-vs-all basis. Let's check out the top5 most similar compounds to bivalirudin. The `Compound.similar` lists are part of the `Compound` objects and contain a tuple of every other compound object and its computed RMSD."
   ]
  },
  {
   "cell_type": "code",
   "execution_count": null,
   "metadata": {},
   "outputs": [],
   "source": [
    "# print bivalirudin signature\n",
    "c = cando.compounds[0]\n",
    "print(c.name, len(c.sig))\n",
    "print(c.sig)\n",
    "print('')\n",
    "\n",
    "# top5 most similar compounds to bivalirudin\n",
    "for s in c.similar[0:5]:\n",
    "    print(s[0].name, round(s[1], 3))"
   ]
  },
  {
   "cell_type": "markdown",
   "metadata": {},
   "source": [
    "## Canbenchmark\n",
    "An important part of CANDO is benchmarking how well we can recapture drugs known to treat the same dieases within their respective `Compound.similar` lists. Currently, our benchmarking code calculates three metrics:\n",
    "1. Average indication accuracy (aia) - this value is the average of every individual indication accuracy\n",
    "2. Average pairwise accuracy (apa) - this value is the weighted average of each individual indication accuracy based on the number of drugs approved to treat it\n",
    "3. Indication coverage (ic) - this is the count of the number of non-zero indication accuracies\n",
    "\n",
    "The higher the metric scores for a given matrix/compound-protein scoring protocol, the more confidence we will have in predictions made using it. \n",
    "\n",
    "An accuracy is calculated for each indication that has at least 2 compounds associated. To do this, we hold out each compound and look for any of the other approved compounds within a certain cutoff of the `Compound.similar` list for the held-out compound. The cutoffs are predetermined to be top10, top25, top50, and top100. There are also percent cutoffs that vary based on the number of compounds in the platform. So, for Indication-A with three drugs approved (D1, D2, and D3), we would hold out D1 and look for *either* D2 or D3 in the top10, top25, top50, and top100 compounds to D1. This would be repeated for D2 and D3. So let's say D3 was recaptured at rank 5 for D1, D1 was recaptured at rank 12 for D2, and D1 was recaptured at rank 27 for D3. The top10 average indication accuracy would be (1+0+0) / 3 == 33%, whereas the top25 would be (1+1+0) / 3 == 66%, and the top50 would be 100%. \n",
    "\n",
    "### Canbenchmark - classic\n",
    "Below is how to run the benchmarking code. The first argument of `canbenchmark()` is the extension to put on the output files (\"results_analysed_named\", \"raw_results\", and \"summary\"). "
   ]
  },
  {
   "cell_type": "code",
   "execution_count": null,
   "metadata": {
    "scrolled": true
   },
   "outputs": [],
   "source": [
    "cando.canbenchmark('tutorial')"
   ]
  },
  {
   "cell_type": "markdown",
   "metadata": {},
   "source": [
    "Below is the printed summary file for the classic canbenchmark."
   ]
  },
  {
   "cell_type": "code",
   "execution_count": null,
   "metadata": {},
   "outputs": [],
   "source": [
    "with open(\"summary-tutorial.tsv\", 'r') as f:\n",
    "    for line in f:\n",
    "        print(line.strip('\\n'))"
   ]
  },
  {
   "cell_type": "markdown",
   "metadata": {},
   "source": [
    "### Canbenchmark - associated\n",
    "There are variations of the benchmarking code which may be of interest to some users. For example, not every compound in the mapping files are associated with a disease. This can decrease performance. We can have these compounds removed by running another benchmarking method called `canbenchmark_associated()`, which will automatically filter out these non-associated compounds. "
   ]
  },
  {
   "cell_type": "code",
   "execution_count": null,
   "metadata": {},
   "outputs": [],
   "source": [
    "cando.canbenchmark_associated('tutorial_associated')"
   ]
  },
  {
   "cell_type": "markdown",
   "metadata": {},
   "source": [
    "Below is the printed summary file for the associated canbenchmark."
   ]
  },
  {
   "cell_type": "code",
   "execution_count": null,
   "metadata": {},
   "outputs": [],
   "source": [
    "with open(\"summary-tutorial_associated.tsv\", 'r') as f:\n",
    "    for line in f:\n",
    "        print(line.strip('\\n'))"
   ]
  },
  {
   "cell_type": "markdown",
   "metadata": {},
   "source": [
    "### Canbenchmark - continuous\n",
    "Yet another variation of our benchmarking is `continuous=True`. This method identifies percentiles for the compound distances which define our cutoffs. Rather than top10 compounds, we can define an RMSD cutoffs that will not punish a compound that may fall at rank 11, but is still very similar to the hold-out compound. These RMSD cutoffs are determined empirically. "
   ]
  },
  {
   "cell_type": "code",
   "execution_count": null,
   "metadata": {
    "scrolled": true
   },
   "outputs": [],
   "source": [
    "cando.canbenchmark('tutorial_continuous', continuous=True)"
   ]
  },
  {
   "cell_type": "markdown",
   "metadata": {},
   "source": [
    "Below is the printed summary file for the continuous canbenchmark."
   ]
  },
  {
   "cell_type": "code",
   "execution_count": null,
   "metadata": {},
   "outputs": [],
   "source": [
    "with open('summary-tutorial_continuous.tsv', 'r') as f:\n",
    "    for line in f:\n",
    "        print(line.strip('\\n'))"
   ]
  },
  {
   "cell_type": "markdown",
   "metadata": {},
   "source": [
    "## Canpredict\n",
    "\n",
    "An important part of CANDO is generating putative drug candidates for a specific disease and predicting indications for which added or current drugs in our library can be therapetuic. We can do this with the canpredict functions.\n",
    "\n",
    "### Canpredict - compounds\n",
    "Generating putative drug candidates for a specific disease is one way we may want to use the predictive power of our platform. For this, we use the `canpredict_compounds()` function, which basically uses a consensus method to rank putative compounds based on how many times they show up as similar to drugs approved to treat the disease within some cutoff. The default cutoff is 10 (the most stringent from benchmarking), but this can be varied. In its current implementation, `canpredict_compounds()` ranks compounds based on the consensus count and uses it's average rank as the tie-breaker. \n",
    "\n",
    "Let's make predictions for human immunodeficiency virus (HIV). First, let's search our indication database for the appropriate MeSH ID. "
   ]
  },
  {
   "cell_type": "code",
   "execution_count": null,
   "metadata": {},
   "outputs": [],
   "source": [
    "cando.search_indication('HIV')"
   ]
  },
  {
   "cell_type": "markdown",
   "metadata": {},
   "source": [
    "The one we want is \"HIV Infections\" with an `id_` of \"MESH:D015658\". This is the input for `canpredict_compounds()`, but first let's see more about this indication. We "
   ]
  },
  {
   "cell_type": "code",
   "execution_count": null,
   "metadata": {},
   "outputs": [],
   "source": [
    "hiv = cando.get_indication(\"MESH:D015658\")\n",
    "print('Number of drugs associated with {}: {}'.format(hiv.name, len(hiv.compounds)))\n",
    "for cmpd in hiv.compounds:\n",
    "    print('{}\\t{}'.format(cmpd.id_, cmpd.name))"
   ]
  },
  {
   "cell_type": "markdown",
   "metadata": {},
   "source": [
    "There are 32 drugs associated with HIV Infections, which makes sense given how well-studied it is as a disease. Most seem to be protease inhibitors (saquinavir, fosamprenavir) or nucleoside analogs (zalcitabine, didanosine). \n",
    "\n",
    "We can now make predictions for other drugs/compounds that may be useful against HIV. This list is very long due to the large amount of drugs approved to treat HIV, so we should look at only the top10 (default) by setting `n=10`. We will also only print the first 10 compounds (`topX=10`)."
   ]
  },
  {
   "cell_type": "code",
   "execution_count": null,
   "metadata": {},
   "outputs": [],
   "source": [
    "cando.canpredict_compounds(\"MESH:D015658\", n=10, topX=10)"
   ]
  },
  {
   "cell_type": "markdown",
   "metadata": {},
   "source": [
    "Perhaps using the top10 compounds is not encompassing enough. Let's change it to top25 (n=25) and see if the predictions change. We will still print the first 10 compounds."
   ]
  },
  {
   "cell_type": "code",
   "execution_count": null,
   "metadata": {},
   "outputs": [],
   "source": [
    "cando.canpredict_compounds(\"MESH:D015658\", n=25, topX=10)"
   ]
  },
  {
   "cell_type": "markdown",
   "metadata": {},
   "source": [
    "We can show more results by changing the `topX` parameter. Let's print 25. \n",
    "\n",
    "We can also show the compounds that are already approved for 'HIV Infections' - indicated by an asterisk in the 'approved' column, by changing the `keep_associated` parameter to `True`. In this case, we recaptured associated therapies abacavir and amprenavir. \n",
    "\n",
    "<span style=\"color:red\">(Note: this function is heavily reliant on the input indication mapping.)</span>"
   ]
  },
  {
   "cell_type": "code",
   "execution_count": null,
   "metadata": {},
   "outputs": [],
   "source": [
    "cando.canpredict_compounds(\"MESH:D015658\", n=25, topX=20, \n",
    "                           keep_associated=True)"
   ]
  },
  {
   "cell_type": "markdown",
   "metadata": {},
   "source": [
    "### Canpredict - de novo\n",
    "\n",
    "Sometimes there are no drugs associated with an indication (whether it be in reality or in your input indication mapping); in those cases we can use the `canpredict_denovo()` function to suggest putative candidates. Basically, this function counts/sums the number of protein interaction scores above a set threshold for each compound and ranks them according to frequency and strength. This is particularly useful for pathogen proteomes (like SARS-CoV-2 or bacterial proteomes) or for finding which compounds target a subset of proteins of interest (e.g. kinases). In our case, we have a diverse set of proteins, which would render the results meaningless. Instead, we can input a list of protein IDs in which we are interested. We have precompiled a list of bacterial proteins already present in the sample matrix for convenience. Note: if we had read in an indication-genes mapping file, we could use the `ind_id=` parameter to automatically select all proteins associated with said indication. "
   ]
  },
  {
   "cell_type": "code",
   "execution_count": 9,
   "metadata": {},
   "outputs": [
    {
     "name": "stdout",
     "output_type": "stream",
     "text": [
      "Downloading data for tutorial...\n"
     ]
    },
    {
     "name": "stderr",
     "output_type": "stream",
     "text": [
      "./tutorial/tutorial_matrix-all.tsv [  4.8 MB] [#############] [Time:  0:00:00] \n",
      "./tutorial/tutorial_matrix-approved.tsv [918.8 KB] [########] [Time:  0:00:00] \n",
      "./tutorial/cmpds-v2.2.tsv [739.6 KB] [######################] [Time:  0:00:00] \n",
      "./tutorial/cmpds-v2.2-approved.tsv [107.8 KB] [#############] [Time:  0:00:00] \n",
      "./tutorial/cmpds2inds-v2.2.tsv [902.5 KB] [#################] [Time:  0:00:00] \n",
      "./tutorial/8100.pdb [  4.6 KB] [############################] [Time:  0:00:00] \n",
      "./tutorial/tutorial-bac-prots.txt [341.0 KB] [##############] [Time:  0:00:00] \n"
     ]
    },
    {
     "name": "stdout",
     "output_type": "stream",
     "text": [
      "All data for tutorial downloaded.\n",
      "\n",
      "Printing the 45 highest predicted compounds...\n",
      "\n",
      "rank\tscore1\tscore2\tid\tapproved\tname\n",
      "1\t3\t2.39\t66\tfalse   \tatp\n",
      "2\t3\t2.246\t2621\tfalse   \tadenosine_5'-[γ-thio]triphosphate\n",
      "3\t3\t2.217\t11320\tfalse   \t6-thioinosine_triphosphate\n",
      "4\t3\t2.217\t2088\tfalse   \tadenosine-5'-rp-alpha-thio-triphosphate\n",
      "5\t3\t2.145\t3387\tfalse   \tadenosine-5'-[beta__gamma-methylene]tetraphosphate\n",
      "6\t3\t2.133\t2444\tfalse   \tadenosine-5'-pentaphosphate\n",
      "7\t3\t2.13\t2315\tfalse   \talpha_beta-methyleneadenosine-5'-triphosphate\n",
      "8\t3\t2.13\t2096\tfalse   \t2'-monophosphoadenosine-5'-diphosphate\n",
      "9\t3\t2.13\t1615\tfalse   \t3'-phosphate-adenosine-5'-diphosphate\n",
      "10\t3\t1.929\t3623\tfalse   \turidine_5'-triphosphate\n",
      "11\t2\t1.526\t3959\tfalse   \t3'-deoxy_3'-amino_adenosine-5'-diphosphate\n",
      "12\t2\t1.5\t10026\ttrue    \tmagnesium\n",
      "13\t2\t1.472\t2896\tfalse   \tdatp\n",
      "14\t2\t1.472\t1631\tfalse   \tcordycepin_triphosphate\n",
      "15\t2\t1.437\t3747\tfalse   \tguanosine-5'-triphosphate\n",
      "16\t2\t1.416\t4131\tfalse   \t8-bromoadenosine-5'-diphosphate\n",
      "17\t2\t1.389\t2595\tfalse   \t3'-phosphate-adenosine-5'-phosphate_sulfate\n",
      "18\t2\t1.388\t1813\tfalse   \tadenosine-5-diphosphoribose\n",
      "19\t2\t1.385\t1936\tfalse   \t2'_3'-dideoxyadenosine-5'-triphosphate\n",
      "20\t2\t1.382\t3913\tfalse   \tguanosine-5'-diphosphate\n",
      "21\t2\t1.38\t1914\tfalse   \tzinc_trihydroxide\n",
      "22\t2\t1.38\t1384\ttrue    \tzinc\n",
      "23\t2\t1.365\t2375\tfalse   \tadenosine-5'-diphosphate-2'_3'-vanadate\n",
      "24\t2\t1.356\t1635\tfalse   \t5'-guanosine-diphosphate-monothiophosphate\n",
      "25\t2\t1.347\t2161\tfalse   \tcytidine-5'-triphosphate\n",
      "26\t2\t1.346\t3532\tfalse   \tadenosine-5'-[beta__gamma-methylene]triphosphate\n",
      "27\t2\t1.334\t1550\tfalse   \tadenosine-5'-monophosphate_glucopyranosyl-monophosphate_ester\n",
      "28\t2\t1.332\t1661\tfalse   \tn6-benzyl_adenosine-5'-diphosphate\n",
      "29\t2\t1.331\t3135\tfalse   \t2'-o-acetyl_adenosine-5-diphosphoribose\n",
      "30\t2\t1.326\t11645\tfalse   \tthioguanosine_diphosphate\n",
      "31\t2\t1.315\t3096\tfalse   \turidine-5'-diphosphate\n",
      "32\t2\t1.28\t2424\tfalse   \t7-methyl-guanosine-5'-triphosphate\n",
      "33\t2\t1.277\t4132\tfalse   \tcytidine-5'-diphosphate\n",
      "34\t2\t1.233\t3986\tfalse   \tphosphoaminophosphonic_acid-adenylate_ester\n",
      "35\t1\t0.9\t1525\tfalse   \td-leucine\n",
      "36\t1\t0.9\t45\tfalse   \tleucine\n",
      "37\t1\t0.9\t41\ttrue    \tglycine\n",
      "38\t1\t0.86\t8549\tfalse   \tcaprylic_alcohol\n",
      "39\t1\t0.85\t2369\tfalse   \td-aspartic_acid\n",
      "40\t1\t0.85\t24\ttrue    \taspartic_acid\n",
      "41\t1\t0.811\t2819\tfalse   \tnonan-1-ol\n",
      "42\t1\t0.8\t2966\tfalse   \t3'-beta-sialyl-beta-lactose\n",
      "43\t1\t0.79\t11054\tfalse   \tadenosine_monophosphate\n",
      "44\t1\t0.79\t3321\tfalse   \turidine_monophosphate\n",
      "45\t1\t0.79\t2783\tfalse   \tthymidine-5'-_diphosphate\n"
     ]
    }
   ],
   "source": [
    "bacterial_proteins = [\"3mk7C\", \"3eziA\", \"1u2mC\", \"3atsA\", \"2x4mA\", \n",
    "                      \"4wliA\", \"1t4aA\", \"4zxkA\", \"1zhhA\", \"1eb0A\", \n",
    "                      \"4nqwB\", \"2gqrA\", \"2qlcA\", \"3rf1A\", \"2xpwA\"]\n",
    "\n",
    "cando.canpredict_denovo(method='count', threshold=0.6, topX=45, proteins=bacterial_proteins)"
   ]
  },
  {
   "cell_type": "markdown",
   "metadata": {},
   "source": [
    "Interestingly, multiple antibiotics receive scores higher than the cutoff of 0.6, including **kanamycin, streptomycin, netilmicin, doxycycline**, among others. "
   ]
  },
  {
   "cell_type": "markdown",
   "metadata": {},
   "source": [
    "### Canpredict - indications\n",
    "\n",
    "\n",
    "Below we print the first 10 indications predicted for Paromomycin using the top10 most similar compounds. Again, this tallies how many times specific diseases show up as associated with the top10 most similar compounds to paromomycin. "
   ]
  },
  {
   "cell_type": "code",
   "execution_count": 5,
   "metadata": {},
   "outputs": [
    {
     "name": "stdout",
     "output_type": "stream",
     "text": [
      "Using CANDO compound calcium\n",
      "Compound has id 1191 and index 1191\n",
      "Comparing signature to all CANDO compound signatures...\n",
      "Generating indication predictions using top10 most similar compounds...\n",
      "Printing the 10 highest predicted indications...\n",
      "\n",
      "rank\tscore\tind_id    \tindication\n",
      "1\t2\tMESH:D006973\tHypertension\n",
      "2\t1\tMESH:D058186\tAcute Kidney Injury\n",
      "3\t1\tMESH:D001145\tArrhythmias, Cardiac\n",
      "4\t1\tMESH:D001281\tAtrial Fibrillation\n",
      "5\t1\tMESH:D001321\tAutistic Disorder\n",
      "6\t1\tMESH:D002318\tCardiovascular Diseases\n",
      "7\t1\tMESH:D002561\tCerebrovascular Disorders\n",
      "8\t1\tMESH:D003329\tCoronary Vasospasm\n",
      "9\t1\tMESH:D002658\tDevelopmental Disabilities\n",
      "10\t1\tMESH:D064420\tDrug-Related Side Effects and Adverse Reactions\n",
      "\n"
     ]
    }
   ],
   "source": [
    "cando.canpredict_indications(cando.compounds[1191], \n",
    "                             n=10, topX=10)"
   ]
  },
  {
   "cell_type": "markdown",
   "metadata": {},
   "source": [
    "Not surprisingly, all of the predictions are infections of some sort (aka: most antibiotics share a great deal of structural similarity with each other). "
   ]
  },
  {
   "cell_type": "markdown",
   "metadata": {},
   "source": [
    "### Similar compounds\n",
    "`similar_compounds()` prints the first `n` most similar compounds for a given compound. This, like `canpredict_indications()` can be used with cando compounds, `cando_cmpd`, or novel compounds with a signature file (we will explore this later).\n",
    "\n",
    "Below we print the first 10 most similar compounds to Paromomycin."
   ]
  },
  {
   "cell_type": "code",
   "execution_count": 6,
   "metadata": {},
   "outputs": [
    {
     "name": "stdout",
     "output_type": "stream",
     "text": [
      "Using CANDO compound calcium\n",
      "Compound has id 1191 and index 1191\n",
      "Comparing signature to all CANDO compound signatures...\n",
      "Printing top10 most similar compounds...\n",
      "\n",
      "rank\tdist\tid\tname\n",
      "1\t0.217\t10026\tmagnesium\n",
      "2\t0.236\t434\tpropylthiouracil\n",
      "3\t0.242\t3739\t5-nitroso-6-ribityl-amino-2_4(1h_3h)-pyrimidinedione\n",
      "4\t0.243\t3088\tdigalactosyl_diacyl_glycerol_(dgdg)\n",
      "5\t0.243\t4630\telacytarabine\n",
      "6\t0.243\t5975\to_o-diethyl_hydrogen_thiophosphate\n",
      "7\t0.245\t4669\tkp-1461\n",
      "8\t0.246\t5691\t4-amino-2-octyloxy-6-hydroxymethyl-tetrahydro-pyran-3_5-diol\n",
      "9\t0.246\t6639\t(r)-2-(formyloxy)-3-(phosphonooxy)propyl_pentanoate\n",
      "10\t0.246\t12810\tdihydrodigoxin\n",
      "11\t0.248\t4473\tneramexane\n",
      "\n",
      "\n"
     ]
    }
   ],
   "source": [
    "cando.similar_compounds(cando.compounds[1191], n=10)"
   ]
  },
  {
   "cell_type": "markdown",
   "metadata": {},
   "source": [
    "As expected, most compounds are known antibiotics. "
   ]
  },
  {
   "cell_type": "markdown",
   "metadata": {},
   "source": [
    "## Machine learning with CANDO\n",
    "The \"proteomic vectors\" within CANDO lend themselves well to machine learning to perhaps learn more complex relationships between the proteins within the vector and their impacts on the treatment of diseases. CANDO has built-in ML algorithms that allow for two main functionalities:\n",
    "1. Benchmark the platform using a hold-one-out protocol very similar to canbenchmark\n",
    "2. Make predictions for novel or non-associated compounds that may be therapeutic for a given disease\n",
    "\n",
    "The ML module currently supports 2 algorithms: random forests and logistic regression. The models are trained on drugs approved for the disease (positive classes) and an equal number of randomly selected \"neutral samples\", which are drugs/compounds not approved for the disease (negative samples). Random seeds may be set to ensure the same compounds are used in training. \n",
    "\n",
    "### ML - benchmark\n",
    "We have the option to benchmark the platform with an ML algorithm - this module outputs files very similar to canbenchmark. For this tutorial, we will skip this function as it requires a great deal of time to complete (training a separate model for EVERY drug-disease association, basically). The command to do so with a logistic regression classifier is below, feel free to run it! The `'out='` flag defines the name of the output files. Again, only diseases with 2+ compounds associated are benchmarked. \n",
    "\n",
    "`cnd.ml(method='rf', benchmark=True, seed=50, out='test_rf')`\n",
    "\n",
    "### ML - predict\n",
    "We can also use this module to predict if a certain compound may be therapeutic for a given disease. We can use the \n",
    "`'predict='` flag to specify a list of compounds that we wish to predict with the classifier. Let's use three drugs, imatinib, buprenorphine, and lisdexamfetamine, and see if they are predicted to have antibiotic activity using a random forest classifier. "
   ]
  },
  {
   "cell_type": "code",
   "execution_count": 7,
   "metadata": {},
   "outputs": [
    {
     "name": "stdout",
     "output_type": "stream",
     "text": [
      "Indication: Bacterial Infections\n",
      "Leave-one-out cross validation: TP=34, FP=0, FN=23, TN=57, Acc=79.825\n",
      "\tCompound\tProb\n",
      "\tthiopental\t0.360\n",
      "\tremifentanil\t0.600\n",
      "\tencainide\t0.430\n"
     ]
    }
   ],
   "source": [
    "baci = cando.get_indication('MESH:D001424')\n",
    "\n",
    "imat = cando.get_compound(483)\n",
    "bup = cando.get_compound(775)\n",
    "lamf = cando.get_compound(1094)\n",
    "\n",
    "cando.ml(method='rf', effect=baci, benchmark=False, seed=50, predict=[imat, bup, lamf])"
   ]
  },
  {
   "cell_type": "markdown",
   "metadata": {},
   "source": [
    "## Custom protein subsets and signatures\n",
    "It may be useful for some users to probe compound-protein interaction similarity, but only in the context of a few particular proteins (e.g. set of kinase inhibitors). Instead of generating a new matrix with all of these proteins and their corresponding interaction values, which can begin to take up a lot of storage if done multiple times, the `'protein_set='` flag can be specified during the instantiation of the CANDO object. This flag contains the path to the protein subset the user wishes to use, which is simply a list of UniProt protein IDs. The CANDO object will automatically check for each ID if it either simply matches any UniProt IDs within the matrix or if that UniProt ID is associated with any PDB chains within the matrix (based on a mapping from the SIFTs project). If there are matches, the CANDO object will now contain Compound objects with only those protein interaction values in their signatures. Below is how to use this functionality - this time we can search for the bacterial proteins from the previous `canpredict_denovo()` section, but filter the proteins from the start using a list of UniProt IDs. "
   ]
  },
  {
   "cell_type": "code",
   "execution_count": null,
   "metadata": {},
   "outputs": [
    {
     "name": "stdout",
     "output_type": "stream",
     "text": [
      "Reading signatures from matrix...\n",
      "Editing signatures according to proteins in tutorial-bac-prots.txt...\n",
      "15 proteins in tutorial-bac-prots.txt mapped to 15 proteins in tutorial_matrix-all.tsv.\n",
      "Done reading signatures.\n",
      "\n",
      "Computing cosine distances...\n"
     ]
    }
   ],
   "source": [
    "cando_subset = cnd.CANDO(cmpd_map, ind_map, matrix=matrix_file, \n",
    "                         compute_distance=True, protein_set=protein_set,\n",
    "                         dist_metric=dist_metric, ncpus=ncpus)\n",
    "\n",
    "print(\"Number of proteins in new signature =\", len(cando_subset.proteins))"
   ]
  },
  {
   "cell_type": "markdown",
   "metadata": {},
   "source": [
    "The signature was successfully edited to 15 proteins. Note: this does not nececessarily mean the each UniProt ID had a corresponding PDB match -- multiple PDB chains can be associated with a given UniProt ID. \n",
    "\n",
    "We can also repeat all benchmarks and predictive algorithms with the new signatures. Below is the default benchmarking results with the new signatures. "
   ]
  },
  {
   "cell_type": "code",
   "execution_count": null,
   "metadata": {},
   "outputs": [],
   "source": [
    "cando_subset.canbenchmark('test_subset')"
   ]
  },
  {
   "cell_type": "markdown",
   "metadata": {},
   "source": [
    "Let's repeat the ML code from above, but this time let's use logistic regression. "
   ]
  },
  {
   "cell_type": "code",
   "execution_count": null,
   "metadata": {},
   "outputs": [],
   "source": [
    "baci = cando_subset.get_indication('MESH:D001424')\n",
    "\n",
    "imat = cando_subset.get_compound(483)\n",
    "bup = cando_subset.get_compound(775)\n",
    "lamf = cando_subset.get_compound(1094)\n",
    "\n",
    "cando_subset.ml(method='log', effect=baci, benchmark=False, \n",
    "                seed=50, predict=[imat, bup, lamf])"
   ]
  },
  {
   "cell_type": "markdown",
   "metadata": {},
   "source": [
    "As you can see, the output probabilities significantly change for the three test compounds (imatinib: 0.190->0.514,\n",
    "\tbuprenorphine: 0.640->0.533, lisdexamfetamine: 0.130->0.400), as well as a slight change in performance (Acc: 32.7->33.6), illustrating the impact of protein subset composition on model training. "
   ]
  },
  {
   "cell_type": "markdown",
   "metadata": {},
   "source": [
    "## Generate proteomic signatures for new compounds \n",
    "\n",
    "***NEEDS TO BE UPDATED***\n",
    "\n",
    "The CANDO platform contains an extensive library of approved drugs (2,162) and other compounds (additional 6,590) from DrugBank. However, if you wish to predict indications or similar drugs for a compound that is not present in our library, we make it possible with the following series of functions.\n",
    "\n",
    "First, you must have the compound properly formatted in PDB file format. There are many programs that provide conversion among many chemical file formats if you require, such as OpenBabel.\n",
    "\n",
    "Next, you can run the `generate_scores()` function. This will populate a tsv file with tanimoto similarity scores (jaccard index) of the provided compound to all binding site ligands in our database. These values will be used for the generation of the drug-proteome signature. The fingerprint used for tanimoto score will be defined by the input for variable 'fp'. The default for this is \"rd_ecfp4\". The tsv file will be saved with the name you provide in cmpd_id (e.g. cmpd_id=7561; \"7561.tsv\") and it will be saved in the directory provided as the out_path along with the fingerprint defined (e.g. out_path=\"examples\"; \"examples/rd_ecfp4/7561.tsv\"). Any novel compound structure file should be named in the format `####.pdb` such as 1000.pdb or 25.pdb. The output of `generate_scores()` is within the directory named for the fingerprint method used (e.g. \"rd_ecfp4/\") and is named in the format `####_scores.tsv` (e.g. 1000_scores.tsv). \n",
    "\n",
    "Next, `generate_signature()` is called which creates a file with the interaction scores against all proteins in the `prot_scores` input file. It is saved in a format similar to `generate_scores()` (e.g. 1000_signature.tsv). NOTE: the interaction score protocol must match the input matrix protocol, which was 'C' as above. If we used a different protocol, these scores would not be directly comparable. "
   ]
  },
  {
   "cell_type": "code",
   "execution_count": null,
   "metadata": {},
   "outputs": [],
   "source": [
    "cmpd_file = \"8100.mol\"\n",
    "signature_file = \"8100_signature.tsv\"\n",
    "\n",
    "cnd.generate_signature(cmpd_file, fp=\"rd_ecfp4\", vect=\"int\", dist=\"dice\", \n",
    "                      org=\"tutorial\", bs=\"coach\", c_cutoff=0.0, p_cutoff=0.0, \n",
    "                      percentile_cutoff=0.0, i_score=\"CxP\", out_file=signature_file, \n",
    "                      out_path=\".\", nr_ligs=True)"
   ]
  },
  {
   "cell_type": "markdown",
   "metadata": {},
   "source": [
    "We then must add the compound to the existing `CANDO` object with the `add_cmpd()` function. The inputs are the newly generated signature file and the desired name (which below is \"scy-635\"). "
   ]
  },
  {
   "cell_type": "code",
   "execution_count": null,
   "metadata": {},
   "outputs": [],
   "source": [
    "cando.add_cmpd(signature_file, new_name='mk-0249')"
   ]
  },
  {
   "cell_type": "markdown",
   "metadata": {},
   "source": [
    "Now that our new compound is added to the platform, we can see what other compounds to which it is similar. We can use the `similar_compounds()` function from before to print those compounds. "
   ]
  },
  {
   "cell_type": "code",
   "execution_count": null,
   "metadata": {},
   "outputs": [],
   "source": [
    "mk0249 = cando.get_compound(13190)\n",
    "cando.similar_compounds(mk0249, n=10)"
   ]
  },
  {
   "cell_type": "markdown",
   "metadata": {},
   "source": [
    "Given that scy-635 is a cyclosporine analog, this is an expected and good result as cyclosporine shows up at rank 1.\n",
    "\n",
    "Finally, we can predict potential indications for which our new compound may be useful. Since cyclosporine is a known immunosuppressant, we should expect to find autoimmune or inflammatory indications. We can use the `canpredict_indications()` as before to print those results. "
   ]
  },
  {
   "cell_type": "code",
   "execution_count": null,
   "metadata": {},
   "outputs": [],
   "source": [
    "cando.canpredict_indications(mk0249, n=10, topX=10)"
   ]
  },
  {
   "cell_type": "markdown",
   "metadata": {},
   "source": [
    "Interestingly, hepatitis C is the strongest hit, which is a good result given it is [currently being investigated as a potential treatment for Hep C](https://www.drugbank.ca/drugs/DB12451). "
   ]
  },
  {
   "cell_type": "markdown",
   "metadata": {},
   "source": [
    "<a class=\"anchor\" id=\"new-cmpd-lib\"></a>\n",
    "## Generate a new compound library\n",
    "\n",
    "In this part of the tutorial, we will walk you through how to create a new, unique compound library to use for matrix generation."
   ]
  },
  {
   "cell_type": "markdown",
   "metadata": {},
   "source": [
    "### Create compound set\n",
    "\n",
    "In order to create a new compound set, you must first have a TSV (tab separated values) file that contains one of two chemical file types:\n",
    "\n",
    "1. SMILES - `file_type='smi'`. The file must have the SMILES string as the first column and the corresponding compound name in the second column, e.g.\n",
    "    `C1CNCCN(C1)S(=O)(=O)C2=CC=CC3=C2C=CN=C3 fasudil`\n",
    "    \n",
    "2. Mol - `file_type='mol'`. The file must have the name of the file, without the file extension. In addition, the path to the files must be given in the argument `cmpd_dir`.\n",
    "\n",
    "In our example, we will create a new compound library of select tyrosine kinase inhibitors (TKIs) that we will then use to create a new matrix with just these drugs. First, we generate the library."
   ]
  },
  {
   "cell_type": "code",
   "execution_count": null,
   "metadata": {},
   "outputs": [],
   "source": [
    "cnd.add_cmpds(\"tki_set-test.smi\", file_type='smi', fp=\"rd_ecfp4\", vect=\"int\", cmpd_dir=\".\", v='tki')"
   ]
  },
  {
   "cell_type": "markdown",
   "metadata": {},
   "source": [
    "We have now generated a new compound library, located at `./tki/cmpds`. This location is partially hardcoded, so it will also create a directory in your current working directory, `./`, named after the `v` you choose, `./tki`. This makes it easier for the end-user.\n",
    "\n",
    "Notice we chose to use the rdkit fingerprint ecfp4, `fp=\"rd_ecfp4\"`, and the vector type int, `vect=\"int\"`. We need to keep track of this for our matrix generation."
   ]
  },
  {
   "cell_type": "markdown",
   "metadata": {},
   "source": [
    "### Generate matrix from new compound library\n",
    "\n",
    "Next we will generate a matrix using this **tki** compound library. The generate matrix function can take in a customized matrix, as opposed to the pregenerated/downlaoded matrices based upon our predefined `v`, e.g. v2.2, v2.3, etc. By setting `v` to the same name you used in the previous `add_cmpds` function, you can load those cmpds to create a new matrix.\n",
    "\n",
    "We will set `v='tki'` and `lib_path='.'`. This means we will use the **tki** library, which is located in the current working dir. In addition, sicne we created our compound library using fingerprint type ecfp4, we need to make sure we use it here, as well. The remaining arguemnts has already been discussed in the previous <a class=\"anchor\" id=\"interaction-matrix\">generate matrix</a> section.\n"
   ]
  },
  {
   "cell_type": "code",
   "execution_count": null,
   "metadata": {},
   "outputs": [],
   "source": [
    "cnd.generate_matrix(v=\"tki\", lib_path='.',\n",
    "                    fp=\"rd_ecfp4\", vect=\"int\",\n",
    "                    dist=\"dice\", org=\"tutorial\", bs=\"coach\",\n",
    "                    c_cutoff=0.0, p_cutoff=0.0, percentile_cutoff=0.0,\n",
    "                    i_score=\"CxP\", out_file='', out_path=\"\",\n",
    "                    nr_ligs=True, approved_only=False,\n",
    "                    lig_name=False, ncpus=ncpus)"
   ]
  },
  {
   "cell_type": "markdown",
   "metadata": {},
   "source": [
    "We now have a brand new matrix with all of our new TKIs scored against our set of 64 test proteins. This file is located at `./tki/matrices/`. Again, these paths are mostly hardcoded. You can control where the matrix is written and what the name is using the `out_path` and `out_file` arguments. When these arugments are set to '' the hardcoded paths are used, as shown in this example."
   ]
  },
  {
   "cell_type": "markdown",
   "metadata": {
    "collapsed": true
   },
   "source": [
    "## Virtual screening in CANDO\n",
    "Though the CANDO platform is mainly intended for multitarget drug discovery and repurposing, there still exists the option to check the top compound hits for a given protein. This is accomplished via the `virtual_screen()` function. Let's test the top hits for two of the known bacterial proteins from above, namely \"1u2mC\", \"3atsA\". "
   ]
  },
  {
   "cell_type": "code",
   "execution_count": null,
   "metadata": {},
   "outputs": [],
   "source": [
    "cando.virtual_screen(\"1u2mC\")\n",
    "cando.virtual_screen(\"3atsA\")"
   ]
  },
  {
   "cell_type": "markdown",
   "metadata": {},
   "source": [
    "Streptozocin is the 3rd ranked hit for 1u2mC, which suggests it shares significant structural similarity to a ligand known/predicted to bind to this protein. Similarly, both kanamycin and streptomycin are tied for the top rank with a perfect score of 1.0 for 3atsA, which means both of those drugs are known or strongly predicted to bind to this protein. "
   ]
  },
  {
   "cell_type": "code",
   "execution_count": null,
   "metadata": {},
   "outputs": [],
   "source": []
  }
 ],
 "metadata": {
  "kernelspec": {
   "display_name": "Python 3",
   "language": "python",
   "name": "python3"
  },
  "language_info": {
   "codemirror_mode": {
    "name": "ipython",
    "version": 3
   },
   "file_extension": ".py",
   "mimetype": "text/x-python",
   "name": "python",
   "nbconvert_exporter": "python",
   "pygments_lexer": "ipython3",
   "version": "3.7.9"
  }
 },
 "nbformat": 4,
 "nbformat_minor": 2
}
