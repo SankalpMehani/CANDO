{
 "cells": [
  {
   "cell_type": "markdown",
   "metadata": {},
   "source": [
    "# CANDO Tutorial\n",
    "\n",
    "This notebook will walk you through how to generate a CANDO matrix, set up a CANDO object, probe the data, benchmark the platform, and make therapeutic predictions. \n",
    "\n",
    "## Introduction"
   ]
  },
  {
   "cell_type": "markdown",
   "metadata": {},
   "source": [
    "## Getting Started\n",
    "\n",
    "We begin by importing the cando package. Once cando has been imported we can pull the example mappings and matrix data for this tutorial, `cnd.get_tutorial()`. Lastly, for our set up, we define important variables that will be used throughout this tutorial. These variables will be explained as each becomes important for different functions."
   ]
  },
  {
   "cell_type": "code",
   "execution_count": 1,
   "metadata": {
    "scrolled": true
   },
   "outputs": [
    {
     "name": "stdout",
     "output_type": "stream",
     "text": [
      "Downloading data for tutorial...\n",
      "All data for tutorial downloaded.\n",
      "Downloading data for v2...\n",
      "All data for v2.0 downloaded.\n"
     ]
    }
   ],
   "source": [
    "import sys, os\n",
    "# import the cando package\n",
    "import cando as cnd\n",
    "\n",
    "# Pull data for this entire tutorial\n",
    "cnd.get_tutorial()\n",
    "cnd.get_v2()\n",
    "\n",
    "# Define variables for matrix generation and CANDO object creation\n",
    "matrix_file='example-matrix.tsv'\n",
    "cmpd_map='../v2.0/mappings/drugbank-approved.tsv'\n",
    "ind_map='../v2.0/mappings/ctd_2_drugbank.tsv'\n",
    "cmpd_scores='../v2.0/cmpds/scores/drugbank-approved-rd_ecfp4.tsv' # ~400MB, may take a while\n",
    "prot_scores='example-prots_scores.tsv'\n",
    "protein_set=\"example-bac-prots.txt\"\n",
    "dist_metric='rmsd'\n",
    "ncpus=3\n",
    "\n",
    "os.chdir(\"./examples\")"
   ]
  },
  {
   "cell_type": "markdown",
   "metadata": {},
   "source": [
    "## Generating interaction matrix\n",
    "\n",
    "<span style=\"color:red\">**This step is optional**</span> - The example interaction matrix, `matrix_file`, has already been downloaded via `get_tutorial()`. This function may take a few minutes.\n",
    "\n",
    "In this step we will generate a matrix of 2,162 drugs by 64 proteins, populated with the corresponding interaction score betwen each drug and protein. The final matrix will have drugs as the columns (indexed according to the compound mapping file), and proteins as the indices (indexed by PDB and chain ID).\n",
    "\n",
    "The function `generate_matrix()` first creates a dataframe for all tanimoto scores comparing each drug in our dataset (2,162) to every potential binding site ligand from the PDB, `cmpd_scores`. Next, it creates a dataframe of all potential binding sites for each protein in our dataset (example set = 64 proteins) with the corresponding binding site score, `prot_scores`. The function then iterates over all drugs and protein binding sites to populate the matrix with the best score based on the following input parameters: 1) `interaction_score` - the scoring protocol of choice, which can be 'C', 'dC', 'P', 'CxP', 'dCxP', where C is the Tanimoto score, dC is the percentile of the Tanimoto score for the compound, and P is binding site score from the [COACH algorithm](https://zhanglab.ccmb.med.umich.edu/COACH/), 2) `c_cutoff` and `p_cutoff` - set cutoffs which ignore any Tanimoto or binding site score below each threshold, respectively, and 3) `percentile_cutoff` - similar to `c_cutoff` but with the percentile of the Tanimoto score (overrides `c_cutoff` if not `None`). These scores represent how strongly each drug may potentially bind to each protein target. We then output the matrix to a tsv file, `matrix_file`.\n",
    "\n",
    "We will create a matrix using the 'C' protocol, which just chooses the top Tanimoto score to any ligand predicted to bind to a given protein, without any cutoffs. This function is parallelized, so setting the vairable `ncpus` will change the number of processors that are used for this function. NOTE: percentile cutoff protocols ('dC', 'dCxP') take much longer to compute than 'C' and 'P' protocols. "
   ]
  },
  {
   "cell_type": "code",
   "execution_count": 2,
   "metadata": {},
   "outputs": [
    {
     "name": "stdout",
     "output_type": "stream",
     "text": [
      "Compiling compound scores...\n",
      "Compiling binding site scores...\n",
      "Calculating interaction scores...\n",
      "Generating matrix...\n",
      "Matrix written to example-matrix.tsv.\n",
      "Matrix generation took 4 min 0 s to finish.\n"
     ]
    }
   ],
   "source": [
    "# generate example cando interaction matrix (2,162 drugs x 64 proteins)\n",
    "cnd.generate_matrix(matrix_file=matrix_file, cmpd_scores=cmpd_scores,\n",
    "                    prot_scores=prot_scores, interaction_score='C', ncpus=ncpus)"
   ]
  },
  {
   "cell_type": "markdown",
   "metadata": {},
   "source": [
    "## Setting up CANDO object\n",
    "\n",
    "1. First argument, `cmpd_map`, is the compound mapping which specifies all of the compounds in the matrix by name and ID.\n",
    "\n",
    "2. Second argument, `ind_map`, is the indication mapping which specifies which diseases the drugs/compounds are approved to treat.\n",
    "\n",
    "3. `matrix` is the cando interaction matrix file which contains the names of the proteins and the scores to all compounds. **This file must be in tsv format.**\n",
    "\n",
    "4. `compute_distance` tells the object to compute the distances between the compounds in the platform based on the similarity of their interactions with all of the proteins. The distance metric used, `dist_metric`, can be cosine, rmsd, or many other common distance metrics (default is rmsd). This can be relatively time consuming depending on the amount of proteins, but with proteins on the order of hundreds it shouldn't take longer than a minute or two. If the computation does take a while (let's say >100,000 proteins), you can add a `save_dists='name_of_dist_file.tsv'` flag to save the computation. Then, simply use the `read_dists='name_of_dist_file.tsv'` to read in the already computed RMSDs to save time. "
   ]
  },
  {
   "cell_type": "code",
   "execution_count": 3,
   "metadata": {},
   "outputs": [
    {
     "name": "stdout",
     "output_type": "stream",
     "text": [
      "Reading signatures from matrix...\n",
      "Done reading signatures.\n",
      "\n",
      "Computing rmsd distances...\n",
      "Done computing rmsd distances.\n",
      "\n"
     ]
    }
   ],
   "source": [
    "# create object using example cando interaction matrix\n",
    "# compute distances using rmsd distance metric\n",
    "cando = cnd.CANDO(cmpd_map, ind_map, matrix=matrix_file, compute_distance=True, \n",
    "                  dist_metric=dist_metric, ncpus=ncpus)"
   ]
  },
  {
   "cell_type": "markdown",
   "metadata": {},
   "source": [
    "### Check data\n",
    "The imported data from `get_tutorial()` contains the CANDO v2.0 mappings with a sample of 64 proteins (for simplicity sake). It should contain the v2.0 set of 2,162 drugs/compounds and 2,178 indications. Let's check to make sure this is the case. The `CANDO` object should automagically assign each compound its signature of 64 proteins. \n",
    "\n",
    "We can also search for compounds using a string input with `search_compound()`, in case you are unaware if the mapping file contains a compound of interest. Don't worry about exact spelling, it will output the top 5 (default) closest matches to your query. "
   ]
  },
  {
   "cell_type": "code",
   "execution_count": 4,
   "metadata": {},
   "outputs": [
    {
     "name": "stdout",
     "output_type": "stream",
     "text": [
      "compounds 2162\n",
      "indications 2178\n",
      "proteins 64\n",
      "\n",
      "id\tname\n",
      "0\tbivalirudin\n",
      "570\tlamivudine\n",
      "1748\tivabradine\n",
      "1102\ttelbivudine\n",
      "1508\tnilvadipine\n"
     ]
    }
   ],
   "source": [
    "# print cando object stats\n",
    "print('compounds', len(cando.compounds))\n",
    "print('indications', len(cando.indications))\n",
    "print('proteins', len(cando.proteins))\n",
    "print('')\n",
    "\n",
    "cando.search_compound('bilavarudin')"
   ]
  },
  {
   "cell_type": "markdown",
   "metadata": {},
   "source": [
    "Spelling was a bit off, but we found bivalirudin!\n",
    "\n",
    "Let's make sure bivalirudin has 64 values in its signature and take a look at the values themselves. We know its `id_` is 0 from searching. Depending on the scoring protocol used, the range/distribution of these values will vary.\n",
    "\n",
    "The `compute_distance` flag above tells the CANDO object to compute the RMSD between each compound on an all-vs-all basis. Let's check out the top5 most similar compounds to bivalirudin. The `Compound.similar` lists are part of the `Compound` objects and contain a tuple of every other compound object and its computed RMSD."
   ]
  },
  {
   "cell_type": "code",
   "execution_count": 5,
   "metadata": {},
   "outputs": [
    {
     "name": "stdout",
     "output_type": "stream",
     "text": [
      "bivalirudin 64\n",
      "[0.496, 0.482, 0.385, 0.061, 0.0, 0.11, 0.114, 0.375, 0.109, 0.102, 0.12, 0.418, 0.227, 0.0, 0.417, 0.146, 0.109, 0.129, 0.09, 0.099, 0.137, 0.109, 0.1, 0.109, 0.04, 0.133, 0.101, 0.19, 0.129, 0.077, 0.09, 0.571, 0.134, 0.202, 0.108, 0.408, 0.211, 0.0, 0.188, 0.432, 0.136, 0.116, 0.0, 0.0, 0.195, 0.535, 0.143, 0.232, 0.021, 0.056, 0.09, 0.102, 0.447, 0.114, 0.135, 0.01, 0.127, 0.188, 0.039, 0.096, 0.114, 0.214, 0.128, 0.405]\n",
      "\n",
      "goserelin 0.053\n",
      "gramicidin_d 0.07\n",
      "desmopressin 0.088\n",
      "cetrorelix 0.051\n",
      "daptomycin 0.086\n"
     ]
    }
   ],
   "source": [
    "# print bivalirudin signature\n",
    "c = cando.compounds[0]\n",
    "print(c.name, len(c.sig))\n",
    "print(c.sig)\n",
    "print('')\n",
    "\n",
    "# top5 most similar compounds to bivalirudin\n",
    "for s in c.similar[0:5]:\n",
    "    print(s[0].name, round(s[1], 3))"
   ]
  },
  {
   "cell_type": "markdown",
   "metadata": {},
   "source": [
    "## Canbenchmark\n",
    "An important part of CANDO is benchmarking how well we can recapture drugs known to treat the same dieases within their respective `Compound.similar` lists. Currently, our benchmarking code calculates three metrics:\n",
    "1. Average indication accuracy (aia) - this value is the average of every individual indication accuracy\n",
    "2. Average pairwise accuracy (apa) - this value is the weighted average of each individual indication accuracy based on the number of drugs approved to treat it\n",
    "3. Indication coverage (ic) - this is the count of the number of non-zero indication accuracies\n",
    "\n",
    "The higher the metric scores for a given matrix/compound-protein scoring protocol, the more confidence we will have in predictions made using it. \n",
    "\n",
    "An accuracy is calculated for each indication that has at least 2 compounds associated. To do this, we hold out each compound and look for any of the other approved compounds within a certain cutoff of the `Compound.similar` list for the held-out compound. The cutoffs are predetermined to be top10, top25, top50, and top100. There are also percent cutoffs that vary based on the number of compounds in the platform. So, for Indication-A with three drugs approved (D1, D2, and D3), we would hold out D1 and look for *either* D2 or D3 in the top10, top25, top50, and top100 compounds to D1. This would be repeated for D2 and D3. So let's say D3 was recaptured at rank 5 for D1, D1 was recaptured at rank 12 for D2, and D1 was recaptured at rank 27 for D3. The top10 average indication accuracy would be (1+0+0) / 3 == 33%, whereas the top25 would be (1+1+0) / 3 == 66%, and the top50 would be 100%. \n",
    "\n",
    "### Canbenchmark - classic\n",
    "Below is how to run the benchmarking code. The first argument of `canbenchmark()` is the extension to put on the output files (\"results_analysed_named\", \"raw_results\", and \"summary\"). "
   ]
  },
  {
   "cell_type": "code",
   "execution_count": 6,
   "metadata": {
    "scrolled": true
   },
   "outputs": [
    {
     "name": "stdout",
     "output_type": "stream",
     "text": [
      "\taia\n",
      "top10\t20.156\n",
      "top25\t26.906\n",
      "top50\t33.976\n",
      "top100\t43.034\n",
      "top2162\t100.000\n",
      "top1%\t25.155\n",
      "top5%\t44.260\n",
      "top10%\t55.990\n",
      "top50%\t87.256\n",
      "top100%\t100.000\n",
      "\n",
      "\n"
     ]
    }
   ],
   "source": [
    "cando.canbenchmark('example')"
   ]
  },
  {
   "cell_type": "markdown",
   "metadata": {},
   "source": [
    "Below is the printed summary file for the classic canbenchmark."
   ]
  },
  {
   "cell_type": "code",
   "execution_count": 7,
   "metadata": {},
   "outputs": [
    {
     "name": "stdout",
     "output_type": "stream",
     "text": [
      "\ttop10\ttop25\ttop50\ttop100\ttop2162\ttop1%\ttop5%\ttop10%\ttop50%\ttop100%\n",
      "aia\t20.156\t26.906\t33.976\t43.034\t100.000\t25.155\t44.260\t55.990\t87.256\t100.000\n",
      "apa\t35.109\t47.776\t59.571\t71.366\t100.000\t44.854\t72.526\t82.681\t97.166\t100.000\n",
      "ic\t792\t902\t984\t1084\t1570\t872\t1098\t1215\t1484\t1570\n",
      "\n"
     ]
    }
   ],
   "source": [
    "with open(\"summary-example.tsv\", 'r') as f:\n",
    "    for line in f:\n",
    "        print(line.strip('\\n'))"
   ]
  },
  {
   "cell_type": "markdown",
   "metadata": {},
   "source": [
    "### Canbenchmark - associated\n",
    "There are variations of the benchmarking code which may be of interest to some users. For example, not every compound in the mapping files are associated with a disease. This can decrease performance. We can have these compounds removed by running another benchmarking method called `canbenchmark_associated()`, which will automatically filter out these non-associated compounds. "
   ]
  },
  {
   "cell_type": "code",
   "execution_count": 8,
   "metadata": {},
   "outputs": [
    {
     "name": "stdout",
     "output_type": "stream",
     "text": [
      "Making CANDO copy with only benchmarking-associated compounds\n",
      "Reading signatures from matrix...\n",
      "Done reading signatures.\n",
      "\n",
      "Computing rmsd distances...\n",
      "Done computing rmsd distances.\n",
      "\n",
      "\taia\n",
      "top10\t22.845\n",
      "top25\t31.250\n",
      "top50\t39.102\n",
      "top100\t49.247\n",
      "top1403\t100.000\n",
      "top1%\t25.161\n",
      "top5%\t43.697\n",
      "top10%\t54.863\n",
      "top50%\t86.114\n",
      "top100%\t100.000\n",
      "\n",
      "\n"
     ]
    }
   ],
   "source": [
    "cando.canbenchmark_associated('example_associated')"
   ]
  },
  {
   "cell_type": "markdown",
   "metadata": {},
   "source": [
    "Below is the printed summary file for the associated canbenchmark."
   ]
  },
  {
   "cell_type": "code",
   "execution_count": 9,
   "metadata": {},
   "outputs": [
    {
     "name": "stdout",
     "output_type": "stream",
     "text": [
      "\ttop10\ttop25\ttop50\ttop100\ttop1403\ttop1%\ttop5%\ttop10%\ttop50%\ttop100%\n",
      "aia\t22.845\t31.250\t39.102\t49.247\t100.000\t25.161\t43.697\t54.863\t86.114\t100.000\n",
      "apa\t40.528\t55.030\t66.687\t77.173\t100.000\t44.716\t71.952\t81.874\t96.840\t100.000\n",
      "ic\t830\t957\t1043\t1150\t1570\t877\t1090\t1206\t1478\t1570\n",
      "\n"
     ]
    }
   ],
   "source": [
    "with open(\"summary-example_associated.tsv\", 'r') as f:\n",
    "    for line in f:\n",
    "        print(line.strip('\\n'))"
   ]
  },
  {
   "cell_type": "markdown",
   "metadata": {},
   "source": [
    "### Canbenchmark - continuous\n",
    "Yet another variation of our benchmarking is `continuous=True`. This method identifies percentiles for the compound distances which define our cutoffs. Rather than top10 compounds, we can define an RMSD cutoffs that will not punish a compound that may fall at rank 11, but is still very similar to the hold-out compound. These RMSD cutoffs are determined empirically. "
   ]
  },
  {
   "cell_type": "code",
   "execution_count": 10,
   "metadata": {
    "scrolled": true
   },
   "outputs": [
    {
     "name": "stdout",
     "output_type": "stream",
     "text": [
      "\taia\n",
      "0.1%ile\t10.476\n",
      ".25%ile\t13.654\n",
      "0.5%ile\t16.388\n",
      "1%ile\t19.809\n",
      "5%ile\t34.513\n",
      "10%ile\t43.077\n",
      "20%ile\t55.003\n",
      "33%ile\t66.618\n",
      "50%ile\t77.932\n",
      "100%ile\t100.000\n",
      "\n",
      "\n"
     ]
    }
   ],
   "source": [
    "cando.canbenchmark('example_continuous', continuous=True)"
   ]
  },
  {
   "cell_type": "markdown",
   "metadata": {},
   "source": [
    "Below is the printed summary file for the continuous canbenchmark."
   ]
  },
  {
   "cell_type": "code",
   "execution_count": 11,
   "metadata": {},
   "outputs": [
    {
     "name": "stdout",
     "output_type": "stream",
     "text": [
      "\t0.1%ile\t.25%ile\t0.5%ile\t1%ile\t5%ile\t10%ile\t20%ile\t33%ile\t50%ile\t100%ile\n",
      "aia\t10.476\t13.654\t16.388\t19.809\t34.513\t43.077\t55.003\t66.618\t77.932\t100.000\n",
      "apa\t15.535\t21.518\t26.916\t33.225\t53.550\t62.135\t72.223\t80.316\t87.515\t100.000\n",
      "ic\t566\t638\t690\t740\t932\t1030\t1155\t1279\t1391\t1570\n",
      "\n"
     ]
    }
   ],
   "source": [
    "with open('summary-example_continuous.tsv', 'r') as f:\n",
    "    for line in f:\n",
    "        print(line.strip('\\n'))"
   ]
  },
  {
   "cell_type": "markdown",
   "metadata": {},
   "source": [
    "## Canpredict\n",
    "\n",
    "An important part of CANDO is generating putative drug candidates for a specific disease and predicting indications for which added or current drugs in our library can be therapetuic. We can do this with the canpredict functions.\n",
    "\n",
    "### Canpredict - compounds\n",
    "Generating putative drug candidates for a specific disease is one way we may want to use the predictive power of our platform. For this, we use the `canpredict_compounds()` function, which basically uses a consensus method to rank putative compounds based on how many times they show up as similar to drugs approved to treat the disease within some cutoff. The default cutoff is 10 (the most stringent from benchmarking), but this can be varied. In its current implementation, `canpredict_compounds()` ranks compounds based on the consensus count and uses it's average rank as the tie-breaker. \n",
    "\n",
    "Let's make predictions for human immunodeficiency virus (HIV). First, let's search our indication database for the appropriate MeSH ID. "
   ]
  },
  {
   "cell_type": "code",
   "execution_count": 12,
   "metadata": {},
   "outputs": [
    {
     "name": "stdout",
     "output_type": "stream",
     "text": [
      "Matches exactly containing HIV:\n",
      "id             \tname\n",
      "MESH:D015658\tHIV Infections\n",
      "MESH:D006679\tHIV Seropositivity\n",
      "MESH:D019247\tHIV Wasting Syndrome\n",
      "MESH:D039682\tHIV-Associated Lipodystrophy Syndrome\n",
      "\n",
      "Matches using string distance:\n",
      "id             \tname\n",
      "MESH:D015658\tHIV Infections\n"
     ]
    }
   ],
   "source": [
    "cando.search_indication('HIV')"
   ]
  },
  {
   "cell_type": "markdown",
   "metadata": {},
   "source": [
    "The one we want is \"HIV Infections\" with an `id_` of \"MESH:D015658\". This is the input for `canpredict_compounds()`, but first let's see more about this indication. We "
   ]
  },
  {
   "cell_type": "code",
   "execution_count": 13,
   "metadata": {},
   "outputs": [
    {
     "name": "stdout",
     "output_type": "stream",
     "text": [
      "Number of drugs associated with HIV Infections: 32\n",
      "128\tnevirapine\n",
      "570\tlamivudine\n",
      "599\tpentamidine\n",
      "369\tzidovudine\n",
      "855\thydroxyurea\n",
      "579\tadefovir_dipivoxil\n",
      "513\tstavudine\n",
      "755\tdidanosine\n",
      "918\tatazanavir\n",
      "567\tdelavirdine\n",
      "896\tabacavir\n",
      "795\tzalcitabine\n",
      "670\tribavirin\n",
      "398\tfoscarnet\n",
      "377\tritonavir\n",
      "1257\tdeferasirox\n",
      "1570\traltegravir\n",
      "564\tamprenavir\n",
      "1469\tetravirine\n",
      "1350\tmaraviroc\n",
      "889\tthalidomide\n",
      "1123\tfosamprenavir\n",
      "114\tindinavir\n",
      "803\tisoniazid\n",
      "1071\tsaquinavir\n",
      "1249\tlopinavir\n",
      "55\tvitamin_a\n",
      "110\tnelfinavir\n",
      "297\tmiglustat\n",
      "489\tefavirenz\n",
      "219\tmethadone\n",
      "1526\tbeta_carotene\n"
     ]
    }
   ],
   "source": [
    "hiv = cando.get_indication(\"MESH:D015658\")\n",
    "print('Number of drugs associated with {}: {}'.format(hiv.name, len(hiv.compounds)))\n",
    "for cmpd in hiv.compounds:\n",
    "    print('{}\\t{}'.format(cmpd.id_, cmpd.name))"
   ]
  },
  {
   "cell_type": "markdown",
   "metadata": {},
   "source": [
    "There are 32 drugs associated with HIV Infections, which makes sense given how well-studied it is as a disease. Most seem to be protease inhibitors (saquinavir, fosamprenavir) or nucleoside analogs (zalcitabine, didanosine). \n",
    "\n",
    "We can now make predictions for other drugs/compounds that may be useful against HIV. This list is very long due to the large amount of drugs approved to treat HIV, so we should look at only the top10 (default) by setting `n=10`. We will also only print the first 10 compounds (`topX=10`)."
   ]
  },
  {
   "cell_type": "code",
   "execution_count": 14,
   "metadata": {},
   "outputs": [
    {
     "name": "stdout",
     "output_type": "stream",
     "text": [
      "32 compounds found for MESH:D015658 --> HIV Infections\n",
      "Generating compound predictions using top10 most similar compounds...\n",
      "\n",
      "rank\tscore1\tscore2\tid\tapproved\tname\n",
      "1\t5\t5.8\t736\ttrue    \temtricitabine\n",
      "2\t4\t2.0\t1101\ttrue    \tdarunavir\n",
      "3\t4\t2.2\t310\ttrue    \ttrifluridine\n",
      "4\t4\t3.0\t1732\ttrue    \tcobicistat\n",
      "5\t4\t3.5\t209\ttrue    \tfloxuridine\n",
      "6\t4\t4.2\t1660\ttrue    \tsofosbuvir\n",
      "7\t4\t5.0\t139\ttrue    \tidoxuridine\n",
      "8\t3\t3.3\t318\ttrue    \tgemcitabine\n",
      "9\t3\t3.7\t1409\ttrue    \ttelaprevir\n",
      "10\t3\t3.7\t854\ttrue    \tganciclovir\n",
      "\n",
      "\n"
     ]
    }
   ],
   "source": [
    "cando.canpredict_compounds(\"MESH:D015658\", n=10, topX=10)"
   ]
  },
  {
   "cell_type": "markdown",
   "metadata": {},
   "source": [
    "Perhaps using the top10 compounds is not encompassing enough. Let's change it to top25 (n=25) and see if the predictions change. We will still print the first 10 compounds."
   ]
  },
  {
   "cell_type": "code",
   "execution_count": 15,
   "metadata": {},
   "outputs": [
    {
     "name": "stdout",
     "output_type": "stream",
     "text": [
      "32 compounds found for MESH:D015658 --> HIV Infections\n",
      "Generating compound predictions using top25 most similar compounds...\n",
      "\n",
      "rank\tscore1\tscore2\tid\tapproved\tname\n",
      "1\t7\t14.7\t319\ttrue    \tentecavir\n",
      "2\t7\t18.9\t10\ttrue    \tpyridoxal_phosphate\n",
      "3\t6\t7.5\t1732\ttrue    \tcobicistat\n",
      "4\t6\t7.8\t736\ttrue    \temtricitabine\n",
      "5\t6\t10.0\t1660\ttrue    \tsofosbuvir\n",
      "6\t6\t13.2\t253\ttrue    \tcidofovir\n",
      "7\t6\t17.5\t1721\ttrue    \ttedizolid_phosphate\n",
      "8\t5\t3.6\t1101\ttrue    \tdarunavir\n",
      "9\t5\t7.8\t646\ttrue    \taciclovir\n",
      "10\t5\t9.2\t206\ttrue    \tpiperacillin\n",
      "\n",
      "\n"
     ]
    }
   ],
   "source": [
    "cando.canpredict_compounds(\"MESH:D015658\", n=25, topX=10)"
   ]
  },
  {
   "cell_type": "markdown",
   "metadata": {},
   "source": [
    "We can show more results by changing the `topX` parameter. Let's print 25. \n",
    "\n",
    "We can also show the compounds that are already approved for 'HIV Infections' - indicated by an asterisk in the 'approved' column, by changing the `keep_associated` parameter to `True`. In this case, we recaptured associated therapies abacavir and amprenavir. \n",
    "\n",
    "<span style=\"color:red\">(Note: this function is heavily reliant on the input indication mapping.)</span>"
   ]
  },
  {
   "cell_type": "code",
   "execution_count": 16,
   "metadata": {},
   "outputs": [
    {
     "name": "stdout",
     "output_type": "stream",
     "text": [
      "32 compounds found for MESH:D015658 --> HIV Infections\n",
      "Generating compound predictions using top25 most similar compounds...\n",
      "\n",
      "rank\tscore1\tscore2\tid\tapproved\tname\n",
      "1\t7\t14.7\t319\ttrue    \tentecavir\n",
      "2\t7\t18.9\t10\ttrue    \tpyridoxal_phosphate\n",
      "3\t6\t7.5\t1732\ttrue    \tcobicistat\n",
      "4\t6\t7.8\t736\ttrue    \temtricitabine\n",
      "5\t6\t10.0\t1660\ttrue    \tsofosbuvir\n",
      "6\t6\t13.2\t253\ttrue    \tcidofovir\n",
      "7\t6\t16.3\t896\ttrue*   \tabacavir\n",
      "8\t6\t17.5\t1721\ttrue    \ttedizolid_phosphate\n",
      "9\t5\t3.6\t1101\ttrue    \tdarunavir\n",
      "10\t5\t7.8\t646\ttrue    \taciclovir\n",
      "11\t5\t9.2\t206\ttrue    \tpiperacillin\n",
      "12\t5\t11.2\t854\ttrue    \tganciclovir\n",
      "13\t5\t11.4\t1623\ttrue    \tboceprevir\n",
      "14\t5\t12.4\t524\ttrue    \tmetaxalone\n",
      "15\t5\t12.8\t1792\ttrue    \tsonidegib\n",
      "16\t5\t13.8\t766\ttrue    \trepaglinide\n",
      "17\t5\t17.4\t946\ttrue    \tcapecitabine\n",
      "18\t5\t18.8\t1555\ttrue    \tmangafodipir\n",
      "19\t4\t2.2\t310\ttrue    \ttrifluridine\n",
      "20\t4\t3.0\t564\ttrue*   \tamprenavir\n",
      "\n",
      "\n"
     ]
    }
   ],
   "source": [
    "cando.canpredict_compounds(\"MESH:D015658\", n=25, topX=20, \n",
    "                           keep_associated=True)"
   ]
  },
  {
   "cell_type": "markdown",
   "metadata": {},
   "source": [
    "## Canpredict - de novo\n",
    "\n",
    "Sometimes there are no drugs associated with an indication (whether it be in reality or in your input indication mapping); in those cases we can use the `canpredict_denovo()` function to suggest putative candidates. Basically, this function counts/sums the number of protein interaction scores above a set threshold for each compound and ranks them according to frequency and strength. This is particularly useful for pathogen proteomes (like SARS-CoV-2 or bacterial proteomes) or for finding which compounds target a subset of proteins of interest (e.g. kinases). In our case, we have a diverse set of proteins, which would render the results meaningless. Instead, we can input a list of protein IDs in which we are interested. We have precompiled a list of bacterial proteins already present in the sample matrix for convenience. Note: if we had read in an indication-genes mapping file, we could use the `ind_id=` parameter to automatically select all proteins associated with said indication. "
   ]
  },
  {
   "cell_type": "code",
   "execution_count": 17,
   "metadata": {},
   "outputs": [
    {
     "name": "stdout",
     "output_type": "stream",
     "text": [
      "Printing the 45 highest predicted compounds...\n",
      "\n",
      "rank\tscore1\tscore2\tid\tapproved\tname\n",
      "1\t5\t4.438\t25\ttrue    \tadenosine_monophosphate\n",
      "2\t4\t4.0\t1920\ttrue    \tmagnesium_chloride\n",
      "3\t4\t4.0\t1162\ttrue    \tmagnesium\n",
      "4\t4\t3.034\t504\ttrue    \tadenosine\n",
      "5\t4\t3.034\t85\ttrue    \tvidarabine\n",
      "6\t4\t2.737\t50\ttrue    \tnadh\n",
      "7\t2\t2.0\t2006\ttrue    \tsodium_sulfide\n",
      "8\t2\t2.0\t1982\ttrue    \tsodium_iodide\n",
      "9\t2\t2.0\t1801\ttrue    \tsodium_chloride\n",
      "10\t1\t1.0\t2021\ttrue    \tferrous_bisglycinate\n",
      "11\t1\t1.0\t2018\ttrue    \tmagnesium_glycinate\n",
      "12\t1\t1.0\t1959\ttrue    \tcholine_c-11\n",
      "13\t1\t1.0\t1950\ttrue    \tsodium_ferric_gluconate_complex\n",
      "14\t1\t1.0\t1862\ttrue    \tcholine_c_11\n",
      "15\t1\t1.0\t1795\ttrue    \tiron_saccharate\n",
      "16\t1\t1.0\t1757\ttrue    \tchlortetracycline\n",
      "17\t1\t1.0\t1566\ttrue    \tpolidocanol\n",
      "18\t1\t1.0\t1301\ttrue    \tsucrose\n",
      "19\t1\t1.0\t1242\ttrue    \tzinc\n",
      "20\t1\t1.0\t1160\ttrue    \tcalcium\n",
      "21\t1\t1.0\t1074\ttrue    \tlevodopa\n",
      "22\t1\t1.0\t1013\ttrue    \tkanamycin\n",
      "23\t1\t1.0\t927\ttrue    \tstreptomycin\n",
      "24\t1\t1.0\t665\ttrue    \tpentoxifylline\n",
      "25\t1\t1.0\t49\ttrue    \tl-threonine\n",
      "26\t1\t1.0\t39\ttrue    \tglycine\n",
      "27\t1\t1.0\t36\ttrue    \tglutamic_acid\n",
      "28\t1\t1.0\t27\ttrue    \tserine\n",
      "29\t1\t1.0\t22\ttrue    \tl-aspartic_acid\n",
      "30\t1\t1.0\t18\ttrue    \tl-lysine\n",
      "31\t1\t1.0\t17\ttrue    \tcholine\n",
      "32\t1\t0.842\t23\ttrue    \tornithine\n",
      "33\t1\t0.828\t807\ttrue    \tnetilmicin\n",
      "34\t1\t0.795\t502\ttrue    \tinulin\n",
      "35\t1\t0.78\t2131\ttrue    \tinosine_pranobex\n",
      "36\t1\t0.78\t1331\ttrue    \tinosine\n",
      "37\t1\t0.773\t547\ttrue    \ttobramycin\n",
      "38\t1\t0.763\t329\ttrue    \tclomocycline\n",
      "39\t1\t0.744\t1768\ttrue    \tcolfosceril_palmitate\n",
      "40\t1\t0.737\t838\ttrue    \tcytarabine\n",
      "41\t1\t0.711\t1315\ttrue    \tribostamycin\n",
      "42\t1\t0.704\t783\ttrue    \tmethacycline\n",
      "43\t1\t0.704\t144\ttrue    \tdoxycycline\n",
      "44\t1\t0.696\t620\ttrue    \ttetracycline\n",
      "45\t1\t0.695\t657\ttrue    \tgentamicin\n"
     ]
    }
   ],
   "source": [
    "bacterial_proteins = [\"3mk7C\", \"3eziA\", \"1u2mC\", \"3atsA\", \"2x4mA\", \n",
    "                      \"4wliA\", \"1t4aA\", \"4zxkA\", \"1zhhA\", \"1eb0A\", \n",
    "                      \"4nqwB\", \"2gqrA\", \"2qlcA\", \"3rf1A\", \"2xpwA\"]\n",
    "\n",
    "cando.canpredict_denovo(method='count', threshold=0.6, topX=45, proteins=bacterial_proteins)"
   ]
  },
  {
   "cell_type": "markdown",
   "metadata": {},
   "source": [
    "Interestingly, multiple antibiotics receive scores higher than the cutoff of 0.6, including **kanamycin, streptomycin, netilmicin, doxycycline**, among others. "
   ]
  },
  {
   "cell_type": "markdown",
   "metadata": {},
   "source": [
    "### Canpredict - indications\n",
    "\n",
    "\n",
    "Below we print the first 10 indications predicted for Paromomycin using the top10 most similar compounds. Again, this tallies how many times specific diseases show up as associated with the top10 most similar compounds to paromomycin. "
   ]
  },
  {
   "cell_type": "code",
   "execution_count": 18,
   "metadata": {},
   "outputs": [
    {
     "name": "stdout",
     "output_type": "stream",
     "text": [
      "Using CANDO compound paromomycin\n",
      "Compound has id 1191 and index 1191\n",
      "Comparing signature to all CANDO compound signatures...\n",
      "Generating indication predictions using top10 most similar compounds...\n",
      "Printing the 10 highest predicted indications...\n",
      "\n",
      "rank\tscore\tind_id    \tindication\n",
      "1\t4\tMESH:D004927\tEscherichia coli Infections\n",
      "2\t4\tMESH:D008581\tMeningitis\n",
      "3\t3\tMESH:D004697\tEndocarditis, Bacterial\n",
      "4\t3\tMESH:D007710\tKlebsiella Infections\n",
      "5\t3\tMESH:D011014\tPneumonia\n",
      "6\t3\tMESH:D018805\tSepsis\n",
      "7\t3\tMESH:D013203\tStaphylococcal Infections\n",
      "8\t3\tMESH:D014376\tTuberculosis\n",
      "9\t3\tMESH:D014552\tUrinary Tract Infections\n",
      "10\t3\tMESH:D011512\tProteus Infections\n",
      "\n"
     ]
    }
   ],
   "source": [
    "cando.canpredict_indications(cando.compounds[1191], \n",
    "                             n=10, topX=10)"
   ]
  },
  {
   "cell_type": "markdown",
   "metadata": {},
   "source": [
    "Not surprisingly, all of the predictions are infections of some sort (aka: most antibiotics share a great deal of structural similarity with each other). "
   ]
  },
  {
   "cell_type": "markdown",
   "metadata": {},
   "source": [
    "### Similar compounds\n",
    "`similar_compounds()` prints the first `n` most similar compounds for a given compound. This, like `canpredict_indications()` can be used with cando compounds, `cando_cmpd`, or novel compounds with a signature file (we will explore this later).\n",
    "\n",
    "Below we print the first 10 most similar compounds to Paromomycin."
   ]
  },
  {
   "cell_type": "code",
   "execution_count": 19,
   "metadata": {},
   "outputs": [
    {
     "name": "stdout",
     "output_type": "stream",
     "text": [
      "Using CANDO compound paromomycin\n",
      "Compound has id 1191 and index 1191\n",
      "Comparing signature to all CANDO compound signatures...\n",
      "Printing top10 most similar compounds...\n",
      "\n",
      "rank\tdist\tid\tname\n",
      "1\t0.010\t328\tframycetin\n",
      "2\t0.018\t1315\tribostamycin\n",
      "3\t0.036\t353\tamikacin\n",
      "4\t0.039\t547\ttobramycin\n",
      "5\t0.046\t2130\tesculin\n",
      "6\t0.052\t1013\tkanamycin\n",
      "7\t0.052\t2036\tpolydatin\n",
      "8\t0.052\t1492\tarbekacin\n",
      "9\t0.056\t2125\tcalcium_glubionate\n",
      "10\t0.060\t927\tstreptomycin\n",
      "11\t0.060\t173\tacarbose\n",
      "\n",
      "\n"
     ]
    }
   ],
   "source": [
    "cando.similar_compounds(cando.compounds[1191], n=10)"
   ]
  },
  {
   "cell_type": "markdown",
   "metadata": {},
   "source": [
    "As expected, most compounds are known antibiotics. "
   ]
  },
  {
   "cell_type": "markdown",
   "metadata": {},
   "source": [
    "## Machine learning with CANDO\n",
    "The \"proteomic vectors\" within CANDO lend themselves well to machine learning to perhaps learn more complex relationships between the proteins within the vector and their impacts on the treatment of diseases. CANDO has built-in ML algorithms that allow for two main functionalities:\n",
    "1. Benchmark the platform using a hold-one-out protocol very similar to canbenchmark\n",
    "2. Make predictions for novel or non-associated compounds that may be therapeutic for a given disease\n",
    "\n",
    "The ML module currently supports 2 algorithms: random forests and logistic regression. The models are trained on drugs approved for the disease (positive classes) and an equal number of randomly selected \"neutral samples\", which are drugs/compounds not approved for the disease (negative samples). Random seeds may be set to ensure the same compounds are used in training. \n",
    "\n",
    "### ML - benchmark\n",
    "We have the option to benchmark the platform with an ML algorithm - this module outputs files very similar to canbenchmark. For this tutorial, we will skip this function as it requires a great deal of time to complete (training a separate model for EVERY drug-disease association, basically). The command to do so with a logistic regression classifier is below, feel free to run it! The `'out='` flag defines the name of the output files. Again, only diseases with 2+ compounds associated are benchmarked. \n",
    "\n",
    "`cnd.ml(method='rf', benchmark=True, seed=50, out='test_rf')`\n",
    "\n",
    "### ML - predict\n",
    "We can also use this module to predict if a certain compound may be therapeutic for a given disease. We can use the \n",
    "`'predict='` flag to specify a list of compounds that we wish to predict with the classifier. Let's use three drugs, imatinib, buprenorphine, and lisdexamfetamine, and see if they are predicted to have antibiotic activity using a random forest classifier. "
   ]
  },
  {
   "cell_type": "code",
   "execution_count": 20,
   "metadata": {},
   "outputs": [
    {
     "name": "stdout",
     "output_type": "stream",
     "text": [
      "Indication: Bacterial Infections\n",
      "Leave-one-out cross validation: TP=36, FP=55, FN=19, TN=0, Acc=32.727\n",
      "\tCompound\tProb\n",
      "\timatinib\t0.190\n",
      "\tbuprenorphine\t0.640\n",
      "\tlisdexamfetamine\t0.130\n"
     ]
    }
   ],
   "source": [
    "baci = cando.get_indication('MESH:D001424')\n",
    "\n",
    "imat = cando.get_compound(483)\n",
    "bup = cando.get_compound(775)\n",
    "lamf = cando.get_compound(1094)\n",
    "\n",
    "cando.ml(method='rf', effect=baci, benchmark=False, seed=50, predict=[imat, bup, lamf])"
   ]
  },
  {
   "cell_type": "markdown",
   "metadata": {},
   "source": [
    "## Custom protein subsets and signatures\n",
    "It may be useful for some users to probe compound-protein interaction similarity, but only in the context of a few particular proteins (e.g. set of kinase inhibitors). Instead of generating a new matrix with all of these proteins and their corresponding interaction values, which can begin to take up a lot of storage if done multiple times, the `'protein_set='` flag can be specified during the instantiation of the CANDO object. This flag contains the path to the protein subset the user wishes to use, which is simply a list of UniProt protein IDs. The CANDO object will automatically check for each ID if it either simply matches any UniProt IDs within the matrix or if that UniProt ID is associated with any PDB chains within the matrix (based on a mapping from the SIFTs project). If there are matches, the CANDO object will now contain Compound objects with only those protein interaction values in their signatures. Below is how to use this functionality - this time we can search for the bacterial proteins from the previous `canpredict_denovo()` section, but filter the proteins from the start using a list of UniProt IDs. "
   ]
  },
  {
   "cell_type": "code",
   "execution_count": 21,
   "metadata": {},
   "outputs": [
    {
     "name": "stdout",
     "output_type": "stream",
     "text": [
      "Reading signatures from matrix...\n",
      "Editing signatures according to proteins in example-bac-prots.txt...\n",
      "15 proteins in example-bac-prots.txt mapped to 15 proteins in example-matrix.tsv.\n",
      "Done reading signatures.\n",
      "\n",
      "Computing rmsd distances...\n",
      "Done computing rmsd distances.\n",
      "\n",
      "Number of proteins in new signature = 15\n"
     ]
    }
   ],
   "source": [
    "cando_subset = cnd.CANDO(cmpd_map, ind_map, matrix=matrix_file, \n",
    "                         compute_distance=True, protein_set=protein_set,\n",
    "                         dist_metric=dist_metric, ncpus=ncpus)\n",
    "\n",
    "print(\"Number of proteins in new signature =\", len(cando_subset.proteins))"
   ]
  },
  {
   "cell_type": "markdown",
   "metadata": {},
   "source": [
    "The signature was successfully edited to 15 proteins. Note: this does not nececessarily mean the each UniProt ID had a corresponding PDB match -- multiple PDB chains can be associated with a given UniProt ID. \n",
    "\n",
    "We can also repeat all benchmarks and predictive algorithms with the new signatures. Below is the default benchmarking results with the new signatures. "
   ]
  },
  {
   "cell_type": "code",
   "execution_count": 22,
   "metadata": {},
   "outputs": [
    {
     "name": "stdout",
     "output_type": "stream",
     "text": [
      "\taia\n",
      "top10\t17.070\n",
      "top25\t24.055\n",
      "top50\t30.694\n",
      "top100\t40.226\n",
      "top2162\t100.000\n",
      "top1%\t22.414\n",
      "top5%\t41.363\n",
      "top10%\t53.126\n",
      "top50%\t87.278\n",
      "top100%\t100.000\n",
      "\n",
      "\n"
     ]
    }
   ],
   "source": [
    "cando_subset.canbenchmark('test_subset')"
   ]
  },
  {
   "cell_type": "markdown",
   "metadata": {},
   "source": [
    "Let's repeat the ML code from above, but this time let's use logistic regression. "
   ]
  },
  {
   "cell_type": "code",
   "execution_count": 23,
   "metadata": {},
   "outputs": [
    {
     "name": "stdout",
     "output_type": "stream",
     "text": [
      "Indication: Bacterial Infections\n",
      "Leave-one-out cross validation: TP=37, FP=55, FN=18, TN=0, Acc=33.636\n",
      "\tCompound\tProb\n",
      "\timatinib\t0.514\n",
      "\tbuprenorphine\t0.533\n",
      "\tlisdexamfetamine\t0.400\n"
     ]
    }
   ],
   "source": [
    "baci = cando_subset.get_indication('MESH:D001424')\n",
    "\n",
    "imat = cando_subset.get_compound(483)\n",
    "bup = cando_subset.get_compound(775)\n",
    "lamf = cando_subset.get_compound(1094)\n",
    "\n",
    "cando_subset.ml(method='log', effect=baci, benchmark=False, \n",
    "                seed=50, predict=[imat, bup, lamf])"
   ]
  },
  {
   "cell_type": "markdown",
   "metadata": {},
   "source": [
    "As you can see, the output probabilities significantly change for the three test compounds (imatinib: 0.190->0.514,\n",
    "\tbuprenorphine: 0.640->0.533, lisdexamfetamine: 0.130->0.400), as well as a slight change in performance (Acc: 32.7->33.6), illustrating the impact of protein subset composition on model training. "
   ]
  },
  {
   "cell_type": "markdown",
   "metadata": {},
   "source": [
    "## Generate proteomic signatures for new compounds \n",
    "\n",
    "The CANDO platform contains an extensive library of approved drugs (2,162) and other compounds (additional 6,590) from DrugBank. However, if you wish to predict indications or similar drugs for a compound that is not present in our library, we make it possible with the following series of functions.\n",
    "\n",
    "First, you must have the compound properly formatted in PDB file format. There are many programs that provide conversion among many chemical file formats if you require, such as OpenBabel.\n",
    "\n",
    "Next, you can run the `generate_scores()` function. This will populate a tsv file with tanimoto similarity scores (jaccard index) of the provided compound to all binding site ligands in our database. These values will be used for the generation of the drug-proteome signature. The fingerprint used for tanimoto score will be defined by the input for variable 'fp'. The default for this is \"rd_ecfp4\". The tsv file will be saved with the name you provide in cmpd_id (e.g. cmpd_id=7561; \"7561.tsv\") and it will be saved in the directory provided as the out_path along with the fingerprint defined (e.g. out_path=\"examples\"; \"examples/rd_ecfp4/7561.tsv\"). Any novel compound structure file should be named in the format `####.pdb` such as 1000.pdb or 25.pdb. The output of `generate_scores()` is within the directory named for the fingerprint method used (e.g. \"rd_ecfp4/\") and is named in the format `####_scores.tsv` (e.g. 1000_scores.tsv). \n",
    "\n",
    "Next, `generate_signature()` is called which creates a file with the interaction scores against all proteins in the `prot_scores` input file. It is saved in a format similar to `generate_scores()` (e.g. 1000_signature.tsv). NOTE: the interaction score protocol must match the input matrix protocol, which was 'C' as above. If we used a different protocol, these scores would not be directly comparable. "
   ]
  },
  {
   "cell_type": "code",
   "execution_count": 24,
   "metadata": {},
   "outputs": [
    {
     "name": "stdout",
     "output_type": "stream",
     "text": [
      "Downloading ligand fingerprints for rd_ecfp4...\n"
     ]
    },
    {
     "name": "stderr",
     "output_type": "stream",
     "text": [
      "/Users/williammangione/Documents/CANDO/cando/v2.0/ligands_fps/rd_ecfp4.tsv [164.5 MB] [] [Time:  0:06:47] \n"
     ]
    },
    {
     "name": "stdout",
     "output_type": "stream",
     "text": [
      "Ligand fingerprints downloaded.\n",
      "Generating rd_ecfp4 fingerprints and scores...\n",
      "Calculating tanimoto scores for compound 8100 against all binding site ligands...\n",
      "Tanimoto scores written to ./rd_ecfp4/8100_scores.tsv\n",
      "\n",
      "Compiling compound scores...\n",
      "Compiling binding site scores...\n",
      "Generating interaction signature...\n",
      "8100\n",
      "Signature written to 8100_signature.tsv.\n",
      "Signature generation took 0 s to finish.\n"
     ]
    }
   ],
   "source": [
    "cnd.generate_scores(fp=\"rd_ecfp4\", cmpd_pdb=\"8100.pdb\", \n",
    "                    out_path=\".\")\n",
    "cnd.generate_signature(cmpd_scores=\"rd_ecfp4/8100_scores.tsv\",\n",
    "                       prot_scores=prot_scores, interaction_score='C')"
   ]
  },
  {
   "cell_type": "markdown",
   "metadata": {},
   "source": [
    "We then must add the compound to the existing `CANDO` object with the `add_cmpd()` function. The inputs are the newly generated signature file and the desired name (which below is \"scy-635\"). "
   ]
  },
  {
   "cell_type": "code",
   "execution_count": 25,
   "metadata": {},
   "outputs": [
    {
     "name": "stdout",
     "output_type": "stream",
     "text": [
      "New compound is scy-635\n",
      "New compound has id 2162 and index 2162\n"
     ]
    },
    {
     "data": {
      "text/plain": [
       "<cando.cando.Compound at 0x136160d50>"
      ]
     },
     "execution_count": 25,
     "metadata": {},
     "output_type": "execute_result"
    }
   ],
   "source": [
    "cando.add_cmpd(\"8100_signature.tsv\", 'scy-635')"
   ]
  },
  {
   "cell_type": "markdown",
   "metadata": {},
   "source": [
    "Now that our new compound is added to the platform, we can see what other compounds to which it is similar. We can use the `similar_compounds()` function from before to print those compounds. "
   ]
  },
  {
   "cell_type": "code",
   "execution_count": 27,
   "metadata": {},
   "outputs": [
    {
     "name": "stdout",
     "output_type": "stream",
     "text": [
      "Using CANDO compound scy-635\n",
      "Compound has id 2162 and index 2162\n",
      "Comparing signature to all CANDO compound signatures...\n",
      "Printing top10 most similar compounds...\n",
      "\n",
      "rank\tdist\tid\tname\n",
      "1\t0.020\t6\tcyclosporine\n",
      "2\t0.021\t2154\tglecaprevir\n",
      "3\t0.022\t2064\tasunaprevir\n",
      "4\t0.023\t1741\tedoxaban\n",
      "5\t0.023\t2102\tvoxilaprevir\n",
      "6\t0.023\t1454\tudenafil\n",
      "7\t0.023\t1129\tcefazolin\n",
      "8\t0.024\t1460\tsimeprevir\n",
      "9\t0.024\t1712\tledipasvir\n",
      "10\t0.024\t1132\tcefotetan\n",
      "11\t0.024\t1864\tfimasartan\n",
      "\n",
      "\n"
     ]
    }
   ],
   "source": [
    "scy635 = cando.get_compound(2162)\n",
    "cando.similar_compounds(scy635, n=10)"
   ]
  },
  {
   "cell_type": "markdown",
   "metadata": {},
   "source": [
    "Given that scy-635 is a cyclosporine analog, this is an expected and good result as cyclosporine shows up at rank 1.\n",
    "\n",
    "Finally, we can predict potential indications for which our new compound may be useful. Since cyclosporine is a known immunosuppressant, we should expect to find autoimmune or inflammatory indications. We can use the `canpredict_indications()` as before to print those results. "
   ]
  },
  {
   "cell_type": "code",
   "execution_count": 29,
   "metadata": {},
   "outputs": [
    {
     "name": "stdout",
     "output_type": "stream",
     "text": [
      "Using CANDO compound scy-635\n",
      "Compound has id 2162 and index 2162\n",
      "Comparing signature to all CANDO compound signatures...\n",
      "Generating indication predictions using top10 most similar compounds...\n",
      "Printing the 10 highest predicted indications...\n",
      "\n",
      "rank\tscore\tind_id    \tindication\n",
      "1\t3\tMESH:D006526\tHepatitis C\n",
      "2\t2\tMESH:D010019\tOsteomyelitis\n",
      "3\t2\tMESH:D019698\tHepatitis C, Chronic\n",
      "4\t1\tMESH:D058186\tAcute Kidney Injury\n",
      "5\t1\tMESH:D000741\tAnemia, Aplastic\n",
      "6\t1\tMESH:D000744\tAnemia, Hemolytic, Autoimmune\n",
      "7\t1\tMESH:D001169\tArthritis, Experimental\n",
      "8\t1\tMESH:D001172\tArthritis, Rheumatoid\n",
      "9\t1\tMESH:D001327\tAutoimmune Diseases\n",
      "10\t1\tMESH:D001528\tBehcet Syndrome\n",
      "\n"
     ]
    }
   ],
   "source": [
    "cando.canpredict_indications(scy635, n=10, topX=10)"
   ]
  },
  {
   "cell_type": "markdown",
   "metadata": {},
   "source": [
    "Interestingly, hepatitis C is the strongest hit, which is a good result given it is [currently being investigated as a potential treatment for Hep C](https://www.drugbank.ca/drugs/DB12451). "
   ]
  },
  {
   "cell_type": "markdown",
   "metadata": {
    "collapsed": true
   },
   "source": [
    "## Virtual screening in CANDO\n",
    "Though the CANDO platform is mainly intended for multitarget drug discovery and repurposing, there still exists the option to check the top compound hits for a given protein. This is accomplished via the `virtual_screen()` function. Let's test the top hits for two of the known bacterial proteins from above, namely \"1u2mC\", \"3atsA\". "
   ]
  },
  {
   "cell_type": "code",
   "execution_count": 32,
   "metadata": {},
   "outputs": [
    {
     "name": "stdout",
     "output_type": "stream",
     "text": [
      "Protein is 1u2mC\n",
      "rank\tscore\tid\tapproved\tname\n",
      "1\t0.759\t25\ttrue    \tadenosine_monophosphate\n",
      "2\t0.676\t50\ttrue    \tnadh\n",
      "3\t0.649\t306\ttrue    \tstreptozocin\n",
      "4\t0.618\t504\ttrue    \tadenosine\n",
      "5\t0.618\t85\ttrue    \tvidarabine\n",
      "6\t0.548\t1306\ttrue    \tflavin_adenine_dinucleotide\n",
      "7\t0.525\t1602\ttrue    \thyaluronic_acid\n",
      "8\t0.517\t1336\ttrue    \tgluconolactone\n",
      "9\t0.5\t1334\ttrue    \tlactose\n",
      "10\t0.493\t13\ttrue    \tademetionine\n",
      "\n",
      "Protein is 3atsA\n",
      "rank\tscore\tid\tapproved\tname\n",
      "1\t1.0\t2006\ttrue    \tsodium_sulfide\n",
      "2\t1.0\t1982\ttrue    \tsodium_iodide\n",
      "3\t1.0\t1959\ttrue    \tcholine_c-11\n",
      "4\t1.0\t1920\ttrue    \tmagnesium_chloride\n",
      "5\t1.0\t1862\ttrue    \tcholine_c_11\n",
      "6\t1.0\t1801\ttrue    \tsodium_chloride\n",
      "7\t1.0\t1162\ttrue    \tmagnesium\n",
      "8\t1.0\t1013\ttrue    \tkanamycin\n",
      "9\t1.0\t927\ttrue    \tstreptomycin\n",
      "10\t1.0\t504\ttrue    \tadenosine\n",
      "\n"
     ]
    }
   ],
   "source": [
    "cando.virtual_screen(\"1u2mC\")\n",
    "cando.virtual_screen(\"3atsA\")"
   ]
  },
  {
   "cell_type": "markdown",
   "metadata": {},
   "source": [
    "Streptozocin is the 3rd ranked hit for 1u2mC, which suggests it shares significant structural similarity to a ligand known/predicted to bind to this protein. Similarly, both kanamycin and streptomycin are tied for the top rank with a perfect score of 1.0 for 3atsA, which means both of those drugs are known or strongly predicted to bind to this protein. "
   ]
  },
  {
   "cell_type": "code",
   "execution_count": null,
   "metadata": {},
   "outputs": [],
   "source": []
  }
 ],
 "metadata": {
  "kernelspec": {
   "display_name": "Python 3",
   "language": "python",
   "name": "python3"
  },
  "language_info": {
   "codemirror_mode": {
    "name": "ipython",
    "version": 3
   },
   "file_extension": ".py",
   "mimetype": "text/x-python",
   "name": "python",
   "nbconvert_exporter": "python",
   "pygments_lexer": "ipython3",
   "version": "3.7.1"
  }
 },
 "nbformat": 4,
 "nbformat_minor": 2
}
