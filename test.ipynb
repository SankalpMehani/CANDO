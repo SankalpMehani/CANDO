{
 "cells": [
  {
   "cell_type": "code",
   "execution_count": 12,
   "metadata": {},
   "outputs": [],
   "source": [
    "ligs_path = \"C:/Users/Sankalp/Desktop/Projects/CANDO/cando/data/v2.2+/ligs/fps/rd_ecfp4-int_vect.pickle\"\n",
    "cmpd_path = \"C:/Users/Sankalp/Desktop/Projects/CANDO/cando/data/v2.2+/cmpds/fps-test.0/rd_ecfp4-int_vect.pickle\""
   ]
  },
  {
   "cell_type": "code",
   "execution_count": 2,
   "metadata": {},
   "outputs": [],
   "source": [
    "import pandas as pd"
   ]
  },
  {
   "cell_type": "code",
   "execution_count": 13,
   "metadata": {},
   "outputs": [],
   "source": [
    "with open(ligs_path, 'rb') as f:\n",
    "    c_fps = pd.read_pickle(f)\n",
    "with open(cmpd_path, 'rb') as f:\n",
    "    l_fps = pd.read_pickle(f)"
   ]
  },
  {
   "cell_type": "code",
   "execution_count": 20,
   "metadata": {},
   "outputs": [
    {
     "data": {
      "text/plain": [
       "{0: <rdkit.DataStructs.cDataStructs.UIntSparseIntVect at 0x21e95a87ce0>,\n",
       " 1: <rdkit.DataStructs.cDataStructs.UIntSparseIntVect at 0x21e95a87c40>,\n",
       " 2: <rdkit.DataStructs.cDataStructs.UIntSparseIntVect at 0x21e95a87ba0>,\n",
       " 3: <rdkit.DataStructs.cDataStructs.UIntSparseIntVect at 0x21e95a87b00>,\n",
       " 4: <rdkit.DataStructs.cDataStructs.UIntSparseIntVect at 0x21e95a87a60>,\n",
       " 5: <rdkit.DataStructs.cDataStructs.UIntSparseIntVect at 0x21e95a879c0>,\n",
       " 6: <rdkit.DataStructs.cDataStructs.UIntSparseIntVect at 0x21e95a87920>,\n",
       " 7: <rdkit.DataStructs.cDataStructs.UIntSparseIntVect at 0x21e95a87880>,\n",
       " 8: <rdkit.DataStructs.cDataStructs.UIntSparseIntVect at 0x21e95a877e0>,\n",
       " 9: <rdkit.DataStructs.cDataStructs.UIntSparseIntVect at 0x21e95a87740>,\n",
       " 10: <rdkit.DataStructs.cDataStructs.UIntSparseIntVect at 0x21e95a876a0>,\n",
       " 11: <rdkit.DataStructs.cDataStructs.UIntSparseIntVect at 0x21e95a87600>,\n",
       " 12: <rdkit.DataStructs.cDataStructs.UIntSparseIntVect at 0x21e95a87560>,\n",
       " 13: <rdkit.DataStructs.cDataStructs.UIntSparseIntVect at 0x21e95a874c0>,\n",
       " 14: <rdkit.DataStructs.cDataStructs.UIntSparseIntVect at 0x21e95a87420>,\n",
       " 15: <rdkit.DataStructs.cDataStructs.UIntSparseIntVect at 0x21e95a87380>,\n",
       " 16: <rdkit.DataStructs.cDataStructs.UIntSparseIntVect at 0x21e95a872e0>,\n",
       " 17: <rdkit.DataStructs.cDataStructs.UIntSparseIntVect at 0x21e95a87240>,\n",
       " 18: <rdkit.DataStructs.cDataStructs.UIntSparseIntVect at 0x21e95a871a0>,\n",
       " 19: <rdkit.DataStructs.cDataStructs.UIntSparseIntVect at 0x21e95a87100>,\n",
       " 20: <rdkit.DataStructs.cDataStructs.UIntSparseIntVect at 0x21e95a87060>,\n",
       " 21: <rdkit.DataStructs.cDataStructs.UIntSparseIntVect at 0x21e95a86fc0>,\n",
       " 22: <rdkit.DataStructs.cDataStructs.UIntSparseIntVect at 0x21e95a86f20>,\n",
       " 23: <rdkit.DataStructs.cDataStructs.UIntSparseIntVect at 0x21e95a86e80>,\n",
       " 24: <rdkit.DataStructs.cDataStructs.UIntSparseIntVect at 0x21e95a86de0>,\n",
       " 25: <rdkit.DataStructs.cDataStructs.UIntSparseIntVect at 0x21e95a86d40>,\n",
       " 26: <rdkit.DataStructs.cDataStructs.UIntSparseIntVect at 0x21e95a86ca0>,\n",
       " 27: <rdkit.DataStructs.cDataStructs.UIntSparseIntVect at 0x21e95a86c00>,\n",
       " 28: <rdkit.DataStructs.cDataStructs.UIntSparseIntVect at 0x21e95a86b60>,\n",
       " 29: <rdkit.DataStructs.cDataStructs.UIntSparseIntVect at 0x21e95a86ac0>,\n",
       " 30: <rdkit.DataStructs.cDataStructs.UIntSparseIntVect at 0x21e95a86a20>,\n",
       " 31: <rdkit.DataStructs.cDataStructs.UIntSparseIntVect at 0x21e95a86980>,\n",
       " 32: <rdkit.DataStructs.cDataStructs.UIntSparseIntVect at 0x21e95a868e0>,\n",
       " 33: <rdkit.DataStructs.cDataStructs.UIntSparseIntVect at 0x21e95a86840>,\n",
       " 34: <rdkit.DataStructs.cDataStructs.UIntSparseIntVect at 0x21e95a867a0>,\n",
       " 35: <rdkit.DataStructs.cDataStructs.UIntSparseIntVect at 0x21e95a86700>,\n",
       " 36: <rdkit.DataStructs.cDataStructs.UIntSparseIntVect at 0x21e95a86660>,\n",
       " 37: <rdkit.DataStructs.cDataStructs.UIntSparseIntVect at 0x21e95a86570>,\n",
       " 38: <rdkit.DataStructs.cDataStructs.UIntSparseIntVect at 0x21e95a864d0>,\n",
       " 39: <rdkit.DataStructs.cDataStructs.UIntSparseIntVect at 0x21e95a86430>,\n",
       " 40: <rdkit.DataStructs.cDataStructs.UIntSparseIntVect at 0x21e95a86390>,\n",
       " 41: <rdkit.DataStructs.cDataStructs.UIntSparseIntVect at 0x21e95a862f0>,\n",
       " 42: <rdkit.DataStructs.cDataStructs.UIntSparseIntVect at 0x21e95a86250>,\n",
       " 43: <rdkit.DataStructs.cDataStructs.UIntSparseIntVect at 0x21e95a861b0>,\n",
       " 44: <rdkit.DataStructs.cDataStructs.UIntSparseIntVect at 0x21e95a86110>,\n",
       " 45: <rdkit.DataStructs.cDataStructs.UIntSparseIntVect at 0x21e95a86070>,\n",
       " 46: <rdkit.DataStructs.cDataStructs.UIntSparseIntVect at 0x21e95a85fd0>,\n",
       " 47: <rdkit.DataStructs.cDataStructs.UIntSparseIntVect at 0x21e95a85f30>,\n",
       " 48: <rdkit.DataStructs.cDataStructs.UIntSparseIntVect at 0x21e95a85e90>,\n",
       " 49: <rdkit.DataStructs.cDataStructs.UIntSparseIntVect at 0x21e95a85df0>,\n",
       " 50: <rdkit.DataStructs.cDataStructs.UIntSparseIntVect at 0x21e95a85d50>,\n",
       " 51: <rdkit.DataStructs.cDataStructs.UIntSparseIntVect at 0x21e95a85cb0>,\n",
       " 52: <rdkit.DataStructs.cDataStructs.UIntSparseIntVect at 0x21e95a85c10>,\n",
       " 53: <rdkit.DataStructs.cDataStructs.UIntSparseIntVect at 0x21e95a85b70>,\n",
       " 54: <rdkit.DataStructs.cDataStructs.UIntSparseIntVect at 0x21e95a85ad0>,\n",
       " 55: <rdkit.DataStructs.cDataStructs.UIntSparseIntVect at 0x21e95a85a30>,\n",
       " 56: <rdkit.DataStructs.cDataStructs.UIntSparseIntVect at 0x21e95a85990>,\n",
       " 57: <rdkit.DataStructs.cDataStructs.UIntSparseIntVect at 0x21e95a858f0>,\n",
       " 58: <rdkit.DataStructs.cDataStructs.UIntSparseIntVect at 0x21e95a85850>,\n",
       " 59: <rdkit.DataStructs.cDataStructs.UIntSparseIntVect at 0x21e95a857b0>,\n",
       " 60: <rdkit.DataStructs.cDataStructs.UIntSparseIntVect at 0x21e95a85710>,\n",
       " 61: <rdkit.DataStructs.cDataStructs.UIntSparseIntVect at 0x21e95a85670>,\n",
       " 62: <rdkit.DataStructs.cDataStructs.UIntSparseIntVect at 0x21e95a855d0>,\n",
       " 63: <rdkit.DataStructs.cDataStructs.UIntSparseIntVect at 0x21e95a85530>}"
      ]
     },
     "execution_count": 20,
     "metadata": {},
     "output_type": "execute_result"
    }
   ],
   "source": [
    "l_fps"
   ]
  },
  {
   "cell_type": "code",
   "execution_count": 8,
   "metadata": {},
   "outputs": [],
   "source": [
    "c_id=10673\n",
    "p_id=\"3szgD\""
   ]
  },
  {
   "cell_type": "code",
   "execution_count": 22,
   "metadata": {},
   "outputs": [
    {
     "data": {
      "text/html": [
       "<div>\n",
       "<style scoped>\n",
       "    .dataframe tbody tr th:only-of-type {\n",
       "        vertical-align: middle;\n",
       "    }\n",
       "\n",
       "    .dataframe tbody tr th {\n",
       "        vertical-align: top;\n",
       "    }\n",
       "\n",
       "    .dataframe thead th {\n",
       "        text-align: right;\n",
       "    }\n",
       "</style>\n",
       "<table border=\"1\" class=\"dataframe\">\n",
       "  <thead>\n",
       "    <tr style=\"text-align: right;\">\n",
       "      <th></th>\n",
       "      <th>0</th>\n",
       "    </tr>\n",
       "  </thead>\n",
       "  <tbody>\n",
       "    <tr>\n",
       "      <th>5f9hI_BS01</th>\n",
       "      <td>&lt;rdkit.DataStructs.cDataStructs.UIntSparseIntV...</td>\n",
       "    </tr>\n",
       "    <tr>\n",
       "      <th>1blcA_BS02</th>\n",
       "      <td>&lt;rdkit.DataStructs.cDataStructs.UIntSparseIntV...</td>\n",
       "    </tr>\n",
       "    <tr>\n",
       "      <th>2b50A_BS02</th>\n",
       "      <td>&lt;rdkit.DataStructs.cDataStructs.UIntSparseIntV...</td>\n",
       "    </tr>\n",
       "    <tr>\n",
       "      <th>3ef2A_BS08</th>\n",
       "      <td>&lt;rdkit.DataStructs.cDataStructs.UIntSparseIntV...</td>\n",
       "    </tr>\n",
       "    <tr>\n",
       "      <th>1r4pA_BS03</th>\n",
       "      <td>&lt;rdkit.DataStructs.cDataStructs.UIntSparseIntV...</td>\n",
       "    </tr>\n",
       "    <tr>\n",
       "      <th>...</th>\n",
       "      <td>...</td>\n",
       "    </tr>\n",
       "    <tr>\n",
       "      <th>2xvmA_BS01</th>\n",
       "      <td>&lt;rdkit.DataStructs.cDataStructs.UIntSparseIntV...</td>\n",
       "    </tr>\n",
       "    <tr>\n",
       "      <th>2bs3B_BS02</th>\n",
       "      <td>&lt;rdkit.DataStructs.cDataStructs.UIntSparseIntV...</td>\n",
       "    </tr>\n",
       "    <tr>\n",
       "      <th>5vuyB_BS05</th>\n",
       "      <td>&lt;rdkit.DataStructs.cDataStructs.UIntSparseIntV...</td>\n",
       "    </tr>\n",
       "    <tr>\n",
       "      <th>3u9sB_BS01</th>\n",
       "      <td>&lt;rdkit.DataStructs.cDataStructs.UIntSparseIntV...</td>\n",
       "    </tr>\n",
       "    <tr>\n",
       "      <th>3gqcB_BS01</th>\n",
       "      <td>&lt;rdkit.DataStructs.cDataStructs.UIntSparseIntV...</td>\n",
       "    </tr>\n",
       "  </tbody>\n",
       "</table>\n",
       "<p>158745 rows × 1 columns</p>\n",
       "</div>"
      ],
      "text/plain": [
       "                                                            0\n",
       "5f9hI_BS01  <rdkit.DataStructs.cDataStructs.UIntSparseIntV...\n",
       "1blcA_BS02  <rdkit.DataStructs.cDataStructs.UIntSparseIntV...\n",
       "2b50A_BS02  <rdkit.DataStructs.cDataStructs.UIntSparseIntV...\n",
       "3ef2A_BS08  <rdkit.DataStructs.cDataStructs.UIntSparseIntV...\n",
       "1r4pA_BS03  <rdkit.DataStructs.cDataStructs.UIntSparseIntV...\n",
       "...                                                       ...\n",
       "2xvmA_BS01  <rdkit.DataStructs.cDataStructs.UIntSparseIntV...\n",
       "2bs3B_BS02  <rdkit.DataStructs.cDataStructs.UIntSparseIntV...\n",
       "5vuyB_BS05  <rdkit.DataStructs.cDataStructs.UIntSparseIntV...\n",
       "3u9sB_BS01  <rdkit.DataStructs.cDataStructs.UIntSparseIntV...\n",
       "3gqcB_BS01  <rdkit.DataStructs.cDataStructs.UIntSparseIntV...\n",
       "\n",
       "[158745 rows x 1 columns]"
      ]
     },
     "execution_count": 22,
     "metadata": {},
     "output_type": "execute_result"
    }
   ],
   "source": [
    "c_fps[c_id]"
   ]
  },
  {
   "cell_type": "code",
   "execution_count": 23,
   "metadata": {},
   "outputs": [
    {
     "data": {
      "text/plain": [
       "0    <rdkit.DataStructs.cDataStructs.UIntSparseIntV...\n",
       "Name: 1ghaF_BS01, dtype: object"
      ]
     },
     "execution_count": 23,
     "metadata": {},
     "output_type": "execute_result"
    }
   ],
   "source": [
    "c_fps.iloc[c_id]"
   ]
  },
  {
   "cell_type": "code",
   "execution_count": 25,
   "metadata": {},
   "outputs": [],
   "source": [
    "from rdkit import Chem, DataStructs"
   ]
  },
  {
   "cell_type": "code",
   "execution_count": 28,
   "metadata": {},
   "outputs": [
    {
     "ename": "KeyError",
     "evalue": "'1ghaF_BS01'",
     "output_type": "error",
     "traceback": [
      "\u001b[1;31m---------------------------------------------------------------------------\u001b[0m",
      "\u001b[1;31mKeyError\u001b[0m                                  Traceback (most recent call last)",
      "Cell \u001b[1;32mIn[28], line 3\u001b[0m\n\u001b[0;32m      1\u001b[0m check \u001b[38;5;241m=\u001b[39m c_fps\u001b[38;5;241m.\u001b[39miloc[c_id]\n\u001b[0;32m      2\u001b[0m nr_ligs\u001b[38;5;241m=\u001b[39m[]\n\u001b[1;32m----> 3\u001b[0m all_scores \u001b[38;5;241m=\u001b[39m DataStructs\u001b[38;5;241m.\u001b[39mBulkDiceSimilarity(\u001b[43mc_fps\u001b[49m\u001b[43m[\u001b[49m\u001b[38;5;124;43m'\u001b[39;49m\u001b[38;5;124;43m1ghaF_BS01\u001b[39;49m\u001b[38;5;124;43m'\u001b[39;49m\u001b[43m]\u001b[49m,l_fps\u001b[38;5;241m.\u001b[39mloc[nr_ligs,\u001b[38;5;241m0\u001b[39m]\u001b[38;5;241m.\u001b[39mvalues\u001b[38;5;241m.\u001b[39mtolist())\n",
      "File \u001b[1;32mc:\\Users\\Sankalp\\AppData\\Local\\Programs\\Python\\Python311\\Lib\\site-packages\\pandas\\core\\frame.py:3761\u001b[0m, in \u001b[0;36mDataFrame.__getitem__\u001b[1;34m(self, key)\u001b[0m\n\u001b[0;32m   3759\u001b[0m \u001b[38;5;28;01mif\u001b[39;00m \u001b[38;5;28mself\u001b[39m\u001b[38;5;241m.\u001b[39mcolumns\u001b[38;5;241m.\u001b[39mnlevels \u001b[38;5;241m>\u001b[39m \u001b[38;5;241m1\u001b[39m:\n\u001b[0;32m   3760\u001b[0m     \u001b[38;5;28;01mreturn\u001b[39;00m \u001b[38;5;28mself\u001b[39m\u001b[38;5;241m.\u001b[39m_getitem_multilevel(key)\n\u001b[1;32m-> 3761\u001b[0m indexer \u001b[38;5;241m=\u001b[39m \u001b[38;5;28;43mself\u001b[39;49m\u001b[38;5;241;43m.\u001b[39;49m\u001b[43mcolumns\u001b[49m\u001b[38;5;241;43m.\u001b[39;49m\u001b[43mget_loc\u001b[49m\u001b[43m(\u001b[49m\u001b[43mkey\u001b[49m\u001b[43m)\u001b[49m\n\u001b[0;32m   3762\u001b[0m \u001b[38;5;28;01mif\u001b[39;00m is_integer(indexer):\n\u001b[0;32m   3763\u001b[0m     indexer \u001b[38;5;241m=\u001b[39m [indexer]\n",
      "File \u001b[1;32mc:\\Users\\Sankalp\\AppData\\Local\\Programs\\Python\\Python311\\Lib\\site-packages\\pandas\\core\\indexes\\range.py:349\u001b[0m, in \u001b[0;36mRangeIndex.get_loc\u001b[1;34m(self, key)\u001b[0m\n\u001b[0;32m    347\u001b[0m         \u001b[38;5;28;01mraise\u001b[39;00m \u001b[38;5;167;01mKeyError\u001b[39;00m(key) \u001b[38;5;28;01mfrom\u001b[39;00m \u001b[38;5;21;01merr\u001b[39;00m\n\u001b[0;32m    348\u001b[0m \u001b[38;5;28;01mif\u001b[39;00m \u001b[38;5;28misinstance\u001b[39m(key, Hashable):\n\u001b[1;32m--> 349\u001b[0m     \u001b[38;5;28;01mraise\u001b[39;00m \u001b[38;5;167;01mKeyError\u001b[39;00m(key)\n\u001b[0;32m    350\u001b[0m \u001b[38;5;28mself\u001b[39m\u001b[38;5;241m.\u001b[39m_check_indexing_error(key)\n\u001b[0;32m    351\u001b[0m \u001b[38;5;28;01mraise\u001b[39;00m \u001b[38;5;167;01mKeyError\u001b[39;00m(key)\n",
      "\u001b[1;31mKeyError\u001b[0m: '1ghaF_BS01'"
     ]
    }
   ],
   "source": [
    "check = c_fps.iloc[c_id]\n",
    "nr_ligs=[]\n",
    "all_scores = DataStructs.BulkDiceSimilarity(c_fps['1ghaF_BS01'],l_fps.loc[nr_ligs,0].values.tolist())"
   ]
  }
 ],
 "metadata": {
  "kernelspec": {
   "display_name": "Python 3",
   "language": "python",
   "name": "python3"
  },
  "language_info": {
   "codemirror_mode": {
    "name": "ipython",
    "version": 3
   },
   "file_extension": ".py",
   "mimetype": "text/x-python",
   "name": "python",
   "nbconvert_exporter": "python",
   "pygments_lexer": "ipython3",
   "version": "3.11.3"
  }
 },
 "nbformat": 4,
 "nbformat_minor": 2
}
